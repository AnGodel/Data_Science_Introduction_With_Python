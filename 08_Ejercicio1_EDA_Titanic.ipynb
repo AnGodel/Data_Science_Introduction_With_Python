{
 "cells": [
  {
   "cell_type": "markdown",
   "metadata": {},
   "source": [
    "# 8 - Ejercicio 1 EDA - Datos del Naufragio del Titanic\n",
    "\n",
    "\n",
    "* Para este ejercicio disponemos de una serie de datos relativos a los ***pasajeros que se embarcaron en el Titanic***, así como un flag que nos indica si ***sobrevivieron o no***.\n",
    "\n",
    "\n",
    "* Estos datos se encuentran en los siguientes ficheros:\n",
    "\n",
    "    - ***Pasajeros***: ./data/titanic/pasajeros.csv\n",
    "    - ***Supervivientes***: ./data/titanic/supervivientes.csv\n",
    "\n",
    "\n",
    "* Los ***campos que hay en el fichero de Pasajeros*** son los siguientes:\n",
    "    - PassengerId: identificador de pasajero\n",
    "    - Pclass: clase en la que viajaba 1 = 1st, 2 = 2nd, 3 = 3rd\n",
    "    - Name\n",
    "    - Sex\n",
    "    - Age\n",
    "    - SibSp: hermanos o conyujes abordo\n",
    "    - Parch: padres o hijos abordo\n",
    "    - Ticket: id del ticket\n",
    "    - Fare\n",
    "    - Cabin: id de la cabina\n",
    "    - Embarked: Puerto de embarcación C = Cherbourg, Q = Queenstown, S = Southampton\n",
    "\n",
    "* Los ***campos que hay en el fichero de Supervivientes*** son los siguientes:\n",
    "    - PassengerId:  identificador de pasajero\n",
    "    - Survived: 1: sobrevivio, 0: murió\n",
    "\n",
    "#### Para este ejercicio se pide:\n",
    "\n",
    "* Dado un DataFrame (df) ya cargado con los datos de los pasajeros y si sobrevivieron o no:\n",
    "\n",
    "    1. ***Crear una nueva columna en el DataFrame (df) llamada puerto, que contenga en Nombre del puerto*** (No el identificador del puerto)\n",
    "    2. ***Obtener el número de pasajeros que embarcaron en cada puerto*** (Cherbourg, Queenstown, Southampton)\n",
    "    3. ***Obtener cuantos hombres y mujeres embarcaron***\n",
    "    4. ***Obtener la edad media de los hombres y mujeres que sobrevivieron y murieron***\n",
    "    5. ***Obtener cuantos muertos hubo por rango de edad*** (< 18 años: jovenes, 18-65 años: adultos, 65 >: Anciano) \n",
    "    6. ***Obtener el número de muertos por clase y genero***\n",
    "    7. ***Obtener el número de muertos y supervivientes por ciudad de origen***\n",
    "\n",
    "<hr>"
   ]
  },
  {
   "cell_type": "markdown",
   "metadata": {},
   "source": [
    "#### Pasos previos:\n",
    "\n",
    "   - Importamos la librería de pandas\n",
    "   - Cargamos los ficheros y los pasamos a un DataFrame\n",
    "   - Creamos el DataFrame para realizar los ejercicios, realizando un ***inner join*** por el campo *'PassengerId'*"
   ]
  },
  {
   "cell_type": "code",
   "execution_count": 1,
   "metadata": {},
   "outputs": [
    {
     "data": {
      "text/html": [
       "<div>\n",
       "<style scoped>\n",
       "    .dataframe tbody tr th:only-of-type {\n",
       "        vertical-align: middle;\n",
       "    }\n",
       "\n",
       "    .dataframe tbody tr th {\n",
       "        vertical-align: top;\n",
       "    }\n",
       "\n",
       "    .dataframe thead th {\n",
       "        text-align: right;\n",
       "    }\n",
       "</style>\n",
       "<table border=\"1\" class=\"dataframe\">\n",
       "  <thead>\n",
       "    <tr style=\"text-align: right;\">\n",
       "      <th></th>\n",
       "      <th>PassengerId</th>\n",
       "      <th>Pclass</th>\n",
       "      <th>Name</th>\n",
       "      <th>Sex</th>\n",
       "      <th>Age</th>\n",
       "      <th>SibSp</th>\n",
       "      <th>Parch</th>\n",
       "      <th>Ticket</th>\n",
       "      <th>Fare</th>\n",
       "      <th>Cabin</th>\n",
       "      <th>Embarked</th>\n",
       "      <th>Survived</th>\n",
       "    </tr>\n",
       "  </thead>\n",
       "  <tbody>\n",
       "    <tr>\n",
       "      <th>16</th>\n",
       "      <td>17</td>\n",
       "      <td>3</td>\n",
       "      <td>Rice, Master. Eugene</td>\n",
       "      <td>male</td>\n",
       "      <td>2.0</td>\n",
       "      <td>4</td>\n",
       "      <td>1</td>\n",
       "      <td>382652</td>\n",
       "      <td>29.125</td>\n",
       "      <td>NaN</td>\n",
       "      <td>Q</td>\n",
       "      <td>0.0</td>\n",
       "    </tr>\n",
       "    <tr>\n",
       "      <th>770</th>\n",
       "      <td>771</td>\n",
       "      <td>3</td>\n",
       "      <td>Lievens, Mr. Rene Aime</td>\n",
       "      <td>male</td>\n",
       "      <td>24.0</td>\n",
       "      <td>0</td>\n",
       "      <td>0</td>\n",
       "      <td>345781</td>\n",
       "      <td>9.5</td>\n",
       "      <td>NaN</td>\n",
       "      <td>S</td>\n",
       "      <td>0.0</td>\n",
       "    </tr>\n",
       "    <tr>\n",
       "      <th>330</th>\n",
       "      <td>331</td>\n",
       "      <td>3</td>\n",
       "      <td>McCoy, Miss. Agnes</td>\n",
       "      <td>female</td>\n",
       "      <td>NaN</td>\n",
       "      <td>2</td>\n",
       "      <td>0</td>\n",
       "      <td>367226</td>\n",
       "      <td>23.25</td>\n",
       "      <td>NaN</td>\n",
       "      <td>Q</td>\n",
       "      <td>1.0</td>\n",
       "    </tr>\n",
       "    <tr>\n",
       "      <th>445</th>\n",
       "      <td>446</td>\n",
       "      <td>1</td>\n",
       "      <td>Dodge, Master. Washington</td>\n",
       "      <td>male</td>\n",
       "      <td>4.0</td>\n",
       "      <td>0</td>\n",
       "      <td>2</td>\n",
       "      <td>33638</td>\n",
       "      <td>81.8583</td>\n",
       "      <td>A34</td>\n",
       "      <td>S</td>\n",
       "      <td>1.0</td>\n",
       "    </tr>\n",
       "    <tr>\n",
       "      <th>1299</th>\n",
       "      <td>1300</td>\n",
       "      <td>3</td>\n",
       "      <td>Riordan, Miss. Johanna Hannah\"\"</td>\n",
       "      <td>female</td>\n",
       "      <td>NaN</td>\n",
       "      <td>0</td>\n",
       "      <td>0</td>\n",
       "      <td>334915</td>\n",
       "      <td>7.7208</td>\n",
       "      <td>NaN</td>\n",
       "      <td>Q</td>\n",
       "      <td>1.0</td>\n",
       "    </tr>\n",
       "  </tbody>\n",
       "</table>\n",
       "</div>"
      ],
      "text/plain": [
       "      PassengerId  Pclass                             Name     Sex   Age  \\\n",
       "16             17       3             Rice, Master. Eugene    male   2.0   \n",
       "770           771       3           Lievens, Mr. Rene Aime    male  24.0   \n",
       "330           331       3               McCoy, Miss. Agnes  female   NaN   \n",
       "445           446       1        Dodge, Master. Washington    male   4.0   \n",
       "1299         1300       3  Riordan, Miss. Johanna Hannah\"\"  female   NaN   \n",
       "\n",
       "      SibSp  Parch  Ticket     Fare Cabin Embarked  Survived  \n",
       "16        4      1  382652   29.125   NaN        Q       0.0  \n",
       "770       0      0  345781      9.5   NaN        S       0.0  \n",
       "330       2      0  367226    23.25   NaN        Q       1.0  \n",
       "445       0      2   33638  81.8583   A34        S       1.0  \n",
       "1299      0      0  334915   7.7208   NaN        Q       1.0  "
      ]
     },
     "execution_count": 1,
     "metadata": {},
     "output_type": "execute_result"
    }
   ],
   "source": [
    "import pandas as pd\n",
    "\n",
    "# Cargamos los ficheros\n",
    "df_pasajeros = pd.read_csv('./data/titanic/pasajeros.csv', header=0)\n",
    "df_supervivientes = pd.read_csv('./data/titanic/supervivientes.csv', header=0)\n",
    "\n",
    "# Join\n",
    "df = pd.merge(df_pasajeros, df_supervivientes, on='PassengerId', how='inner')\n",
    "\n",
    "df.sample(5)"
   ]
  },
  {
   "cell_type": "markdown",
   "metadata": {},
   "source": [
    "<hr>\n",
    "\n",
    "\n",
    "#### 1. ***Crear una nueva columna en el DataFrame (df) llamada puerto, que contenga en Nombre del puerto*** (No el identificador del puerto)"
   ]
  },
  {
   "cell_type": "code",
   "execution_count": 2,
   "metadata": {},
   "outputs": [],
   "source": [
    "# TODO"
   ]
  },
  {
   "cell_type": "markdown",
   "metadata": {},
   "source": [
    "<hr>\n",
    "\n",
    "\n",
    "#### 2. ***Obtener el número de pasajeros que embarcaron en cada puerto*** (Cherbourg, Queenstown, Southampton)"
   ]
  },
  {
   "cell_type": "code",
   "execution_count": 3,
   "metadata": {},
   "outputs": [],
   "source": [
    "# TODO"
   ]
  },
  {
   "cell_type": "markdown",
   "metadata": {},
   "source": [
    "<hr>\n",
    "\n",
    "\n",
    "#### 3. ***Obtener cuantos hombres y mujeres embarcaron***"
   ]
  },
  {
   "cell_type": "code",
   "execution_count": 4,
   "metadata": {},
   "outputs": [],
   "source": [
    "# TODO"
   ]
  },
  {
   "cell_type": "markdown",
   "metadata": {},
   "source": [
    "<hr>\n",
    "\n",
    "\n",
    "#### 4. Obtener la edad media de los hombres y mujeres que sobrevivieron y murieron"
   ]
  },
  {
   "cell_type": "code",
   "execution_count": 5,
   "metadata": {},
   "outputs": [],
   "source": [
    "# TODO"
   ]
  },
  {
   "cell_type": "markdown",
   "metadata": {},
   "source": [
    "<hr>\n",
    "\n",
    "\n",
    "#### 5. ***Obtener cuantos muertos hubo por rango de edad*** (< 18 años: jovenes, 18-65 años: adultos, 65 >: Anciano) "
   ]
  },
  {
   "cell_type": "code",
   "execution_count": 6,
   "metadata": {},
   "outputs": [],
   "source": [
    "# TODO"
   ]
  },
  {
   "cell_type": "markdown",
   "metadata": {},
   "source": [
    "<hr>\n",
    "\n",
    "\n",
    "#### 6. ***Obtener el número de muertos por clase y genero***"
   ]
  },
  {
   "cell_type": "code",
   "execution_count": 7,
   "metadata": {},
   "outputs": [],
   "source": [
    "# TODO"
   ]
  },
  {
   "cell_type": "markdown",
   "metadata": {},
   "source": [
    "<hr>\n",
    "\n",
    "\n",
    "#### 7. ***Obtener el número de muertos y supervivientes por ciudad de origen***"
   ]
  },
  {
   "cell_type": "code",
   "execution_count": 8,
   "metadata": {},
   "outputs": [],
   "source": [
    "# TODO"
   ]
  },
  {
   "cell_type": "markdown",
   "metadata": {},
   "source": [
    "<hr>\n",
    "\n",
    "*Este Notebook ha sido desarrollado por **Ricardo Moya García** y registrado en Safe Creative como ***Atribución-NoComercial-CompartirIgual***.*\n",
    "\n",
    "<img src=\"./imgs/CC_BY-NC-SA.png\" alt=\"CC BY-NC\">"
   ]
  }
 ],
 "metadata": {
  "kernelspec": {
   "display_name": "Python 3",
   "language": "python",
   "name": "python3"
  },
  "language_info": {
   "codemirror_mode": {
    "name": "ipython",
    "version": 3
   },
   "file_extension": ".py",
   "mimetype": "text/x-python",
   "name": "python",
   "nbconvert_exporter": "python",
   "pygments_lexer": "ipython3",
   "version": "3.6.10"
  }
 },
 "nbformat": 4,
 "nbformat_minor": 2
}

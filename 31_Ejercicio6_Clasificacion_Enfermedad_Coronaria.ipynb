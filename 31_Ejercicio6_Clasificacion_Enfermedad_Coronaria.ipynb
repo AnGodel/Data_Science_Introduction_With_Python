{
 "cells": [
  {
   "cell_type": "markdown",
   "metadata": {},
   "source": [
    "# 31 - Ejercicio 7: Clasificación de pacientes con enfermedades coronarias\n",
    "\n",
    "\n",
    "* El objetivo de este ejercicio es el de obtener un modelo capaz de predecir si un paciente tiene o no una enfermedad coronaria.\n",
    "\n",
    "\n",
    "* Sobre el Dataset se tienen las siguientes características:\n",
    "\n",
    "    - age: Edad en años\n",
    "    - sex: (1 = hombre; 0 = mujer)\n",
    "    - cp: Tipo de dolor en el pecho\n",
    "    - trestbps: Presión arterial\n",
    "    - chol: Colesterol\n",
    "    - fbs: (azúcar en sangre en ayunas> 120 mg / dl) (1 = verdadero; 0 = falso)\n",
    "    - restecg: Resultados electrocardiográficos en reposo\n",
    "    - thalach: Frecuencia cardíaca máxima alcanzada\n",
    "    - exang: Angina inducida por ejercicio (1 = sí; 0 = no)\n",
    "    - oldpeak: Depresión del ST inducida por el ejercicio relativo al descanso\n",
    "    - slope: Pendiente del segmento pico del ejercicio ST\n",
    "    - ca: Número de vasos principales (0-3) coloreados por flourosopía\n",
    "    - thal: 3 = normal; 6 = defecto fijo; 7 = defecto reversible\n",
    "    - target: 1 = Enfermo, 0 = Sano\n",
    "\n",
    "\n",
    "* En este ejercicio ***se realizará una regresión logística*** para que genere un modelo que sea capaz de clasificar a un paciente indicando si sufre o no una enfermendad coronaria.\n",
    "\n",
    "\n",
    "* Para ello hay que tomar las variables de entrada que se consideren y como variable de salida el target.\n",
    "\n",
    "\n",
    "* Para resolver este problema vamos a realizar los siguientes pasos:\n",
    "<span></span><br>\n",
    "    1. Carga de datos (Resuelto)\n",
    "<span></span><br>\n",
    "    2. ***Visualización de los datos***, de esta manera podremos seleccionar las variables que consideremos más relevantes visualmente.\n",
    "<span></span><br>\n",
    "    3. ***Cambio de estructura de datos a numpy y transformación de las etiquetas***.\n",
    "<span></span><br>\n",
    "    4. ***Creacción del modelo (hipótesis) y ajuste***.\n",
    "<span></span><br>\n",
    "    5. ***Obtención del modelo (hipótesis)***. Solo es necesario mostrar los parámetros de la función de decisión.\n",
    "<span></span><br>\n",
    "    6. ***Acierto del Modelo***. Para obtener el porcentaje de acierto del modelo hay que llamar a la función \"score(X,y)\" del objeto de la clase \"LogisticRegression()\" creado previamente.\n",
    "\n",
    "\n",
    "<hr>\n",
    "\n",
    "\n",
    "* En primer lugar vamos a importar las librerías necesarias:"
   ]
  },
  {
   "cell_type": "code",
   "execution_count": 1,
   "metadata": {},
   "outputs": [],
   "source": [
    "import warnings\n",
    "warnings.filterwarnings(\"ignore\")\n",
    "\n",
    "import math\n",
    "import numpy as np\n",
    "import pandas as pd\n",
    "import matplotlib.pyplot as plt\n",
    "import seaborn as sns\n",
    "from sklearn.linear_model import LogisticRegression\n",
    "%matplotlib inline "
   ]
  },
  {
   "cell_type": "markdown",
   "metadata": {},
   "source": [
    "### 1. Carga de datos\n",
    "\n",
    "\n",
    "* Los datos se encuentran en el fichero: **\"./data/heart_disease.csv\"**"
   ]
  },
  {
   "cell_type": "code",
   "execution_count": 2,
   "metadata": {},
   "outputs": [
    {
     "data": {
      "text/html": [
       "<div>\n",
       "<style scoped>\n",
       "    .dataframe tbody tr th:only-of-type {\n",
       "        vertical-align: middle;\n",
       "    }\n",
       "\n",
       "    .dataframe tbody tr th {\n",
       "        vertical-align: top;\n",
       "    }\n",
       "\n",
       "    .dataframe thead th {\n",
       "        text-align: right;\n",
       "    }\n",
       "</style>\n",
       "<table border=\"1\" class=\"dataframe\">\n",
       "  <thead>\n",
       "    <tr style=\"text-align: right;\">\n",
       "      <th></th>\n",
       "      <th>age</th>\n",
       "      <th>sex</th>\n",
       "      <th>cp</th>\n",
       "      <th>trestbps</th>\n",
       "      <th>chol</th>\n",
       "      <th>fbs</th>\n",
       "      <th>restecg</th>\n",
       "      <th>thalach</th>\n",
       "      <th>exang</th>\n",
       "      <th>oldpeak</th>\n",
       "      <th>slope</th>\n",
       "      <th>ca</th>\n",
       "      <th>thal</th>\n",
       "      <th>target</th>\n",
       "    </tr>\n",
       "  </thead>\n",
       "  <tbody>\n",
       "    <tr>\n",
       "      <th>194</th>\n",
       "      <td>60</td>\n",
       "      <td>1</td>\n",
       "      <td>2</td>\n",
       "      <td>140</td>\n",
       "      <td>185</td>\n",
       "      <td>0</td>\n",
       "      <td>0</td>\n",
       "      <td>155</td>\n",
       "      <td>0</td>\n",
       "      <td>3.0</td>\n",
       "      <td>1</td>\n",
       "      <td>0</td>\n",
       "      <td>2</td>\n",
       "      <td>0</td>\n",
       "    </tr>\n",
       "    <tr>\n",
       "      <th>35</th>\n",
       "      <td>46</td>\n",
       "      <td>0</td>\n",
       "      <td>2</td>\n",
       "      <td>142</td>\n",
       "      <td>177</td>\n",
       "      <td>0</td>\n",
       "      <td>0</td>\n",
       "      <td>160</td>\n",
       "      <td>1</td>\n",
       "      <td>1.4</td>\n",
       "      <td>0</td>\n",
       "      <td>0</td>\n",
       "      <td>2</td>\n",
       "      <td>1</td>\n",
       "    </tr>\n",
       "    <tr>\n",
       "      <th>210</th>\n",
       "      <td>57</td>\n",
       "      <td>1</td>\n",
       "      <td>2</td>\n",
       "      <td>128</td>\n",
       "      <td>229</td>\n",
       "      <td>0</td>\n",
       "      <td>0</td>\n",
       "      <td>150</td>\n",
       "      <td>0</td>\n",
       "      <td>0.4</td>\n",
       "      <td>1</td>\n",
       "      <td>1</td>\n",
       "      <td>3</td>\n",
       "      <td>0</td>\n",
       "    </tr>\n",
       "    <tr>\n",
       "      <th>95</th>\n",
       "      <td>53</td>\n",
       "      <td>1</td>\n",
       "      <td>0</td>\n",
       "      <td>142</td>\n",
       "      <td>226</td>\n",
       "      <td>0</td>\n",
       "      <td>0</td>\n",
       "      <td>111</td>\n",
       "      <td>1</td>\n",
       "      <td>0.0</td>\n",
       "      <td>2</td>\n",
       "      <td>0</td>\n",
       "      <td>3</td>\n",
       "      <td>1</td>\n",
       "    </tr>\n",
       "    <tr>\n",
       "      <th>173</th>\n",
       "      <td>58</td>\n",
       "      <td>1</td>\n",
       "      <td>2</td>\n",
       "      <td>132</td>\n",
       "      <td>224</td>\n",
       "      <td>0</td>\n",
       "      <td>0</td>\n",
       "      <td>173</td>\n",
       "      <td>0</td>\n",
       "      <td>3.2</td>\n",
       "      <td>2</td>\n",
       "      <td>2</td>\n",
       "      <td>3</td>\n",
       "      <td>0</td>\n",
       "    </tr>\n",
       "  </tbody>\n",
       "</table>\n",
       "</div>"
      ],
      "text/plain": [
       "     age  sex  cp  trestbps  chol  fbs  restecg  thalach  exang  oldpeak  \\\n",
       "194   60    1   2       140   185    0        0      155      0      3.0   \n",
       "35    46    0   2       142   177    0        0      160      1      1.4   \n",
       "210   57    1   2       128   229    0        0      150      0      0.4   \n",
       "95    53    1   0       142   226    0        0      111      1      0.0   \n",
       "173   58    1   2       132   224    0        0      173      0      3.2   \n",
       "\n",
       "     slope  ca  thal  target  \n",
       "194      1   0     2       0  \n",
       "35       0   0     2       1  \n",
       "210      1   1     3       0  \n",
       "95       2   0     3       1  \n",
       "173      2   2     3       0  "
      ]
     },
     "execution_count": 2,
     "metadata": {},
     "output_type": "execute_result"
    }
   ],
   "source": [
    "df = pd.read_csv(\"./data/heart_disease.csv\")\n",
    "df.sample(5)"
   ]
  },
  {
   "cell_type": "markdown",
   "metadata": {},
   "source": [
    "<hr>\n",
    "\n",
    "\n",
    "### 2. Visualización de los datos\n"
   ]
  },
  {
   "cell_type": "code",
   "execution_count": 3,
   "metadata": {},
   "outputs": [],
   "source": [
    "# TODO"
   ]
  },
  {
   "cell_type": "markdown",
   "metadata": {},
   "source": [
    "<hr>\n",
    "\n",
    "\n",
    "### 3. Cambio de estructura de datos a numpy y transformación de las etiquetas\n",
    "\n",
    "\n",
    "* En este ejemplo no será necesario transformar las etiquetas del target a números ya que de por si tienen valores 0 y 1.\n"
   ]
  },
  {
   "cell_type": "code",
   "execution_count": 4,
   "metadata": {},
   "outputs": [],
   "source": [
    "# TODO                 "
   ]
  },
  {
   "cell_type": "markdown",
   "metadata": {},
   "source": [
    "<hr>\n",
    "\n",
    "\n",
    "### 4. Creacción del modelo (hipótesis) y ajuste\n"
   ]
  },
  {
   "cell_type": "code",
   "execution_count": 5,
   "metadata": {},
   "outputs": [],
   "source": [
    "# TODO"
   ]
  },
  {
   "cell_type": "markdown",
   "metadata": {},
   "source": [
    "<hr>\n",
    "\n",
    "\n",
    "### 5. Obtención del modelo (hipótesis)\n",
    "\n",
    "\n",
    "* Obtener los parámetros de la función de decisión."
   ]
  },
  {
   "cell_type": "code",
   "execution_count": 6,
   "metadata": {},
   "outputs": [],
   "source": [
    "# TODO"
   ]
  },
  {
   "cell_type": "markdown",
   "metadata": {},
   "source": [
    "<hr>\n",
    "\n",
    "\n",
    "### 6. Acierto del Modelo\n",
    "\n",
    "\n",
    "* Para obtener el porcentaje de acierto del modelo hay que llamar a la función ***\".score(X,y)\"*** del objeto de la clase \"LogisticRegression()\" creado previamente.\n",
    "\n",
    "\n",
    "* Donde ***X son las variables de entrada*** de los datos de entrenamiento e ***y el target***."
   ]
  },
  {
   "cell_type": "code",
   "execution_count": 7,
   "metadata": {},
   "outputs": [],
   "source": [
    "# TODO"
   ]
  },
  {
   "cell_type": "markdown",
   "metadata": {},
   "source": [
    "<hr>\n",
    "\n",
    "*Este Notebook ha sido desarrollado por **Ricardo Moya García** y registrado en Safe Creative como ***Atribución-NoComercial-CompartirIgual***.*\n",
    "\n",
    "<img src=\"./imgs/CC_BY-NC-SA.png\" alt=\"CC BY-NC\">"
   ]
  }
 ],
 "metadata": {
  "kernelspec": {
   "display_name": "Python 3",
   "language": "python",
   "name": "python3"
  },
  "language_info": {
   "codemirror_mode": {
    "name": "ipython",
    "version": 3
   },
   "file_extension": ".py",
   "mimetype": "text/x-python",
   "name": "python",
   "nbconvert_exporter": "python",
   "pygments_lexer": "ipython3",
   "version": "3.6.10"
  }
 },
 "nbformat": 4,
 "nbformat_minor": 2
}

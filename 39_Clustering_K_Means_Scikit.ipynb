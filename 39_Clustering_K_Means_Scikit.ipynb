{
 "cells": [
  {
   "cell_type": "markdown",
   "metadata": {},
   "source": [
    "# 39 - Clustering: K_Means con Scikit\n",
    "\n",
    "\n",
    "* En este Notebook vamos a resolver un problema de ***Clusterización usando la librería de Scikit-Learn***.\n",
    "\n",
    "\n",
    "* Para resolver el problema de Clusterización vamos a utilizar la clase **\"KMeans()\"**, cuya documentación esta en el siguiente enlace:<br>\n",
    "https://scikit-learn.org/stable/modules/generated/sklearn.cluster.KMeans.html\n",
    "\n",
    "\n",
    "* El ejemplo con el que vamos a trabajar, consiste en ***agrupar una serie de flores*** de las que sabemos ***los tamaños de su sépalo***\n",
    "\n",
    "\n",
    "* El objetivo es ***encontrar 'K' Clusters que minimicen la Inercia*** (la suma de las distancias de cada elemento al centroide de su cluster):\n",
    "<span></span><br><br>\n",
    "<span style=\"font-size:20px\">$$\\underset{K}{argmin} \\sum_{j=1}^{k}\\sum_{x_i \\in  c_j}\\left \\| x_i - \\mu  \\right \\|^{2}$$</span>\n",
    "\n",
    "\n",
    "* Para resolver este problema vamos a realizar los siguientes pasos:\n",
    "<span></span><br>\n",
    "    1. [Carga de datos](#M1)\n",
    "<span></span><br>\n",
    "    2. [Cambio de estructura de datos a numpy](#M2)\n",
    "<span></span><br>\n",
    "    3. [Visualización de los datos](#M3)\n",
    "<span></span><br>\n",
    "    4. [Creacción del modelo (hipótesis) y ajuste](#M4)\n",
    "<span></span><br>\n",
    "    5. [Obtención del modelo (hipótesis)](#M5)\n",
    "<span></span><br>\n",
    "    6. [Visualización de los resultados](#M6)\n",
    "\n",
    "\n",
    "##### Importante: En los problemas de clusterización no conocemos el dominio de salida, por lo que para el problema que se plantea no vamos a saber el tipo de flor, solo vamos a saber los tamaños de las flores.\n",
    "\n",
    "\n",
    "* En primer lugar vamos a importar las librería necesarias:\n",
    "\n",
    "<hr>"
   ]
  },
  {
   "cell_type": "code",
   "execution_count": 1,
   "metadata": {},
   "outputs": [],
   "source": [
    "import warnings\n",
    "warnings.filterwarnings(\"ignore\")\n",
    "\n",
    "import numpy as np\n",
    "import pandas as pd\n",
    "import matplotlib.pyplot as plt\n",
    "import seaborn as sns\n",
    "from sklearn.cluster import KMeans\n",
    "%matplotlib inline "
   ]
  },
  {
   "cell_type": "markdown",
   "metadata": {},
   "source": [
    "<hr>\n",
    "\n",
    "\n",
    "## <a name=\"M1\">1. Carga de datos</a>\n",
    "\n",
    "\n",
    "* El primer paso que vamos a realizar es el de cargar los datos que los tenemos en el siguiente fichero:\n",
    "    - ***DataSet***: \"./data/iris/iris_para_clustering.csv\"\n",
    "\n",
    "\n",
    "* Para ello ***leeremos el csv con pandas*** (pasandolo a un dataframe), teniendo las siguientes columnas que nos interesan para el problema a resolver:\n",
    "    - ***sepal_length***: El \"largo\" del Sepalo\n",
    "    - ***sepal_width***: El \"ancho\" del Sepalo\n"
   ]
  },
  {
   "cell_type": "code",
   "execution_count": 2,
   "metadata": {},
   "outputs": [
    {
     "data": {
      "text/html": [
       "<div>\n",
       "<style scoped>\n",
       "    .dataframe tbody tr th:only-of-type {\n",
       "        vertical-align: middle;\n",
       "    }\n",
       "\n",
       "    .dataframe tbody tr th {\n",
       "        vertical-align: top;\n",
       "    }\n",
       "\n",
       "    .dataframe thead th {\n",
       "        text-align: right;\n",
       "    }\n",
       "</style>\n",
       "<table border=\"1\" class=\"dataframe\">\n",
       "  <thead>\n",
       "    <tr style=\"text-align: right;\">\n",
       "      <th></th>\n",
       "      <th>sepal_length</th>\n",
       "      <th>sepal_width</th>\n",
       "    </tr>\n",
       "  </thead>\n",
       "  <tbody>\n",
       "    <tr>\n",
       "      <th>6</th>\n",
       "      <td>4.6</td>\n",
       "      <td>3.4</td>\n",
       "    </tr>\n",
       "    <tr>\n",
       "      <th>60</th>\n",
       "      <td>5.0</td>\n",
       "      <td>2.0</td>\n",
       "    </tr>\n",
       "    <tr>\n",
       "      <th>4</th>\n",
       "      <td>5.0</td>\n",
       "      <td>3.6</td>\n",
       "    </tr>\n",
       "    <tr>\n",
       "      <th>132</th>\n",
       "      <td>6.4</td>\n",
       "      <td>2.8</td>\n",
       "    </tr>\n",
       "    <tr>\n",
       "      <th>103</th>\n",
       "      <td>6.3</td>\n",
       "      <td>2.9</td>\n",
       "    </tr>\n",
       "  </tbody>\n",
       "</table>\n",
       "</div>"
      ],
      "text/plain": [
       "     sepal_length  sepal_width\n",
       "6             4.6          3.4\n",
       "60            5.0          2.0\n",
       "4             5.0          3.6\n",
       "132           6.4          2.8\n",
       "103           6.3          2.9"
      ]
     },
     "execution_count": 2,
     "metadata": {},
     "output_type": "execute_result"
    }
   ],
   "source": [
    "df = pd.read_csv(\"./data/iris/iris_para_clustering.csv\")\n",
    "df[['sepal_length', 'sepal_width']].sample(5)"
   ]
  },
  {
   "cell_type": "markdown",
   "metadata": {},
   "source": [
    "<hr>\n",
    "\n",
    "\n",
    "## <a name=\"M2\">2. Cambio de estructura de datos a numpy\n",
    "    \n",
    "* Scikit necesita como entrada para el ajuste (o entrenamiento) de los modelos de Clustering los datos del Dataset de la siguiente forma:\n",
    "<span></span><br><br>\n",
    "    - ***Variables de entrada X***: ***Array de Arrays de numpy*** en el que cada array tiene las variables de entrada de un elemento.\n",
    "\n",
    "\n",
    "* Por tanto, vamos a pasar los datos las flores a una nueva estructura de datos para que scikit-learn puedan trabajar con los datos:\n",
    "<span></span><br><br>\n",
    "    - Las ***columnas sepal_length y sepal_width*** representan las variables de entrada y las vamos a pasar a un array de array (***numpy array***)\n"
   ]
  },
  {
   "cell_type": "code",
   "execution_count": 3,
   "metadata": {},
   "outputs": [],
   "source": [
    "X = df[['sepal_length', 'sepal_width']].values   # Obtengo el alto y ancho del sepalo"
   ]
  },
  {
   "cell_type": "markdown",
   "metadata": {},
   "source": [
    "<hr>\n",
    "\n",
    "\n",
    "## <a name=\"M3\">3. Visualización de los datos\n",
    "    \n",
    "* Vamos a pasar a ver la relación que hay entre el alto y ancho del sepalo de las flores, para ver si podemos apreciar de manera visual los grupo de flores que puede haber.\n",
    "\n",
    "\n",
    "##### NOTA: Este es un ejercicio con finalidades didácticas y se pueden hacer estos ejercicios introspectivos. En los casos reales el clustering se hace sobre muchas más variables y no se pueden apreciar de esta manera las relaciones entre variables.\n"
   ]
  },
  {
   "cell_type": "code",
   "execution_count": 4,
   "metadata": {},
   "outputs": [
    {
     "data": {
      "text/plain": [
       "<matplotlib.axes._subplots.AxesSubplot at 0x7fbcbf152908>"
      ]
     },
     "execution_count": 4,
     "metadata": {},
     "output_type": "execute_result"
    },
    {
     "data": {
      "image/png": "[encoded data removed]",
      "text/plain": [
       "<Figure size 432x288 with 1 Axes>"
      ]
     },
     "metadata": {
      "needs_background": "light"
     },
     "output_type": "display_data"
    }
   ],
   "source": [
    "sns.scatterplot(x=\"sepal_length\", y=\"sepal_width\", data = df)"
   ]
  },
  {
   "cell_type": "markdown",
   "metadata": {},
   "source": [
    "<hr>\n",
    "\n",
    "\n",
    "## <a name=\"M4\">4. Creacción del modelo (hipótesis) y ajuste\n"
   ]
  },
  {
   "cell_type": "code",
   "execution_count": 5,
   "metadata": {},
   "outputs": [
    {
     "data": {
      "text/plain": [
       "KMeans(init='random', max_iter=50, n_clusters=3)"
      ]
     },
     "execution_count": 5,
     "metadata": {},
     "output_type": "execute_result"
    }
   ],
   "source": [
    "# Creamos un objeto de la clase \"KMeans()\"\n",
    "kmeans = KMeans(n_clusters=3, max_iter=50, init=\"random\")\n",
    "\n",
    "# Ajustamos el modelo\n",
    "kmeans.fit(X)"
   ]
  },
  {
   "cell_type": "markdown",
   "metadata": {},
   "source": [
    "<hr>\n",
    "\n",
    "\n",
    "## <a name=\"M5\">5. Obtención del modelo (hipótesis)\n",
    "\n",
    "\n",
    "* Tras ajustar el modelo podemos obtener los siguientes valores:\n",
    "\n",
    "    1. ***El valor de cada uno de los centroides***: Esto lo hacemos llamando al atributo ***\"cluster_centers_\"*** de la clase Kmeans.\n",
    "    2. ***El valor de la inercia***: Esto lo hacemos llamando al atributo ***\"inertia_\"*** de la clase Kmeans.\n",
    "    3. ***A que cluster pertenece cada item***:  Esto lo hacemos llamando al atributo ***\"labels_\"*** de la clase Kmeans."
   ]
  },
  {
   "cell_type": "code",
   "execution_count": 6,
   "metadata": {},
   "outputs": [
    {
     "name": "stdout",
     "output_type": "stream",
     "text": [
      "Cluster 1\n",
      "\tCentroide: [5.006 3.418]\n",
      "Cluster 2\n",
      "\tCentroide: [6.81276596 3.07446809]\n",
      "Cluster 3\n",
      "\tCentroide: [5.77358491 2.69245283]\n"
     ]
    }
   ],
   "source": [
    "# Valores de los centroides\n",
    "centroides = kmeans.cluster_centers_\n",
    "for index, centroide in enumerate(centroides):\n",
    "    print(\"Cluster {}\".format(index + 1))\n",
    "    print(\"\\tCentroide: {}\".format(centroide))"
   ]
  },
  {
   "cell_type": "code",
   "execution_count": 7,
   "metadata": {},
   "outputs": [
    {
     "data": {
      "text/plain": [
       "37.1237021276596"
      ]
     },
     "execution_count": 7,
     "metadata": {},
     "output_type": "execute_result"
    }
   ],
   "source": [
    "# Valor de la inercia\n",
    "kmeans.inertia_"
   ]
  },
  {
   "cell_type": "code",
   "execution_count": 8,
   "metadata": {},
   "outputs": [
    {
     "data": {
      "text/plain": [
       "array([0, 0, 0, 0, 0, 0, 0, 0, 0, 0, 0, 0, 0, 0, 0, 0, 0, 0, 0, 0, 0, 0,\n",
       "       0, 0, 0, 0, 0, 0, 0, 0, 0, 0, 0, 0, 0, 0, 0, 0, 0, 0, 0, 0, 0, 0,\n",
       "       0, 0, 0, 0, 0, 0, 1, 1, 1, 2, 1, 2, 1, 2, 1, 2, 2, 2, 2, 2, 2, 1,\n",
       "       2, 2, 2, 2, 2, 2, 2, 2, 1, 1, 1, 1, 2, 2, 2, 2, 2, 2, 2, 2, 1, 2,\n",
       "       2, 2, 2, 2, 2, 2, 2, 2, 2, 2, 2, 2, 1, 2, 1, 1, 1, 1, 2, 1, 1, 1,\n",
       "       1, 1, 1, 2, 2, 1, 1, 1, 1, 2, 1, 2, 1, 2, 1, 1, 2, 2, 1, 1, 1, 1,\n",
       "       1, 2, 2, 1, 1, 1, 2, 1, 1, 1, 2, 1, 1, 1, 2, 1, 1, 2], dtype=int32)"
      ]
     },
     "execution_count": 8,
     "metadata": {},
     "output_type": "execute_result"
    }
   ],
   "source": [
    "# Etiqueta del cluster a la que se asigna cada elemento\n",
    "kmeans.labels_"
   ]
  },
  {
   "cell_type": "markdown",
   "metadata": {},
   "source": [
    "<hr>\n",
    "\n",
    "\n",
    "## <a name=\"M6\">6. Visualización de los resultados\n",
    "    \n",
    "\n",
    "* A continuación pasamos a representar en un espacio de dos dimensiones cómo agruparía nuestro modelo en ese espacio 2D y cómo asigna a cada Cluster los elementos del Dataset con el que ha entrenado:\n",
    "\n",
    "\n",
    "* En primer lugar vamos a definir una malla de puntos (\"meshgrid\") que se utilizará para pintar las regiones de cada cluster. El objetivo de construir esta malla es la de predecir cada punto de la malla como si fuesen los datos de entrada de una flor con esos valores de alto y ancho.\n",
    "\n",
    "\n",
    "* Para ello miramos los valores máximos y mínimos de los tamaños de la flor para acotar la región a pintar y posteriormente generamos el conjunto de puntos a predecir (asignar en el Cluster), llamando a la función ***\"predict(X)\"***"
   ]
  },
  {
   "cell_type": "code",
   "execution_count": 9,
   "metadata": {},
   "outputs": [],
   "source": [
    "x_min, x_max = X[:, 0].min() - .5, X[:, 0].max() + .5\n",
    "y_min, y_max = X[:, 1].min() - .5, X[:, 1].max() + .5\n",
    "h = .01\n",
    "xx, yy = np.meshgrid(np.arange(x_min, x_max, h), np.arange(y_min, y_max, h))\n",
    "\n",
    "# Predicción de cada uno de los puntos de la malla\n",
    "Z = kmeans.predict(np.c_[xx.ravel(), yy.ravel()])"
   ]
  },
  {
   "cell_type": "markdown",
   "metadata": {},
   "source": [
    "* Pasamos a pintar las regiones de cada Cluster así como los datos del dataset."
   ]
  },
  {
   "cell_type": "code",
   "execution_count": 10,
   "metadata": {},
   "outputs": [
    {
     "data": {
      "image/png": "[encoded data removed]",
      "text/plain": [
       "<Figure size 576x432 with 1 Axes>"
      ]
     },
     "metadata": {
      "needs_background": "light"
     },
     "output_type": "display_data"
    }
   ],
   "source": [
    "Z = Z.reshape(xx.shape)\n",
    "plt.figure(1, figsize=(8, 6))\n",
    "\n",
    "# Dibujamos la malla con los diferentes colores\n",
    "plt.pcolormesh(xx, yy, Z, cmap=plt.cm.Pastel1)\n",
    "\n",
    "\n",
    "# Dibujamos los puntos (flores) del dataset\n",
    "labels = kmeans.labels_\n",
    "plt.scatter(X[:, 0], X[:, 1], c=labels, edgecolors='k', cmap=plt.cm.viridis)\n",
    "\n",
    "# Dibujamos los Centroides\n",
    "centroides = kmeans.cluster_centers_\n",
    "plt.plot(centroides[:, 0], centroides[:, 1], 'o', markeredgecolor='k', markersize=14)\n",
    "\n",
    "plt.title('Clustering')\n",
    "plt.xlabel('Sepal length')\n",
    "plt.ylabel('Sepal width')\n",
    "plt.show()"
   ]
  },
  {
   "cell_type": "markdown",
   "metadata": {},
   "source": [
    "<hr>\n",
    "\n",
    "*Este Notebook ha sido desarrollado por **Ricardo Moya García** y registrado en Safe Creative como ***Atribución-NoComercial-CompartirIgual***.*\n",
    "\n",
    "<img src=\"./imgs/CC_BY-NC-SA.png\" alt=\"CC BY-NC\">"
   ]
  }
 ],
 "metadata": {
  "kernelspec": {
   "display_name": "Python 3",
   "language": "python",
   "name": "python3"
  },
  "language_info": {
   "codemirror_mode": {
    "name": "ipython",
    "version": 3
   },
   "file_extension": ".py",
   "mimetype": "text/x-python",
   "name": "python",
   "nbconvert_exporter": "python",
   "pygments_lexer": "ipython3",
   "version": "3.6.10"
  }
 },
 "nbformat": 4,
 "nbformat_minor": 2
}

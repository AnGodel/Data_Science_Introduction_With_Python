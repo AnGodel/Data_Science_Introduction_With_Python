{
 "cells": [
  {
   "cell_type": "markdown",
   "metadata": {},
   "source": [
    "# 38 - Clustering: K-Means\n",
    "\n",
    "\n",
    "* En este Notebook vamos a ver como solucionar problemas de ***Clusterización con la técnica del K-Means*** y como se implementa.\n",
    "\n",
    "\n",
    "* Vamos a tratar los siguientes puntos:\n",
    "<span></span><br>\n",
    "    1. [Clustering](#M1)\n",
    "<span></span><br>\n",
    "    2. [K-Means](#M2)\n",
    "<span></span><br>\n",
    "    3. [Pseudocódigo del K-Means](#M3)\n",
    "<span></span><br>\n",
    "    4. [Implementación: K-Means](#M4)\n",
    "<span></span><br>\n",
    "    5. [Ejemplo de Clustering](#M5)\n",
    "<span></span><br>\n",
    "    6. [Resultados](#M6)\n",
    "\n",
    "\n",
    "<hr>\n",
    "\n",
    "\n",
    "\n",
    "# <a name=\"M1\">1. Clustering</a>\n",
    "\n",
    "\n",
    "* El ***Clustering*** es una ***tarea***; dentro del ***aprendizaje NO SUPERVISADO***, que consiste en ***agrupar un conjunto de objetos (no etiquetados) en subconjuntos de objetos llamados Clusters***.\n",
    "\n",
    "\n",
    "* ***Cada Cluster está formado por una colección de objetos que son similares (o se consideran similares) entre sí, pero que son distintos respecto a los objetos de otros Clusters***.\n",
    "\n",
    "\n",
    "<img src=\"./imgs/40_01_cl.png\" style=\"width: 500px;\"/>\n",
    "\n",
    "\n",
    "* Para el ***Clustering, solo disponemos de un conjunto de datos de entrada (aprendizaje NO SUPEERVISADO)***, sobre los que ***debemos obtener información sobre la estructura del dominio de salida***, que es una información de la cual no se dispone.\n",
    "\n",
    "\n",
    "* En el Clustering definimos:\n",
    "<span></span><br><br>\n",
    "    + **<span style=\"font-size:18px\">Cluster</span>**: Conjunto de objetos que son similares entre sí.\n",
    "<span></span><br><br>  \n",
    "    + **<span style=\"font-size:18px\">Clustering</span>**: Tarea de dividir un conjunto de objetos en subconjuntos de objetos (Clusters) similares entre sí.\n",
    "\n",
    "<hr>\n",
    "\n",
    "\n",
    "# <a name=\"M2\">2. K-Means</a>\n",
    "\n",
    "\n",
    "* El ***K-Means es un método de Clustering que separa <span style=\"color:red\">‘K’ grupos de objetos</span> (Clusters) de similar varianza, minimizando un concepto conocido como inercia.***\n",
    "\n",
    "\n",
    "<img src=\"./imgs/40_02_cl.png\" style=\"width: 700px;\"/>\n",
    "\n",
    "\n",
    "* La ***Inercia es la suma de las distancias al cuadrado de cada objeto del Cluster a un punto ‘μ’ conocido como <span style=\"color:red\">Centroide</span>*** (punto medio de todos los objetos del Cluster).\n",
    "\n",
    "<span style=\"font-size:20px\">$$Inercia = \\sum_{i=0}^{N} \\left \\| x_i - \\mu  \\right \\|^{2}$$</span>\n",
    "\n",
    "\n",
    "* El algoritmo del K-Means tiene como objetivo ***elegir ‘K’ centroides que reduzcan al mínimo la inercia***:\n",
    "\n",
    "<span style=\"font-size:20px\">$$\\underset{K}{argmin} \\sum_{j=1}^{k}\\sum_{x_i \\in  c_j}\\left \\| x_i - \\mu  \\right \\|^{2}$$</span>\n",
    "\n",
    "<hr>\n",
    "\n",
    "\n",
    "# <a name=\"M3\">3. Pseudocódigo del K-Means</a>\n",
    "\n",
    "\n",
    "* El algoritmo del K-Means funciona de la siguiente manera:\n",
    "\n",
    "    1. ***Inicialización***: Elige un centroide para cada uno de los ‘k’ Cluster. Lo puede elegir bien de forma aleatoria, eligiendo ‘k’ puntos del dataset al azar, etc.\n",
    "<span></span><br><br>\n",
    "    2. ***Loop***: Asignación-Actualización hasta converger:\n",
    "<span></span><br><br>\n",
    "        * ***Asignación***: Se asigna cada objeto del dataset al Cluster más cercano, aplicando alguna medida de distancia (como por ejemplo la distancia euclídea) entre el objeto y el centroide del Cluster.\n",
    "<span></span><br><br>\n",
    "        <span style=\"font-size:20px\">$$d_e(X,\\mu ) = \\sqrt{\\sum_{i=1}^{n} (x_i - \\mu_i)^2}$$</span>\n",
    "<span></span><br><br>\n",
    "        * ***Actualización***: Calcula los nuevos centroides, haciendo la media de los objetos que forman el Cluster.\n",
    "<span></span><br><br>\n",
    "        <span style=\"font-size:20px\">$$\\mu = \\frac{1}{N} \\sum_{j=1}^{N} x_j $$</span>\n",
    "\n",
    "\n",
    "\n",
    "* Un ejemplo visual de como se haría el Clustering para agrupar elementos definidos por dos variables (coordenadas), sería:\n",
    "\n",
    "<img src=\"./imgs/40_03_cl.png\" style=\"width: 900px;\"/>\n",
    "\n",
    "\n",
    "* Veamos a continuación el Pseudocódigo:\n",
    "\n",
    "\n",
    "```python\n",
    "num_clusters = N\n",
    "num_iteraciones = 100\n",
    "condicion_parada = False\n",
    "\n",
    "# Inicializamos los 'N' Clusters: por ejemplo asinando como centroides 'N' elementos seleccionados al azar\n",
    "centroides_clusters = random_list(num_clusters)\n",
    "\n",
    "it_counter\n",
    "while not condicion_parada and it_counter < num_iteraciones:\n",
    "    \n",
    "    # Creo una variable para guardar el estado de los Clusters Anteriores\n",
    "    centroides_old = centroides_clusters\n",
    "    \n",
    "    # Actualización\n",
    "    for elemento in dataset:\n",
    "        distancia_centroides = lista(num_clusters)\n",
    "        for index, centroide in centroides_old:\n",
    "            distancia_centroides[index] = distancia_euclidea(elemento, centroide)\n",
    "        elementos_clusters[argmin(distancia_centroides)].append(elemento)\n",
    "    \n",
    "    \n",
    "    # Asignacion\n",
    "    for index, centroide_cluster in centroides_clusters:\n",
    "        centroides_clusters = avg(elementos_clusters[index])\n",
    "        \n",
    "    it_counter+= 1\n",
    "\n",
    "```\n",
    "\n",
    "<hr>\n",
    "\n",
    "\n",
    "# <a name=\"M4\">4. Implementación: K-Means</a>\n",
    "\n",
    "\n",
    "* En el siguiente fragmento de código está implementado el ***K-Means***, siguiendo el Pseudocódigo mostrado anteriormente junto con alguna lógica programática adicional.\n",
    "\n"
   ]
  },
  {
   "cell_type": "code",
   "execution_count": 1,
   "metadata": {},
   "outputs": [],
   "source": [
    "import numpy as np\n",
    "from scipy.spatial import distance\n",
    "\n",
    "def print_iteration_status(iteracion_num, centroides_clusters, elementos_clusters):\n",
    "    \"\"\"\n",
    "    Función que imprime por pantalla el estado de los Clsuters por iteracion\n",
    "        - iteracion_num: número del epoch.\n",
    "        - centroides_clusters: Valores de los centroides del Cluster\n",
    "        - elementos_clusters: Elementos que hay en cada Cluster\n",
    "    \"\"\"\n",
    "    print('\\nITERATION {}'.format(iteracion_num))\n",
    "    for index, elem in enumerate(centroides_clusters):\n",
    "        print('\\tCluster {}'.format(index + 1))\n",
    "        print('\\t\\tNúmero de elementos en el Cluster {}'.format(len(elementos_clusters[index])))\n",
    "        print('\\t\\tCentroide: {}'.format(elem))\n",
    "\n",
    "\n",
    "def k_means(X, num_clusters, num_iteraciones, verbose=False):\n",
    "    \"\"\"\n",
    "    Función que devuelve el modelo o hipótesis de la Clusterización (estado final de los Clusters),\n",
    "    recibiendo como parámetros:\n",
    "        - X: Elementos\n",
    "        - num_clusters: Número de Clusters\n",
    "        - num_iteraciones: Número de Iteraciones máximas a ejecutar\n",
    "        - verbose: Boolean para indicar si queremos imprimir por pantalla el estado de la iteracion\n",
    "    \"\"\"\n",
    "    # Inicializamos los centroides de los Clusters de forma aleatoria\n",
    "    centroides_clusters = np.array([X[i] for i in np.random.choice(X.shape[0], num_clusters)])\n",
    "\n",
    "    converge = False\n",
    "    it_counter = 0\n",
    "    while (not converge) and (it_counter < num_iteraciones):\n",
    "\n",
    "        # Inicializamos una lista de los elementos que formarán el Cluster\n",
    "        elementos_clusters = [[] for i in range(num_clusters)]\n",
    "\n",
    "        # Creamos una copia de los centroides de la iteración anterior\n",
    "        centroides_clusters_old = centroides_clusters.copy()\n",
    "\n",
    "        # Asignacion\n",
    "        for elem in X:\n",
    "            distancia_centroides = np.zeros(len(centroides_clusters_old))\n",
    "            for index, centroide in enumerate(centroides_clusters_old):\n",
    "                distancia_centroides[index] = distance.euclidean(elem, centroide)\n",
    "            elementos_clusters[np.argmin(distancia_centroides)].append(elem)\n",
    "\n",
    "        # Actualización\n",
    "        for index, centroide in enumerate(centroides_clusters_old):\n",
    "            centroides_clusters[index] = np.asarray([sum(i) for i in zip(*elementos_clusters[index])]) / len(\n",
    "                elementos_clusters[index])\n",
    "\n",
    "        # Condición de parada, si los Nuevos centroides son iguales que los anteriores\n",
    "        converge = [np.array_equal(centroides_clusters[index], centroides_clusters_old[index])\n",
    "                    for index, elem in enumerate(centroides_clusters)].count(False) == 0\n",
    "\n",
    "        # Incremento Iteracion\n",
    "        it_counter += 1\n",
    "\n",
    "        # Imprimimos por pantalla el estado de los Clusters\n",
    "        if verbose:\n",
    "            print_iteration_status(it_counter, centroides_clusters, elementos_clusters)\n",
    "    \n",
    "    return centroides_clusters, elementos_clusters"
   ]
  },
  {
   "cell_type": "markdown",
   "metadata": {},
   "source": [
    "<hr>\n",
    "\n",
    "\n",
    "# <a name=\"M5\">5. Ejemplo de Clustering</a>\n",
    "\n",
    "\n",
    "\n",
    "* Dado un ***conjunto de datos*** que tiene dos variables numéricas, vamos a agruparlas en 3 grupos o Clusters.\n",
    "\n",
    "\n",
    "* Este conjunto de datos se encuentra en: ***'./data/DS_3Clusters_999Puntos.txt'***\n",
    "\n",
    "\n",
    "* En primer lugar vamos a cargar los datos.\n"
   ]
  },
  {
   "cell_type": "code",
   "execution_count": 2,
   "metadata": {},
   "outputs": [
    {
     "data": {
      "text/html": [
       "<div>\n",
       "<style scoped>\n",
       "    .dataframe tbody tr th:only-of-type {\n",
       "        vertical-align: middle;\n",
       "    }\n",
       "\n",
       "    .dataframe tbody tr th {\n",
       "        vertical-align: top;\n",
       "    }\n",
       "\n",
       "    .dataframe thead th {\n",
       "        text-align: right;\n",
       "    }\n",
       "</style>\n",
       "<table border=\"1\" class=\"dataframe\">\n",
       "  <thead>\n",
       "    <tr style=\"text-align: right;\">\n",
       "      <th></th>\n",
       "      <th>X1</th>\n",
       "      <th>X2</th>\n",
       "    </tr>\n",
       "  </thead>\n",
       "  <tbody>\n",
       "    <tr>\n",
       "      <th>462</th>\n",
       "      <td>1.987217</td>\n",
       "      <td>2.075017</td>\n",
       "    </tr>\n",
       "    <tr>\n",
       "      <th>160</th>\n",
       "      <td>1.579107</td>\n",
       "      <td>1.683219</td>\n",
       "    </tr>\n",
       "    <tr>\n",
       "      <th>651</th>\n",
       "      <td>1.729299</td>\n",
       "      <td>3.057628</td>\n",
       "    </tr>\n",
       "    <tr>\n",
       "      <th>525</th>\n",
       "      <td>1.844920</td>\n",
       "      <td>1.860920</td>\n",
       "    </tr>\n",
       "  </tbody>\n",
       "</table>\n",
       "</div>"
      ],
      "text/plain": [
       "           X1        X2\n",
       "462  1.987217  2.075017\n",
       "160  1.579107  1.683219\n",
       "651  1.729299  3.057628\n",
       "525  1.844920  1.860920"
      ]
     },
     "execution_count": 2,
     "metadata": {},
     "output_type": "execute_result"
    }
   ],
   "source": [
    "import pandas as pd\n",
    "\n",
    "df = pd.read_table('./data/DS_3Clusters_999Puntos.txt', sep='::', header=None, names=['X1', 'X2'], engine='python')\n",
    "df.sample(4)"
   ]
  },
  {
   "cell_type": "markdown",
   "metadata": {},
   "source": [
    "* Representando estos datos en una gráfica de dispersión, podemos distinguir 3 grupos (clusters) de puntos."
   ]
  },
  {
   "cell_type": "code",
   "execution_count": 3,
   "metadata": {},
   "outputs": [
    {
     "data": {
      "text/plain": [
       "<matplotlib.axes._subplots.AxesSubplot at 0x7fb9d0467518>"
      ]
     },
     "execution_count": 3,
     "metadata": {},
     "output_type": "execute_result"
    },
    {
     "data": {
      "image/png": "[encoded data removed]",
      "text/plain": [
       "<Figure size 432x288 with 1 Axes>"
      ]
     },
     "metadata": {
      "needs_background": "light"
     },
     "output_type": "display_data"
    }
   ],
   "source": [
    "import matplotlib.pyplot as plt\n",
    "import seaborn as sns\n",
    "%matplotlib inline \n",
    "\n",
    "sns.scatterplot(x=\"X1\", y=\"X2\", data = df)"
   ]
  },
  {
   "cell_type": "markdown",
   "metadata": {},
   "source": [
    "* Vamos a ejecutar el K-Means para obtener los centroides de los clusters pasandole los siguientes parámetros:\n",
    "    + ***Número de Clusters*** = 3\n",
    "    + ***Número Máximo de Iteracciones*** = 100"
   ]
  },
  {
   "cell_type": "code",
   "execution_count": 4,
   "metadata": {},
   "outputs": [
    {
     "name": "stdout",
     "output_type": "stream",
     "text": [
      "\n",
      "ITERATION 1\n",
      "\tCluster 1\n",
      "\t\tNúmero de elementos en el Cluster 561\n",
      "\t\tCentroide: [1.968402   2.15292836]\n",
      "\tCluster 2\n",
      "\t\tNúmero de elementos en el Cluster 147\n",
      "\t\tCentroide: [2.00243953 4.09445674]\n",
      "\tCluster 3\n",
      "\t\tNúmero de elementos en el Cluster 291\n",
      "\t\tCentroide: [4.68543947 2.83052368]\n",
      "\n",
      "ITERATION 2\n",
      "\tCluster 1\n",
      "\t\tNúmero de elementos en el Cluster 572\n",
      "\t\tCentroide: [2.03174321 2.0025339 ]\n",
      "\tCluster 2\n",
      "\t\tNúmero de elementos en el Cluster 187\n",
      "\t\tCentroide: [1.99921067 4.01443525]\n",
      "\tCluster 3\n",
      "\t\tNúmero de elementos en el Cluster 240\n",
      "\t\tCentroide: [5.10868962 3.07171485]\n",
      "\n",
      "ITERATION 3\n",
      "\tCluster 1\n",
      "\t\tNúmero de elementos en el Cluster 574\n",
      "\t\tCentroide: [2.04172578 1.99650307]\n",
      "\tCluster 2\n",
      "\t\tNúmero de elementos en el Cluster 191\n",
      "\t\tCentroide: [2.02022231 4.00032196]\n",
      "\tCluster 3\n",
      "\t\tNúmero de elementos en el Cluster 234\n",
      "\t\tCentroide: [5.14650411 3.09105165]\n",
      "\n",
      "ITERATION 4\n",
      "\tCluster 1\n",
      "\t\tNúmero de elementos en el Cluster 575\n",
      "\t\tCentroide: [2.04429024 1.99783017]\n",
      "\tCluster 2\n",
      "\t\tNúmero de elementos en el Cluster 191\n",
      "\t\tCentroide: [2.02022231 4.00032196]\n",
      "\tCluster 3\n",
      "\t\tNúmero de elementos en el Cluster 233\n",
      "\t\tCentroide: [5.15350073 3.09247426]\n",
      "\n",
      "ITERATION 5\n",
      "\tCluster 1\n",
      "\t\tNúmero de elementos en el Cluster 575\n",
      "\t\tCentroide: [2.04429024 1.99783017]\n",
      "\tCluster 2\n",
      "\t\tNúmero de elementos en el Cluster 191\n",
      "\t\tCentroide: [2.02022231 4.00032196]\n",
      "\tCluster 3\n",
      "\t\tNúmero de elementos en el Cluster 233\n",
      "\t\tCentroide: [5.15350073 3.09247426]\n"
     ]
    }
   ],
   "source": [
    "# Leemos los datos\n",
    "X = np.loadtxt('./data/DS_3Clusters_999Puntos.txt', delimiter='::')\n",
    "\n",
    "# Ejecutamos el k_means\n",
    "np.random.seed(1)\n",
    "centroides, elementos_cluster = k_means(X=X, num_clusters=3, num_iteraciones=100, verbose=True)"
   ]
  },
  {
   "cell_type": "markdown",
   "metadata": {},
   "source": [
    "* Vamos a mostrar el estado final de los Clusters y el número de elementos que hay en cada uno de ellos:"
   ]
  },
  {
   "cell_type": "code",
   "execution_count": 5,
   "metadata": {},
   "outputs": [
    {
     "name": "stdout",
     "output_type": "stream",
     "text": [
      "RESULTADO FINAL:\n",
      "\n",
      "ITERATION -\n",
      "\tCluster 1\n",
      "\t\tNúmero de elementos en el Cluster 575\n",
      "\t\tCentroide: [2.04429024 1.99783017]\n",
      "\tCluster 2\n",
      "\t\tNúmero de elementos en el Cluster 191\n",
      "\t\tCentroide: [2.02022231 4.00032196]\n",
      "\tCluster 3\n",
      "\t\tNúmero de elementos en el Cluster 233\n",
      "\t\tCentroide: [5.15350073 3.09247426]\n"
     ]
    }
   ],
   "source": [
    "print('RESULTADO FINAL:')\n",
    "print_iteration_status(iteracion_num='-', centroides_clusters=centroides, elementos_clusters=elementos_cluster)"
   ]
  },
  {
   "cell_type": "markdown",
   "metadata": {},
   "source": [
    "<hr>\n",
    "\n",
    "\n",
    "# <a name=\"M6\">6. Resultados</a>\n",
    "\n",
    "\n",
    "* Podemos observar como el K-Means no ha agrupado los elementos que son similares entre sí en un mismo Cluster.\n",
    "    - Cluster 1: Rojo\n",
    "    - Cluster 2: Azul\n",
    "    - Cluster 3: Verde"
   ]
  },
  {
   "cell_type": "code",
   "execution_count": 6,
   "metadata": {},
   "outputs": [
    {
     "data": {
      "image/png": "[encoded data removed]",
      "text/plain": [
       "<Figure size 576x432 with 1 Axes>"
      ]
     },
     "metadata": {
      "needs_background": "light"
     },
     "output_type": "display_data"
    }
   ],
   "source": [
    "# Creamos la gráfica\n",
    "fig, ax =  plt.subplots(figsize=(8, 6))\n",
    "ax.set_title('Clusters')\n",
    "ax.set_xlabel('X1')\n",
    "ax.set_ylabel('X2')\n",
    "\n",
    "# Dibujamos los elementos de cada Cluster\n",
    "plt.plot(np.array(elementos_cluster[0])[:, 0], np.array(elementos_cluster[0])[:, 1], linestyle='None', color='red', marker='.')\n",
    "plt.plot(np.array(elementos_cluster[1])[:, 0], np.array(elementos_cluster[1])[:, 1], linestyle='None', color='blue', marker='.')\n",
    "plt.plot(np.array(elementos_cluster[2])[:, 0], np.array(elementos_cluster[2])[:, 1], linestyle='None', color='green', marker='.')\n",
    "\n",
    "# Dibujamos los centroides\n",
    "plt.plot(np.array(centroides[:, 0]), np.array(centroides[:, 1]), 'o', color='black', markersize=10)\n",
    "plt.show()"
   ]
  },
  {
   "cell_type": "markdown",
   "metadata": {},
   "source": [
    "<hr>\n",
    "\n",
    "*Este Notebook ha sido desarrollado por **Ricardo Moya García** y registrado en Safe Creative como ***Atribución-NoComercial-CompartirIgual***.*\n",
    "\n",
    "<img src=\"./imgs/CC_BY-NC-SA.png\" alt=\"CC BY-NC\">"
   ]
  }
 ],
 "metadata": {
  "kernelspec": {
   "display_name": "Python 3",
   "language": "python",
   "name": "python3"
  },
  "language_info": {
   "codemirror_mode": {
    "name": "ipython",
    "version": 3
   },
   "file_extension": ".py",
   "mimetype": "text/x-python",
   "name": "python",
   "nbconvert_exporter": "python",
   "pygments_lexer": "ipython3",
   "version": "3.6.10"
  }
 },
 "nbformat": 4,
 "nbformat_minor": 2
}

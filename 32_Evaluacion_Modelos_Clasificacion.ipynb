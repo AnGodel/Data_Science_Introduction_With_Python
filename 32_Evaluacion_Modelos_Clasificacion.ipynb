{
 "cells": [
  {
   "cell_type": "markdown",
   "metadata": {},
   "source": [
    "# 32 - Evaluacion de Modelos de Clasificacion\n",
    "\n",
    "\n",
    "* Una vez generado nuestro modelo o hipótesis, tenemos que ser capaces de ***cotejar los resultados obtenidos***.\n",
    "\n",
    "\n",
    "* Para los problemas de Clasificación se utilizan (entre otros) las siguientes métricas de evaluación:\n",
    "\n",
    "    - ***Accuracy***\n",
    "    - ***Precision***\n",
    "    - ***Recall***\n",
    "    - ***F1***\n",
    "\n",
    "\n",
    "* Para ver como clasifica el modelo generado usamos la denominada ***“Matriz de Confusión”*** en la cual se muestra el número de elementos que clasifica como verdaderos y falsos positivos y verdaderos y falsos negativos.\n",
    "\n",
    "\n",
    "* Veamos a continuación los detalles de las métricas de evaluación y la matriz de confusión:\n",
    "\n",
    "\n",
    "<hr>\n",
    "\n",
    "\n",
    "## - Matriz de confusión\n",
    "\n",
    "* Cuando hablamos de clasificación tenemos que medir cuanto hemos acertado y como lo hemos acertado, por ello las ***matrices de confusión nos ayudan a ver el acierto o fallo que tiene nuestro modelo a la hora de clasificar***. La matriz de confusión tiene la siguiente forma:\n",
    "\n",
    "    - **True Positive (TP)**: Valores positivos clasificados como positivos\n",
    "    - **True Negative (TN)**: Valores negativos clasificados como negativos\n",
    "    - **False Positive (FP)**: Valores negativos clasificados como positivos\n",
    "    - **False Negative (FN)**: Valore positivos clasificados como negativos\n",
    "    \n",
    "<img src=\"./imgs/31_01_eval.png\" style=\"width: 400px;\"/>\n",
    "\n",
    "\n",
    "## - Accuracy\n",
    "\n",
    "* Indica el porcentaje de acierto:\n",
    "\n",
    "$$Acuracy = \\frac{TP + TN}{TP + FN + FP + TN}$$\n",
    "\n",
    "## - Precision\n",
    "\n",
    "* Los positivos correctamente pronosticados entre todos los ejemplos pronosticados como positivos. \n",
    "\n",
    "\n",
    "* \"***De lo que hemos pronosticado, cuanto hemos acertado***\"\n",
    "\n",
    "\n",
    "$$Precision = \\frac{TP}{TP + FP}$$\n",
    "\n",
    "\n",
    "<img src=\"./imgs/31_02_eval.png\" style=\"width: 400px;\"/>\n",
    "                                                               \n",
    "                                                               \n",
    "\n",
    "## - Recall\n",
    "\n",
    "\n",
    "* Los positivos correctamente pronosticados, entre todos los ejemplos que son positivos. \n",
    "\n",
    "\n",
    "* \"***De lo que hay en realidad, cuanto hemos acertado***\"\n",
    "\n",
    "\n",
    "$$Recall = \\frac{TP}{TP + FN}$$\n",
    "\n",
    "\n",
    "<img src=\"./imgs/31_03_eval.png\" style=\"width: 400px;\"/>\n",
    "\n",
    "\n",
    "## - F1 (Precision-Recall)\n",
    "\n",
    "\n",
    "* Es una media que combina la precisión y el recall. \n",
    "\n",
    "\n",
    "* Si es cercano a ***1*** significa que la clasificación realizada es buena. \n",
    "\n",
    "\n",
    "* Si es cercano a ***0*** la clasificación realizada es mala.\n",
    "\n",
    "\n",
    "$$F1 = 2 \\cdot \\frac{Precision \\cdot Recall}{Precision + Recall}$$\n",
    "\n",
    "\n",
    "<img src=\"./imgs/31_03_eval.png\" style=\"width: 400px;\"/>\n",
    "\n",
    "\n",
    "## - Métricas en Sckit-Learn:\n",
    "\n",
    "* Scikit-Learn dispone del módulo “metrics” donde tiene implementados todos estos métodos de evaluación\n",
    "\n",
    "\n",
    "* Como norma general se le pasa como parámetros un array con la clasificación verdadera y otro array con la predicción:\n",
    "\n",
    "    - **metrics.confusion_matrix(y_true, y_pred[, …])**: Compute confusion matrix to evaluate the accuracy of a classification\n",
    "    - **metrics.accuracy_score(y_true, y_pred[, …])**: Accuracy classification score\n",
    "    - **metrics.precision_score(y_true, y_pred[, …])**: Compute the precision\n",
    "    - **metrics.recall_score(y_true, y_pred[, …])**: Compute the recall\n",
    "    - **metrics.f1_score(y_true, y_pred[, labels, …])**: Compute the F1 score, also known as balanced F-score or F-measure\n",
    "    - **metrics.classification_report(y_true, y_pred)**: Build a text report showing the main classification metrics\n",
    "\n",
    "\n",
    "\n",
    "<hr>\n",
    "\n",
    "\n",
    "# Ejemplo: Clasificación Binaria\n",
    "\n",
    "\n",
    "* Supongamos que tenemos que clasificar 10 elementos de dos clases y la realizadad y la predicción vienen dados por:\n",
    "\n",
    "    - y_real =    [1, 1, 1, 1, 1, 0, 0, 0, 0, 0]\n",
    "    - y_predict = [1, 1, 0, 1, 1, 0, 0, 1, 1, 0]\n"
   ]
  },
  {
   "cell_type": "code",
   "execution_count": 1,
   "metadata": {},
   "outputs": [],
   "source": [
    "y_real =    [1, 1, 1, 1, 1, 0, 0, 0, 0, 0]\n",
    "y_predict = [1, 1, 0, 1, 1, 0, 0, 1, 1, 0]"
   ]
  },
  {
   "cell_type": "markdown",
   "metadata": {},
   "source": [
    "### - Matriz de confusión\n",
    "\n",
    "* En el ejemplo tenemos:\n",
    "\n",
    "    - 5 Elementos que son de la clase 0\n",
    "    - 5 Elementos que son de la clase 0\n",
    "    - True Positive (TP): De los que son de la clase 1, predigo 4 correctamente.\n",
    "    - False Negative (FN): De los que son de la clase 1, predigo 1 incorrectamente.\n",
    "    - True Negative (TN): De los que son de la clase 0, predigo 3 correctamente.\n",
    "    - False Positive (FP): De los que son de la clase 0, predigo 2 incorrectamente.\n",
    "    \n",
    "    \n",
    "\n",
    "* Podemos ver este resultado en la matriz de confusión:"
   ]
  },
  {
   "cell_type": "code",
   "execution_count": 2,
   "metadata": {},
   "outputs": [
    {
     "data": {
      "text/plain": [
       "array([[4, 1],\n",
       "       [2, 3]])"
      ]
     },
     "execution_count": 2,
     "metadata": {},
     "output_type": "execute_result"
    }
   ],
   "source": [
    "from sklearn.metrics import confusion_matrix\n",
    "\n",
    "confusion_matrix(y_true=y_real, y_pred=y_predict, labels=[1, 0])"
   ]
  },
  {
   "cell_type": "markdown",
   "metadata": {},
   "source": [
    "### - Accuracy\n",
    "\n",
    "* Basandonos en el ejemplo, calculamos el accuracy como:\n",
    "\n",
    "$$Acuracy = \\frac{TP + TN}{TP + FN + FP + TN} = \\frac{4 + 3}{4 + 1 + 2 + 3} = \\frac{7}{10} = 0.7$$"
   ]
  },
  {
   "cell_type": "code",
   "execution_count": 3,
   "metadata": {},
   "outputs": [
    {
     "data": {
      "text/plain": [
       "0.7"
      ]
     },
     "execution_count": 3,
     "metadata": {},
     "output_type": "execute_result"
    }
   ],
   "source": [
    "from sklearn.metrics import accuracy_score\n",
    "\n",
    "accuracy_score(y_true=y_real, y_pred=y_predict)"
   ]
  },
  {
   "cell_type": "markdown",
   "metadata": {},
   "source": [
    "### - Precision\n",
    "\n",
    "* Basandonos en el ejemplo, calculamos la precision como:\n",
    "\n",
    "$$Precision = \\frac{TP}{TP + FP} = \\frac{4}{4 + 2} = \\frac{4}{6} = 0.67$$"
   ]
  },
  {
   "cell_type": "code",
   "execution_count": 4,
   "metadata": {},
   "outputs": [
    {
     "data": {
      "text/plain": [
       "0.6666666666666666"
      ]
     },
     "execution_count": 4,
     "metadata": {},
     "output_type": "execute_result"
    }
   ],
   "source": [
    "from sklearn.metrics import precision_score\n",
    "\n",
    "precision_score(y_true=y_real, y_pred=y_predict)"
   ]
  },
  {
   "cell_type": "markdown",
   "metadata": {},
   "source": [
    "### - Recall\n",
    "\n",
    "* Basandonos en el ejemplo, calculamos el recall como:\n",
    "\n",
    "$$Recall = \\frac{TP}{TP + FN} = \\frac{4}{4 + 1} = \\frac{4}{5} = 0.8$$"
   ]
  },
  {
   "cell_type": "code",
   "execution_count": 5,
   "metadata": {},
   "outputs": [
    {
     "data": {
      "text/plain": [
       "0.8"
      ]
     },
     "execution_count": 5,
     "metadata": {},
     "output_type": "execute_result"
    }
   ],
   "source": [
    "from sklearn.metrics import recall_score\n",
    "\n",
    "recall_score(y_true=y_real, y_pred=y_predict)"
   ]
  },
  {
   "cell_type": "markdown",
   "metadata": {},
   "source": [
    "### - F1\n",
    "\n",
    "* Basandonos en el ejemplo, calculamos el F1 como:\n",
    "\n",
    "$$F1 = 2 \\cdot \\frac{Precision \\cdot Recall}{Precision + Recall} = 2 \\cdot \\frac{0.67 \\cdot 0.8}{0.67 + 0.8} = 2 \\cdot \\frac{0.54}{1.47} = 0.73$$"
   ]
  },
  {
   "cell_type": "code",
   "execution_count": 6,
   "metadata": {},
   "outputs": [
    {
     "data": {
      "text/plain": [
       "0.7272727272727272"
      ]
     },
     "execution_count": 6,
     "metadata": {},
     "output_type": "execute_result"
    }
   ],
   "source": [
    "from sklearn.metrics import f1_score\n",
    "\n",
    "f1_score(y_true=y_real, y_pred=y_predict)"
   ]
  },
  {
   "cell_type": "markdown",
   "metadata": {},
   "source": [
    "* Para representar de una forma visual más agradable y legible la matriz de confusión, podemos usar el siguiente código que tiene la función \"plot_confusion_matrix()\""
   ]
  },
  {
   "cell_type": "code",
   "execution_count": 7,
   "metadata": {},
   "outputs": [
    {
     "data": {
      "image/png": "[encoded data removed]",
      "text/plain": [
       "<Figure size 432x288 with 2 Axes>"
      ]
     },
     "metadata": {
      "needs_background": "light"
     },
     "output_type": "display_data"
    }
   ],
   "source": [
    "import numpy as np\n",
    "import matplotlib.pyplot as plt\n",
    "import itertools\n",
    "%matplotlib inline\n",
    "\n",
    "def plot_confusion_matrix(cm, classes, title, cmap=plt.cm.Blues):\n",
    "    \"\"\"\n",
    "    This function prints and plots the confusion matrix.\n",
    "    \"\"\"\n",
    "    plt.imshow(cm, interpolation='nearest', cmap=cmap)\n",
    "    plt.title(title)\n",
    "    plt.colorbar()\n",
    "    tick_marks = np.arange(len(classes))\n",
    "    plt.xticks(tick_marks, classes, rotation=45)\n",
    "    plt.yticks(tick_marks, classes)\n",
    "\n",
    "    thresh = cm.max() / 2.\n",
    "    for i, j in itertools.product(range(cm.shape[0]), range(cm.shape[1])):\n",
    "        plt.text(j, i, format(cm[i, j], 'd'), horizontalalignment=\"center\",\n",
    "                 color=\"white\" if cm[i, j] > thresh else \"black\")\n",
    "\n",
    "    plt.tight_layout()\n",
    "    plt.ylabel('True label')\n",
    "    plt.xlabel('Predicted label')\n",
    "\n",
    "plt.figure()\n",
    "matriz_confusion = confusion_matrix(y_true=y_real, y_pred=y_predict, labels=[1, 0])\n",
    "plot_confusion_matrix(matriz_confusion, classes=['Clase 1', 'Clase 0'], title='Matriz de Confusión')\n",
    "plt.show()"
   ]
  },
  {
   "cell_type": "markdown",
   "metadata": {},
   "source": [
    "<hr>\n",
    "\n",
    "\n",
    "# Ejemplo: Clasificación Múltiple\n",
    "\n",
    "\n",
    "* Para el caso de la clasificación múltiple las métricas son las mismas, pero el procedimiento para calcularlo es diferente.\n",
    "\n",
    "\n",
    "* Todas estas métricas se calculan para cada clase, considerando una \"Clase A\" como la clase a clasificar correctamente y el resto de clases se consideran como una sola clase.\n",
    "\n",
    "\n",
    "* Veamos el siguiente ejemplo en el que tenemos:\n",
    "\n",
    "    - y_real =    [1, 1, 1, 1, 1, 0, 0, 0, 0, 0, 2, 2, 2, 2, 2]\n",
    "    - y_predict = [1, 1, 0, 1, 1, 0, 0, 1, 1, 0, 2, 1, 1, 0, 2]\n",
    "    \n",
    "    \n",
    "* Tendríamos que calcular las metricas para las clases 0, 1 y 2 considerando:\n",
    "<span></span><br><br>\n",
    "    - ***Clase 0***: Consideramos la Clase 0 como la que es y el resto de clases como una misma Clase X\n",
    "        + y_real =    [X, X, X, X, X, 0, 0, 0, 0, 0, X, X, X, X, X]\n",
    "        + y_predict = [X, X, 0, X, X, 0, 0, X, X, 0, X, X, X, 0, X]\n",
    "<span></span><br><br>        \n",
    "    - ***Clase 1***: Consideramos la Clase 1 como la que es y el resto de clases como una misma Clase X\n",
    "        + y_real =    [1, 1, 1, 1, 1, X, X, X, X, X, X, X, X, X, X]\n",
    "        + y_predict = [1, 1, X, 1, 1, X, X, 1, 1, X, X, 1, 1, X, X]\n",
    "<span></span><br><br>        \n",
    "    - ***Clase 2***: Consideramos la Clase 2 como la que es y el resto de clases como una misma Clase X\n",
    "        + y_real =    [X, X, X, X, X, X, X, X, X, X, 2, 2, 2, 2, 2]\n",
    "        + y_predict = [X, X, X, X, X, X, X, X, X, X, 2, X, X, X, 2]\n",
    "\n",
    "\n",
    "* Veamos a continuación un ejemplo, en el que usaremos la función \"classification_report()\" que nos devolverá las métricas vistas anteriormente por clase:"
   ]
  },
  {
   "cell_type": "code",
   "execution_count": 8,
   "metadata": {},
   "outputs": [
    {
     "name": "stdout",
     "output_type": "stream",
     "text": [
      "              precision    recall  f1-score   support\n",
      "\n",
      "           0       0.60      0.60      0.60         5\n",
      "           1       0.50      0.80      0.62         5\n",
      "           2       1.00      0.40      0.57         5\n",
      "\n",
      "   micro avg       0.60      0.60      0.60        15\n",
      "   macro avg       0.70      0.60      0.60        15\n",
      "weighted avg       0.70      0.60      0.60        15\n",
      "\n"
     ]
    }
   ],
   "source": [
    "y_real =    [1, 1, 1, 1, 1, 0, 0, 0, 0, 0, 2, 2, 2, 2, 2]\n",
    "y_predict = [1, 1, 0, 1, 1, 0, 0, 1, 1, 0, 2, 1, 1, 0, 2]\n",
    "\n",
    "from sklearn.metrics import classification_report\n",
    "\n",
    "print(classification_report(y_true=y_real, y_pred=y_predict))"
   ]
  },
  {
   "cell_type": "markdown",
   "metadata": {},
   "source": [
    "* Veamos a continuación la matriz de confusión:"
   ]
  },
  {
   "cell_type": "code",
   "execution_count": 9,
   "metadata": {},
   "outputs": [
    {
     "data": {
      "image/png": "[encoded data removed]",
      "text/plain": [
       "<Figure size 432x288 with 2 Axes>"
      ]
     },
     "metadata": {
      "needs_background": "light"
     },
     "output_type": "display_data"
    }
   ],
   "source": [
    "plt.figure()\n",
    "matriz_confusion = confusion_matrix(y_true=y_real, y_pred=y_predict, labels=[0, 1, 2])\n",
    "plot_confusion_matrix(matriz_confusion, classes=['Clase 0', 'Clase 1', 'Clase 2'], title='Matriz de Confusión')\n",
    "plt.show()"
   ]
  },
  {
   "cell_type": "markdown",
   "metadata": {},
   "source": [
    "<hr>\n",
    "\n",
    "*Este Notebook ha sido desarrollado por **Ricardo Moya García** y registrado en Safe Creative como ***Atribución-NoComercial-CompartirIgual***.*\n",
    "\n",
    "<img src=\"./imgs/CC_BY-NC-SA.png\" alt=\"CC BY-NC\">"
   ]
  }
 ],
 "metadata": {
  "kernelspec": {
   "display_name": "Python 3",
   "language": "python",
   "name": "python3"
  },
  "language_info": {
   "codemirror_mode": {
    "name": "ipython",
    "version": 3
   },
   "file_extension": ".py",
   "mimetype": "text/x-python",
   "name": "python",
   "nbconvert_exporter": "python",
   "pygments_lexer": "ipython3",
   "version": "3.6.10"
  }
 },
 "nbformat": 4,
 "nbformat_minor": 2
}

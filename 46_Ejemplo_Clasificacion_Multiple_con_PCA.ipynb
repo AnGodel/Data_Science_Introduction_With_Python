{
 "cells": [
  {
   "cell_type": "markdown",
   "metadata": {},
   "source": [
    "# 46 - Ejemplo de Clasificacion Multiple con PCA\n",
    "\n",
    "\n",
    "* En este Notebook vamos a resolver un problema de ***Clasificación Múltiple con Regresión Logística*** en el que vamos a ***aplicar al Dataset una reducción de la dimensionalidad usando el método del PCA (Análisis de Componentes Principales)***.\n",
    "\n",
    "\n",
    "* Por otro lado vamos a ***evaluar el rendimiento del modelo*** con los propios datos de entrenamiento aplicando las métricas del ***Accuracy, Precision, Recall y F1***, y viendo como clasifica el modelo con la ***matriz de confusión***.\n",
    "\n",
    "\n",
    "* En los siguientes enlaces esta la documentación de las clases a utilizar:\n",
    "\n",
    "    + Regresión Logística:<br>\n",
    "    https://scikit-learn.org/stable/modules/generated/sklearn.linear_model.LogisticRegression.html\n",
    "    + PCA:<br>\n",
    "    https://scikit-learn.org/stable/modules/generated/sklearn.decomposition.PCA.html\n",
    "    + Accuracy:<br>\n",
    "    https://scikit-learn.org/stable/modules/generated/sklearn.metrics.accuracy_score.html\n",
    "    + Precision:<br>\n",
    "    https://scikit-learn.org/stable/modules/generated/sklearn.metrics.precision_score.html\n",
    "    + Recall:<br>\n",
    "    https://scikit-learn.org/stable/modules/generated/sklearn.metrics.recall_score.html\n",
    "    + F1:<br>\n",
    "    https://scikit-learn.org/stable/modules/generated/sklearn.metrics.f1_score.html\n",
    "    + Classification Report:<br>\n",
    "    https://scikit-learn.org/stable/modules/generated/sklearn.metrics.classification_report.html\n",
    "    + Matriz de confusión:<br>\n",
    "    https://scikit-learn.org/stable/modules/generated/sklearn.metrics.confusion_matrix.html\n",
    "\n",
    "\n",
    "* El ejemplo con el que vamos a trabajar, consiste en ***clasificar tres tipos de flores, conociendo los tamaños (alto y ancho) del petalo y sépalo*** de la flor; es decir, que tendremos 4 variables.\n",
    "\n",
    "\n",
    "* Para resolver este problema vamos a realizar los siguientes pasos:\n",
    "<span></span><br>\n",
    "    1. [Carga de datos](#M1)\n",
    "<span></span><br>\n",
    "    2. [Cambio de estructura de datos a numpy y transformación de las etiquetas a números](#M2)\n",
    "<span></span><br>\n",
    "    3. [PCA: Estudio de la Varianza Acumulada](#M3)\n",
    "<span></span><br>\n",
    "    4. [PCA: Reducción de la dimensionalidad](#M4)\n",
    "<span></span><br>\n",
    "    5. [Creacción del modelo](#M5)\n",
    "<span></span><br>\n",
    "    6. [Evaluación del Modelo](#M6)\n",
    "<span></span><br>\n",
    "    7. [Visualización de Resultados](#M7)\n",
    "\n",
    "\n",
    "\n",
    "* En primer lugar vamos a importar las librería necesarias:\n",
    "\n"
   ]
  },
  {
   "cell_type": "code",
   "execution_count": 1,
   "metadata": {},
   "outputs": [],
   "source": [
    "import warnings\n",
    "warnings.filterwarnings(\"ignore\")\n",
    "\n",
    "import numpy as np\n",
    "import pandas as pd\n",
    "import matplotlib.pyplot as plt\n",
    "import itertools\n",
    "\n",
    "from sklearn.linear_model import LogisticRegression\n",
    "from sklearn.decomposition import PCA\n",
    "from sklearn.metrics import accuracy_score, classification_report, confusion_matrix\n",
    "from sklearn import preprocessing\n",
    "%matplotlib inline "
   ]
  },
  {
   "cell_type": "markdown",
   "metadata": {},
   "source": [
    "<hr>\n",
    "\n",
    "\n",
    "# <a name=\"M1\">1. Carga de datos</a>\n",
    "\n",
    "\n",
    "* El primer paso que vamos a realizar es el de cargar los datos que los tenemos en el siguiente fichero:\n",
    "    - ***DataSet***: \"./data/iris/iris.csv\"\n",
    "\n",
    "\n",
    "* Para ello ***leeremos el csv con pandas*** (pasandolo a un dataframe), teniendo las siguientes columnas:\n",
    "    - ***class***: Clase de la flor (Iris-versicolor, Iris-setosa)\n",
    "    - ***sepal_length***: El \"largo\" del Sepalo\n",
    "    - ***sepal_width***: El \"ancho\" del Sepalo\n",
    "    - ***petal_length***: El \"largo\" del Pétalo\n",
    "    - ***petal_width***: El \"ancho\" del Pétalo"
   ]
  },
  {
   "cell_type": "code",
   "execution_count": 2,
   "metadata": {},
   "outputs": [
    {
     "data": {
      "text/html": [
       "<div>\n",
       "<style scoped>\n",
       "    .dataframe tbody tr th:only-of-type {\n",
       "        vertical-align: middle;\n",
       "    }\n",
       "\n",
       "    .dataframe tbody tr th {\n",
       "        vertical-align: top;\n",
       "    }\n",
       "\n",
       "    .dataframe thead th {\n",
       "        text-align: right;\n",
       "    }\n",
       "</style>\n",
       "<table border=\"1\" class=\"dataframe\">\n",
       "  <thead>\n",
       "    <tr style=\"text-align: right;\">\n",
       "      <th></th>\n",
       "      <th>sepal_length</th>\n",
       "      <th>sepal_width</th>\n",
       "      <th>petal_length</th>\n",
       "      <th>petal_width</th>\n",
       "      <th>class</th>\n",
       "    </tr>\n",
       "  </thead>\n",
       "  <tbody>\n",
       "    <tr>\n",
       "      <th>140</th>\n",
       "      <td>6.7</td>\n",
       "      <td>3.1</td>\n",
       "      <td>5.6</td>\n",
       "      <td>2.4</td>\n",
       "      <td>Iris-virginica</td>\n",
       "    </tr>\n",
       "    <tr>\n",
       "      <th>75</th>\n",
       "      <td>6.6</td>\n",
       "      <td>3.0</td>\n",
       "      <td>4.4</td>\n",
       "      <td>1.4</td>\n",
       "      <td>Iris-versicolor</td>\n",
       "    </tr>\n",
       "    <tr>\n",
       "      <th>145</th>\n",
       "      <td>6.7</td>\n",
       "      <td>3.0</td>\n",
       "      <td>5.2</td>\n",
       "      <td>2.3</td>\n",
       "      <td>Iris-virginica</td>\n",
       "    </tr>\n",
       "    <tr>\n",
       "      <th>11</th>\n",
       "      <td>4.8</td>\n",
       "      <td>3.4</td>\n",
       "      <td>1.6</td>\n",
       "      <td>0.2</td>\n",
       "      <td>Iris-setosa</td>\n",
       "    </tr>\n",
       "    <tr>\n",
       "      <th>2</th>\n",
       "      <td>4.7</td>\n",
       "      <td>3.2</td>\n",
       "      <td>1.3</td>\n",
       "      <td>0.2</td>\n",
       "      <td>Iris-setosa</td>\n",
       "    </tr>\n",
       "  </tbody>\n",
       "</table>\n",
       "</div>"
      ],
      "text/plain": [
       "     sepal_length  sepal_width  petal_length  petal_width            class\n",
       "140           6.7          3.1           5.6          2.4   Iris-virginica\n",
       "75            6.6          3.0           4.4          1.4  Iris-versicolor\n",
       "145           6.7          3.0           5.2          2.3   Iris-virginica\n",
       "11            4.8          3.4           1.6          0.2      Iris-setosa\n",
       "2             4.7          3.2           1.3          0.2      Iris-setosa"
      ]
     },
     "execution_count": 2,
     "metadata": {},
     "output_type": "execute_result"
    }
   ],
   "source": [
    "df = pd.read_csv(\"./data/iris/iris.csv\")\n",
    "df.sample(5)"
   ]
  },
  {
   "cell_type": "markdown",
   "metadata": {},
   "source": [
    "<hr>\n",
    "\n",
    "\n",
    "# <a name=\"M2\">2. Cambio de estructura de datos a numpy y transformación de las etiquetas a números</a>\n",
    "\n",
    "\n",
    "* Vamos a pasar los datos las flores a una nueva estructura de datos para que scikit-learn puedan trabajar con los datos:\n",
    "<span></span><br><br>\n",
    "    - Las ***columnas sepal_length, sepal_width, petal_length, petal_with*** representan las variables de entrada y las vamos a pasar a un array de array (***numpy array***)\n",
    "<span></span><br><br>\n",
    "    - La ***columna class*** que representa la clase (o variable de salida) y la vamos a pasar a un ***numpy array***\n",
    "    \n",
    "    \n",
    "* Por otro lado tenemos que transformar la clase de la flor a números, por lo que utilizaremos la clase ***LabelEncoder()*** para transformar las etiquetas de las clases a números:\n",
    "\n",
    "    - ***0***: ***Iris-Setosa***\n",
    "    - ***1***: ***Iris-Versicolor***\n",
    "    - ***2***: ***Iris-Virginica***\n"
   ]
  },
  {
   "cell_type": "code",
   "execution_count": 3,
   "metadata": {},
   "outputs": [],
   "source": [
    "X = df[['sepal_length', 'sepal_width', \n",
    "        'petal_length', 'petal_width']].values   # Obtengo el alto y ancho del sepalo\n",
    "y_labels = df['class'].values                    # Obtengo las etiquetas\n",
    "\n",
    "\n",
    "le = preprocessing.LabelEncoder()     # Instancio un objeto de la clase LabelEncoder()\n",
    "y = le.fit_transform(y_labels)        # Transformo las etiquetas a números"
   ]
  },
  {
   "cell_type": "markdown",
   "metadata": {},
   "source": [
    "<hr>\n",
    "\n",
    "\n",
    "# <a name=\"M3\">3. PCA: Estudio de la Varianza Acumulada</a>\n",
    "\n",
    "\n",
    "* Con el estudio de la Varianza Acumulada con los valores singulares, vamos a ver el ***compromiso entre la reducción de la dimensionalidad y la perdida de información***.\n",
    "\n",
    "\n",
    "* Tras realizar este análisis podemos ver que cogiendo 2 componentes, reducimos en 2 variables la dimensión de nuestro dataset y nos quedamos con un 98% de la información original del Dataset:"
   ]
  },
  {
   "cell_type": "code",
   "execution_count": 4,
   "metadata": {},
   "outputs": [
    {
     "name": "stdout",
     "output_type": "stream",
     "text": [
      "Valores Singulares: ['25.09', '6.01', '3.42', '1.88']\n",
      "Varianza Acumulada: ['0.92', '0.98', '0.99', '1.00']\n"
     ]
    },
    {
     "data": {
      "image/png": "[encoded data removed]",
      "text/plain": [
       "<Figure size 432x288 with 1 Axes>"
      ]
     },
     "metadata": {
      "needs_background": "light"
     },
     "output_type": "display_data"
    }
   ],
   "source": [
    "pca = PCA()\n",
    "pca.fit(X)\n",
    "\n",
    "varianza_acumulada = np.cumsum(pca.explained_variance_ratio_)\n",
    "print('Valores Singulares: {s}'.format(s=['{:.2f}'.format(i) for i in pca.singular_values_]))\n",
    "print('Varianza Acumulada: {v}'.format(v=['{:.2f}'.format(i) for i in varianza_acumulada]))\n",
    "\n",
    "# Dibujamos la varianza acumulada\n",
    "fig, ax = plt.subplots(figsize=(6, 4))\n",
    "ax.plot(np.insert(varianza_acumulada, 0, 0))\n",
    "ax.set_xlabel('Número de componentes')\n",
    "ax.set_ylabel('Varianza acumulada (%)')\n",
    "ax.set_title('Varianza Acumulada Vs Nº Componentes')\n",
    "ax.grid()\n",
    "ax.set_xticks(range(1, 5))\n",
    "plt.show()"
   ]
  },
  {
   "cell_type": "markdown",
   "metadata": {},
   "source": [
    "<hr>\n",
    "\n",
    "\n",
    "# <a name=\"M4\">4. PCA: Reducción de la dimensionalidad</a>\n",
    "\n",
    "\n",
    "* Vamos a obtener el Dataset reducido con 2 componentes y vamos a ver una muestra de como quedaría nuestro nuevo Dataset:\n"
   ]
  },
  {
   "cell_type": "code",
   "execution_count": 5,
   "metadata": {},
   "outputs": [
    {
     "data": {
      "text/html": [
       "<div>\n",
       "<style scoped>\n",
       "    .dataframe tbody tr th:only-of-type {\n",
       "        vertical-align: middle;\n",
       "    }\n",
       "\n",
       "    .dataframe tbody tr th {\n",
       "        vertical-align: top;\n",
       "    }\n",
       "\n",
       "    .dataframe thead th {\n",
       "        text-align: right;\n",
       "    }\n",
       "</style>\n",
       "<table border=\"1\" class=\"dataframe\">\n",
       "  <thead>\n",
       "    <tr style=\"text-align: right;\">\n",
       "      <th></th>\n",
       "      <th>C1</th>\n",
       "      <th>C2</th>\n",
       "    </tr>\n",
       "  </thead>\n",
       "  <tbody>\n",
       "    <tr>\n",
       "      <th>32</th>\n",
       "      <td>-2.647637</td>\n",
       "      <td>0.819983</td>\n",
       "    </tr>\n",
       "    <tr>\n",
       "      <th>103</th>\n",
       "      <td>1.970815</td>\n",
       "      <td>-0.181126</td>\n",
       "    </tr>\n",
       "    <tr>\n",
       "      <th>131</th>\n",
       "      <td>3.232343</td>\n",
       "      <td>1.370524</td>\n",
       "    </tr>\n",
       "    <tr>\n",
       "      <th>64</th>\n",
       "      <td>-0.174864</td>\n",
       "      <td>-0.251816</td>\n",
       "    </tr>\n",
       "    <tr>\n",
       "      <th>91</th>\n",
       "      <td>0.890160</td>\n",
       "      <td>-0.033812</td>\n",
       "    </tr>\n",
       "  </tbody>\n",
       "</table>\n",
       "</div>"
      ],
      "text/plain": [
       "           C1        C2\n",
       "32  -2.647637  0.819983\n",
       "103  1.970815 -0.181126\n",
       "131  3.232343  1.370524\n",
       "64  -0.174864 -0.251816\n",
       "91   0.890160 -0.033812"
      ]
     },
     "execution_count": 5,
     "metadata": {},
     "output_type": "execute_result"
    }
   ],
   "source": [
    "pca = PCA(n_components=2)\n",
    "X_latente = pca.fit_transform(X)\n",
    "\n",
    "pd.DataFrame(X_latente, columns=['C1', 'C2']).sample(5)"
   ]
  },
  {
   "cell_type": "markdown",
   "metadata": {},
   "source": [
    "<hr>\n",
    "\n",
    "\n",
    "# <a name=\"M5\">5. Creacción del modelo</a>\n",
    "\n",
    "\n",
    "* A continuación pasamos a crear un objeto de la clase \"***LogisticRegression()***\" para la resolución del problema de clasificación.\n",
    "\n",
    "\n",
    "* Una vez instanciado, procedemos a ajustar (entrenar) el modelo (o hipótesis) llamando al método ***fit(X,y)*** que recibe como parámetros el conjunto de datos de las variables de entrada 'X' y la variable de salida 'Y'.\n",
    "\n",
    "\n",
    "* En este caso las variables de entrada será nuestro Dataset reducido con 2 componentes:"
   ]
  },
  {
   "cell_type": "code",
   "execution_count": 6,
   "metadata": {},
   "outputs": [
    {
     "data": {
      "text/plain": [
       "LogisticRegression(max_iter=50, multi_class='ovr', solver='liblinear')"
      ]
     },
     "execution_count": 6,
     "metadata": {},
     "output_type": "execute_result"
    }
   ],
   "source": [
    "# Creamos un objeto de la clase LogisticRegression pasandole una serie de parámetros\n",
    "logreg = LogisticRegression(solver='liblinear', multi_class='ovr', max_iter=50)\n",
    "\n",
    "# Entrenamos el modelo\n",
    "logreg.fit(X_latente, y)"
   ]
  },
  {
   "cell_type": "markdown",
   "metadata": {},
   "source": [
    "* Obtenemos las funciones de decisión:"
   ]
  },
  {
   "cell_type": "code",
   "execution_count": 7,
   "metadata": {},
   "outputs": [
    {
     "name": "stdout",
     "output_type": "stream",
     "text": [
      "\n",
      "Iris-setosa: Z = -1.86 + -2.22 · C1 + 1.27 · C2\n",
      "\n",
      "Iris-versicolor: Z = -0.81 + 0.24 · C1 + -1.59 · C2\n",
      "\n",
      "Iris-virginica: Z = -3.11 + 2.51 · C1 + -0.99 · C2\n"
     ]
    }
   ],
   "source": [
    "b0 = logreg.intercept_\n",
    "b = logreg.coef_\n",
    "\n",
    "print(\"\\nIris-setosa: Z = {b0:0.2f} + {b1:0.2f} · C1 + {b2:0.2f} · C2\"\n",
    "      .format(b0=b0[0], b1=b[0,0], b2=b[0,1]))\n",
    "print(\"\\nIris-versicolor: Z = {b0:0.2f} + {b1:0.2f} · C1 + {b2:0.2f} · C2\"\n",
    "      .format(b0=b0[1], b1=b[1,0], b2=b[1,1]))\n",
    "print(\"\\nIris-virginica: Z = {b0:0.2f} + {b1:0.2f} · C1 + {b2:0.2f} · C2\"\n",
    "      .format(b0=b0[2], b1=b[2,0], b2=b[2,1]))"
   ]
  },
  {
   "cell_type": "markdown",
   "metadata": {},
   "source": [
    "<hr>\n",
    "\n",
    "\n",
    "# <a name=\"M6\">6. Evaluación del Modelo</a>\n",
    "\n",
    "\n",
    "* Vamos a continuación a ver los resultados de la evaluación de nuestro modelo con los mismos datos con los que los hemos entrenado:\n",
    "\n",
    "\n",
    "#### Acurracy"
   ]
  },
  {
   "cell_type": "code",
   "execution_count": 8,
   "metadata": {},
   "outputs": [
    {
     "name": "stdout",
     "output_type": "stream",
     "text": [
      "Accuracy = 0.9133333333333333\n"
     ]
    }
   ],
   "source": [
    "accuracy = accuracy_score(y_true=y, y_pred=logreg.predict(X_latente))\n",
    "print(\"Accuracy = {acc}\".format(acc=accuracy))"
   ]
  },
  {
   "cell_type": "markdown",
   "metadata": {},
   "source": [
    "#### Precision, Recall, F1"
   ]
  },
  {
   "cell_type": "code",
   "execution_count": 9,
   "metadata": {},
   "outputs": [
    {
     "name": "stdout",
     "output_type": "stream",
     "text": [
      "                 precision    recall  f1-score   support\n",
      "\n",
      "    Iris-setosa       1.00      1.00      1.00        50\n",
      "Iris-versicolor       0.97      0.76      0.85        50\n",
      " Iris-virginica       0.80      0.98      0.88        50\n",
      "\n",
      "       accuracy                           0.91       150\n",
      "      macro avg       0.93      0.91      0.91       150\n",
      "   weighted avg       0.93      0.91      0.91       150\n",
      "\n"
     ]
    }
   ],
   "source": [
    "classification = classification_report(y_true=y, y_pred=logreg.predict(X_latente), target_names =le.classes_)\n",
    "print(classification)"
   ]
  },
  {
   "cell_type": "markdown",
   "metadata": {},
   "source": [
    "#### Matriz de Confusión"
   ]
  },
  {
   "cell_type": "code",
   "execution_count": 10,
   "metadata": {},
   "outputs": [
    {
     "data": {
      "image/png": "[encoded data removed]",
      "text/plain": [
       "<Figure size 432x288 with 2 Axes>"
      ]
     },
     "metadata": {
      "needs_background": "light"
     },
     "output_type": "display_data"
    }
   ],
   "source": [
    "def plot_confusion_matrix(cm, classes, title, cmap=plt.cm.Greens):\n",
    "    \"\"\"\n",
    "    This function prints and plots the confusion matrix.\n",
    "    \"\"\"\n",
    "    plt.imshow(cm, interpolation='nearest', cmap=cmap)\n",
    "    plt.title(title)\n",
    "    plt.colorbar()\n",
    "    tick_marks = np.arange(len(classes))\n",
    "    plt.xticks(tick_marks, classes, rotation=45)\n",
    "    plt.yticks(tick_marks, classes)\n",
    "\n",
    "    thresh = cm.max() / 2.\n",
    "    for i, j in itertools.product(range(cm.shape[0]), range(cm.shape[1])):\n",
    "        plt.text(j, i, format(cm[i, j], 'd'), horizontalalignment=\"center\",\n",
    "                 color=\"white\" if cm[i, j] > thresh else \"black\")\n",
    "\n",
    "    plt.tight_layout()\n",
    "    plt.ylabel('True label')\n",
    "    plt.xlabel('Predicted label')\n",
    "    \n",
    "\n",
    "confusion_mx = confusion_matrix(y_true=y,y_pred=logreg.predict(X_latente))\n",
    "plt.figure()\n",
    "plot_confusion_matrix(confusion_mx, classes=le.classes_, title='Matriz de Confusión')\n",
    "plt.show()"
   ]
  },
  {
   "cell_type": "markdown",
   "metadata": {},
   "source": [
    "<hr>\n",
    "\n",
    "\n",
    "# <a name=\"M7\">7. Visualización de Resultados</a>\n",
    "\n",
    "\n",
    "* Dado que estamos trabajando con 2 Componentes, podemos representar en un espacio de 2 dimensiones como clasificaría nuestro modelo en ese espacio 2D en función del valor de las componentes de cada flor:"
   ]
  },
  {
   "cell_type": "code",
   "execution_count": 11,
   "metadata": {},
   "outputs": [
    {
     "data": {
      "image/png": "[encoded data removed]",
      "text/plain": [
       "<Figure size 576x432 with 1 Axes>"
      ]
     },
     "metadata": {
      "needs_background": "light"
     },
     "output_type": "display_data"
    }
   ],
   "source": [
    "x_min, x_max = X_latente[:, 0].min() - .5, X_latente[:, 0].max() + .5\n",
    "y_min, y_max = X_latente[:, 1].min() - .5, X_latente[:, 1].max() + .5\n",
    "h = .01\n",
    "xx, yy = np.meshgrid(np.arange(x_min, x_max, h), np.arange(y_min, y_max, h))\n",
    "\n",
    "# Predicción de cada uno de los puntos de la malla\n",
    "Z = logreg.predict(np.c_[xx.ravel(), yy.ravel()])\n",
    "\n",
    "Z = Z.reshape(xx.shape)\n",
    "plt.figure(1, figsize=(8, 6))\n",
    "\n",
    "# Dibujamos la malla con los diferentes colores\n",
    "plt.pcolormesh(xx, yy, Z, cmap=plt.cm.Pastel2)\n",
    "\n",
    "\n",
    "# Dibujamos los puntos (las componentes de las flores) del dataset\n",
    "plt.scatter(X_latente[:, 0], X_latente[:, 1], c=y, edgecolors='k', cmap=plt.cm.Pastel2)\n",
    "\n",
    "plt.title('Clasificación de las Flores')\n",
    "plt.xlabel('Componente 1')\n",
    "plt.ylabel('Componente 2')\n",
    "plt.show()"
   ]
  },
  {
   "cell_type": "markdown",
   "metadata": {},
   "source": [
    "<hr>\n",
    "\n",
    "*Este Notebook ha sido desarrollado por **Ricardo Moya García** y registrado en Safe Creative como ***Atribución-NoComercial-CompartirIgual***.*\n",
    "\n",
    "<img src=\"./imgs/CC_BY-NC-SA.png\" alt=\"CC BY-NC\">"
   ]
  }
 ],
 "metadata": {
  "kernelspec": {
   "display_name": "Python 3",
   "language": "python",
   "name": "python3"
  },
  "language_info": {
   "codemirror_mode": {
    "name": "ipython",
    "version": 3
   },
   "file_extension": ".py",
   "mimetype": "text/x-python",
   "name": "python",
   "nbconvert_exporter": "python",
   "pygments_lexer": "ipython3",
   "version": "3.6.10"
  }
 },
 "nbformat": 4,
 "nbformat_minor": 2
}

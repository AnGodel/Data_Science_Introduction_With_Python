{
 "cells": [
  {
   "cell_type": "markdown",
   "metadata": {},
   "source": [
    "# 1 - Data Wrangling\n",
    "\n",
    "<br>\n",
    "\n",
    "* El ***Data Wrangling*** (la lucha con los datos) es uno de los procesos mas “ingratos” en la ciencia de datos que tiene como finalidad ***obtener y mapear los datos en “bruto”*** (raw data) y pasarlos a un ***formato mas amigable*** y conveniente para su posterior tratamiento.\n",
    "\n",
    "\n",
    "* Por tanto es un proceso del cual se tienen que obtener los datos y ***preparar los datasets*** para que esos puedan ser utilizados de forma conveniente en la fase del *Exploratory Data Analysis (EDA)*.\n",
    "\n",
    "\n",
    "* El ***ETL*** (Extract-Transform-Load) consiste precisamente en ***extraer los datos del origen, transformarlos*** en un determinado formato y ***cargar o guardar esos datos transformados para sus posterior uso***.\n",
    "\n",
    "\n",
    "* Las ***fuentes de los datos*** en bruto pueden ser muy diversas como por ejemplo:\n",
    "\n",
    "    - ***datos de sensores***\n",
    "    - ***logs de servidores***\n",
    "    - ***redes sociales*** (APIs)\n",
    "    - ***paginas web*** (scraping)\n",
    "    - etc\n",
    "\n",
    "\n",
    "<hr>\n",
    "\n",
    "\n",
    "## Ejemplo de Obtención de Tweets\n",
    "\n",
    "\n",
    "* Uno de los origenes de datos de ejemplo puede ser el de la red social de ***Twitter*** que dispone de un **API** para poder obtener información de esta red social:\n",
    "\n",
    "    - Información de las cuentas\n",
    "    - Tweets de cuentas\n",
    "    - Tweets con determinados hashtags\n",
    "    - Etc.\n",
    "    \n",
    "\n",
    "* Aunque se puede interactuar directamente con el API de Twitter (un servicio REST), existe en python una librería llamada \"***Tweepy***\" que nos permite hacer peticiones al API por medio de una serie de funciones (o métodos) implementados en esta librería.\n",
    "\n",
    "\n",
    "###### ***NOTA***: En el fichero README.md se indica como instalar la librería tweepy, así como el resto de librerías necesarias para seguir este curso.\n",
    "\n",
    "\n",
    "### Registro de una APP en Twitter\n",
    "\n",
    "\n",
    "* Para poder interactuar con Twitter es necesario tener una cuenta de Twitter y registrar una applicación en: https://apps.twitter.com/. \n",
    "\n",
    "\n",
    "* Una vez registrada la app te deberá de proporcionar:\n",
    "    1. consumer_key\n",
    "    2. consumer_secret\n",
    "    \n",
    " \n",
    "* Luego se tiene que generar un:\n",
    "    1. access_token\n",
    "    2. access_token_secret\n",
    "\n",
    "\n",
    "### Autenticación para obtener información de Twitter\n",
    "\n",
    "\n",
    "* Nos tenemos que autenticar en Twitter con las credenciales proporcionadas una vez registrada la aplicación."
   ]
  },
  {
   "cell_type": "code",
   "execution_count": 1,
   "metadata": {},
   "outputs": [],
   "source": [
    "import tweepy\n",
    "from pathlib2 import Path\n",
    "\n",
    "# Claves de cliente y tokens de acceso\n",
    "CONSUMER_KEY = 'znxK58AB37Yj12Nz73GgqqEuv'\n",
    "CONSUMER_SECRET = '9c0DkC61KTxqaCteTZ1KhYWrBv9vWl2t3yP9EPnGHZRgTEw4CC'\n",
    "ACCESS_TOKEN = '488598384-vO0cRRJiOduQV2rCum5VmpMtHd5B46amVewMTJGy'\n",
    "ACCESS_TOKEN_SECRET = 'sGwZ2gfucCp8naO2246oKtRYJwhrjYtTkTzmocDJ5yCjh'\n",
    "\n",
    "# Proceso de autenticación OAuth\n",
    "auth = tweepy.OAuthHandler(CONSUMER_KEY, CONSUMER_SECRET)\n",
    "auth.set_access_token(ACCESS_TOKEN, ACCESS_TOKEN_SECRET)\n",
    "api = tweepy.API(auth,wait_on_rate_limit=False)"
   ]
  },
  {
   "cell_type": "markdown",
   "metadata": {},
   "source": [
    "<hr>\n",
    "\n",
    "\n",
    "## Ejemplo 1 - Obtención de Tweets por Hashtag\n",
    "\n",
    "\n",
    "* Por ejemplo podemos obtener los tweets que tienen un determinado Hashtag de la siguiente manera:"
   ]
  },
  {
   "cell_type": "code",
   "execution_count": 2,
   "metadata": {},
   "outputs": [
    {
     "name": "stdout",
     "output_type": "stream",
     "text": [
      "Tweet 1: El #RealMadrid se suma al interés del #FCBarcelona por el fichaje de #Wijnaldum https://t.co/VezRRbVpZy https://t.co/5kPZOnCZPL\n",
      "\n",
      "Tweet 2: 🔙19.11.2005: El #FCBarcelona goleaba 0-3 al #RealMadrid en el 🏟Santiago Bernabéu. El resultado no fue lo importante, porque se vió opacado por la BRILLANTE actuación de Ronaldinho, con un juego espectacular y 2 GOLAZOS. Ese día, hace 15 años, ‘Dinho’ salió ovacionado del campo. https://t.co/YwPxGwyi3g\n",
      "\n",
      "Tweet 3: 🔷 ENTÉRATE 🔷\n",
      "\n",
      "➡️ Además del interés del 🔵🔴 #FCBarcelona, ⚪️ #RealMadrid se suma para conseguir el fichaje del defensor #EricGarcía https://t.co/nmUlpRQWsa ⬅️ https://t.co/1SM5vKxwkC\n",
      "\n",
      "Tweet 4: 🔷 ENTÉRATE 🔷\n",
      "\n",
      "➡️ Además del interés del 🔵🔴 #FCBarcelona, ⚪️ #RealMadrid se suma para conseguir el fichaje del defensor #EricGarcía https://t.co/nmUlpRQWsa ⬅️ https://t.co/iZIOI52R1z\n",
      "\n",
      "Tweet 5: Los grandes de España van por el joven central. Además del interés del #FCBarcelona, #RealMadrid se suma para conseguir el fichaje del defensor #EricGarcía https://t.co/nmUlpS8xjI https://t.co/UBGo15FIEh\n",
      "\n",
      "Tweet 6: RT @Aficion_Central: LaLiga reduce los límites salariales de #RealMadrid y #FCBarcelona 💰 https://t.co/ULrHI8J51g\n",
      "\n",
      "Tweet 7: Adama Traoré rechaza renovar con los Wolves y se pone a tiro de #FCBarcelona y #RealMadrid\n",
      " https://t.co/FtBDbIwF59\n",
      "\n",
      "Tweet 8: LaLiga reduce los límites salariales de #RealMadrid y #FCBarcelona 💰 https://t.co/ULrHI8J51g\n",
      "\n",
      "Tweet 9: 💰 LaLiga reduce los límites salariales de #RealMadrid y #FCBarcelona https://t.co/ULrHI90GpQ\n",
      "\n",
      "Tweet 10: Pedri: «Doy las gracias al #RealMadrid por no ficharme. Estoy donde quería»\n",
      "https://t.co/Z8P2nbp7k8 #FCBarcelona https://t.co/9SqXOzSXSE\n",
      "\n",
      "Tweet 11: LaLiga reduce los límites salariales de #RealMadrid y #FCBarcelona 💰 https://t.co/ULrHI8J51g\n",
      "\n",
      "Tweet 12: RT @TMes_news: Estos son los límites de coste de plantilla de los equipos de #LaLiga para esta temporada y la diferencia con los de la camp…\n",
      "\n",
      "Tweet 13: 🔻 ENTÉRATE 🔻\n",
      "\n",
      "➡️ #Pedri joven figura del 🔵🔴 #FCBarcelona reveló que fue rechazado por el #RealMadrid pero gracias a eso cumplió su sueño (ENTREVISTA) 🗣🎙 https://t.co/GcDpYXZVlm ⬅️ https://t.co/KDx3KZYyyp\n",
      "\n",
      "Tweet 14: RT @okapuestas: ¡SORTEO DEL DÍA! Regalamos 4 #premios de 25€ para jugar en #Codere España a los que hagáis RT (nuevos usuarios +18) #okapue…\n",
      "\n",
      "Tweet 15: ¿Guardando rencor?\n",
      "\n",
      "En entrevista para la Cadena SER, Pedri contó que estuvo a prueba en el Real Madrid una semana y le dijeron que no tenía el nivel. Asegura que fue lo mejor porque \"es del Barça desde pequeño\" 🤔⚽️🔵🔴 #Pedri #FCBarcelona #LaLiga #RealMadrid #futbol https://t.co/PZA8mMmCjp\n",
      "\n",
      "Tweet 16: RT @TMes_news: Estos son los límites de coste de plantilla de los equipos de #LaLiga para esta temporada y la diferencia con los de la camp…\n",
      "\n",
      "Tweet 17: RT @TMes_news: Estos son los límites de coste de plantilla de los equipos de #LaLiga para esta temporada y la diferencia con los de la camp…\n",
      "\n",
      "Tweet 18: RT @TMes_news: Estos son los límites de coste de plantilla de los equipos de #LaLiga para esta temporada y la diferencia con los de la camp…\n",
      "\n",
      "Tweet 19: Estos son los límites de coste de plantilla de los equipos de #LaLiga para esta temporada y la diferencia con los de la campaña anterior. El #RealMadrid es ahora el club con el mayor techo salarial y el del #FCBarcelona se reduce en más de 270 M€.\n",
      "\n",
      "👉 https://t.co/sWkWG8AXdp https://t.co/9qy275pGcW\n",
      "\n",
      "Tweet 20: 💰 LaLiga reduce los límites salariales de #RealMadrid y #FCBarcelona https://t.co/ULrHI90GpQ\n",
      "\n",
      "Tweet 21: El #fcbarcelona ha perdido mas que el #RealMadrid en produccion de  grandes jugadores, gracias a una mala directiva.👀\n",
      "\n",
      "Tweet 22: RT @TMes_news: Estos son los límites de coste de plantilla de los equipos de #LaLiga para esta temporada y la diferencia con los de la camp…\n",
      "\n",
      "Tweet 23: RT @TMes_news: Estos son los límites de coste de plantilla de los equipos de #LaLiga para esta temporada y la diferencia con los de la camp…\n",
      "\n",
      "Tweet 24: Estos son los límites de coste de plantilla de los equipos de #LaLiga para esta temporada y la diferencia con los de la campaña anterior. El #RealMadrid es ahora el club con el mayor techo salarial y el del #FCBarcelona se reduce en más de 270 M€.\n",
      "\n",
      "👉 https://t.co/sWkWG8Sy4X https://t.co/xILwA3X3ZK\n",
      "\n",
      "Tweet 25: RT @besoccer_ES: 🤑 El @realmadrid y el @FCBarcelona_es tienen sus límites salariales muy por encima del resto de clubes de Primera División…\n",
      "\n",
      "Tweet 26: 🤑 El @realmadrid y el @FCBarcelona_es tienen sus límites salariales muy por encima del resto de clubes de Primera División\n",
      "\n",
      "Los blancos pueden gastar más: 469.529.000 € frente a los 382.717.000 de los 'culés'  \n",
      "\n",
      "#BeSoccer #RealMadrid #FCBarcelona \n",
      "\n",
      "👇\n",
      "https://t.co/8tBmbXX13D https://t.co/wzMerlVv5m\n",
      "\n",
      "Tweet 27: RT @LaJugadaF: Javier Tebas: «Tanto el #FCBarcelona como el #RealMadrid se tiene que preparar parar vivir un año de transición» https://t.c…\n",
      "\n",
      "Tweet 28: RT @LaJugadaF: Javier Tebas: «Tanto el #FCBarcelona como el #RealMadrid se tiene que preparar parar vivir un año de transición» https://t.c…\n",
      "\n",
      "Tweet 29: Sitúan al #RealMadrid en la carrera por llevarse a un objetivo del #FCBarcelona\n",
      " https://t.co/PWGt0eXo3O\n",
      "\n",
      "Tweet 30: Javier Tebas: «Tanto el #FCBarcelona como el #RealMadrid se tiene que preparar parar vivir un año de transición» https://t.co/6CrhDXCIQq https://t.co/E2cf2xtju1\n",
      "\n",
      "Tweet 31: 🔻 ENTÉRATE 🔻\n",
      "\n",
      "➡️ #Pedri joven figura del 🔵🔴 #FCBarcelona reveló que fue rechazado por el #RealMadrid pero gracias a eso cumplió su sueño (ENTREVISTA) 🗣🎙 https://t.co/GcDpYXIktO ⬅️ https://t.co/iL5GFttytb\n",
      "\n",
      "Tweet 32: #LaLiga reduce un 43% el límite de plantilla del #FCBarcelona y un 27% el del #RealMadrid https://t.co/jaj7z6AIDF\n",
      "\n",
      "Tweet 33: RT @IF_FCBarcelona: ❌⚪🗣️ Pedri: \"El Madrid me rechazó porque no tenía nivel\" #FCBarcelona #RealMadrid #LaLiga\n",
      "\n",
      "🖋️ Por @alexferj_\n",
      "\n",
      "https://t…\n",
      "\n",
      "Tweet 34: ❌⚪🗣️ Pedri: \"El Madrid me rechazó porque no tenía nivel\" #FCBarcelona #RealMadrid #LaLiga\n",
      "\n",
      "🖋️ Por @alexferj_\n",
      "\n",
      "https://t.co/PR3VqrkUsD\n",
      "\n",
      "Tweet 35: RT @defcentral: El Madrid rechazó a Pedri: \"Estuve probando una semana, me dijeron que no tenía el nivel\"\n",
      "\n",
      "https://t.co/gQSOrjLInO\n",
      "\n",
      "#RealMa…\n",
      "\n",
      "Tweet 36: El Madrid rechazó a Pedri: \"Estuve probando una semana, me dijeron que no tenía el nivel\"\n",
      "\n",
      "https://t.co/gQSOrjLInO\n",
      "\n",
      "#RealMadrid #FCBarcelona #Fichajes https://t.co/DKjiMt5jKn\n",
      "\n",
      "Tweet 37: RT @don_Diario: El deseado Eric García ya tiene precio: el Madrid y el Barça, muy atentos\n",
      "\n",
      "https://t.co/oEiOzKvvMf\n",
      "\n",
      "#RealMadrid #FCBarcelon…\n",
      "\n",
      "Tweet 38: El deseado Eric García ya tiene precio: el Madrid y el Barça, muy atentos\n",
      "\n",
      "https://t.co/oEiOzKvvMf\n",
      "\n",
      "#RealMadrid #FCBarcelona #ManCity https://t.co/GfSSJBZLzp\n",
      "\n",
      "Tweet 39: El Real Madrid quiere arrebatarle al Barcelona el fichaje del central del futuro\n",
      "\n",
      "https://t.co/nIx1qSSrzP\n",
      "\n",
      "#RealMadrid #FCBarcelona #fichajes https://t.co/zK9DXkTnPN\n",
      "\n",
      "Tweet 40: 🔵⚪ ¡EL CITY POR HAALAND Y/O LAUTARO! 🚨\n",
      "Según Diario Sport, el #ManchesterCity se prepara para competir con el #FCBarcelona y el #RealMadrid por el fichaje de Earling Haaland 🇳🇴 y/o Lautaro Martínez 🇦🇷.\n",
      "\n",
      "¿Cuál será el futuro de estos cracks?🤔\n",
      "#LaClaveDelJuego https://t.co/DubFSVJYAD\n",
      "\n",
      "Tweet 41: Nuevo Deporte, FootBall Quartet⚽️\n",
      "#FootballShow #football #futbol #FutbolFemenino #footballindex #Messi #Ronaldo #FCBarcelona #spain #FootballQuartet #footballamericano #soccer #futbol #messi #ronaldo #neymar #realmadrid #suarez #barcelona #barca #halamadrid #manchesterunited BCN https://t.co/UcpRYnJOFb\n",
      "\n",
      "Tweet 42: RT @don_Diario: El deseado Eric García ya tiene precio: el Madrid y el Barça, muy atentos\n",
      "\n",
      "https://t.co/oEiOzKvvMf\n",
      "\n",
      "#RealMadrid #FCBarcelon…\n",
      "\n",
      "Tweet 43: RT @defcentral: El Real Madrid quiere arrebatarle al Barcelona el fichaje del central del futuro\n",
      "\n",
      "https://t.co/nIx1qSAQbf\n",
      "\n",
      "#RealMadrid #FCB…\n",
      "\n",
      "Tweet 44: RT @defcentral: El Real Madrid quiere arrebatarle al Barcelona el fichaje del central del futuro\n",
      "\n",
      "https://t.co/nIx1qSAQbf\n",
      "\n",
      "#RealMadrid #FCB…\n",
      "\n",
      "Tweet 45: El Real Madrid quiere arrebatarle al Barcelona el fichaje del central del futuro\n",
      "\n",
      "https://t.co/nIx1qSAQbf\n",
      "\n",
      "#RealMadrid #FCBarcelona #fichajes https://t.co/i8XFQkfmns\n",
      "\n",
      "Tweet 46: 🏆 Resto de emparejamientos de equipos de Primera en la primera ronda de la #CopaDelRey. Recordemos que #RealMadrid, #FCBarcelona, #Athletic y #RealSociedad no entran hasta 16avos de final. https://t.co/jS8UTvDBgx\n",
      "\n",
      "Tweet 47: RT @don_Diario: El deseado Eric García ya tiene precio: el Madrid y el Barça, muy atentos\n",
      "\n",
      "https://t.co/oEiOzKvvMf\n",
      "\n",
      "#RealMadrid #FCBarcelon…\n",
      "\n",
      "Tweet 48: El deseado Eric García ya tiene precio: el Madrid y el Barça, muy atentos\n",
      "\n",
      "https://t.co/oEiOzKvvMf\n",
      "\n",
      "#RealMadrid #FCBarcelona #ManCity https://t.co/uVZ0gABbkT\n",
      "\n",
      "Tweet 49: RT @okapuestas: ¡SORTEO DEL DÍA! Regalamos 4 #premios de 25€ para jugar en #Codere España a los que hagáis RT (nuevos usuarios +18) #okapue…\n",
      "\n",
      "Tweet 50: RT @don_Diario: El Real Madrid peleará el fichaje más deseado por el Barça\n",
      "\n",
      "https://t.co/5TVn91wWM5\n",
      "\n",
      "#RealMadrid #FCBarcelona #fichajes htt…\n",
      "\n"
     ]
    }
   ],
   "source": [
    "# Numero de tweets a pedir\n",
    "n_tweets = 50\n",
    "\n",
    "# Hashtags\n",
    "hashtags = '#RealMadrid,#FCBarcelona'\n",
    "\n",
    "\n",
    "# Leo los tweets disponibles\n",
    "tweets = list()\n",
    "for tw in tweepy.Cursor(api.search, q=hashtags, lang=\"es\", tweet_mode=\"extended\").items(n_tweets):\n",
    "    tweets.append(tw.full_text.encode(encoding='utf-8').strip())\n",
    "\n",
    "for i, tweet in enumerate(tweets):\n",
    "    print('Tweet {num}: {tweet}\\n'.format(num=i+1, tweet=tweet.decode(\"utf-8\")))"
   ]
  },
  {
   "cell_type": "markdown",
   "metadata": {},
   "source": [
    "* Escribirmos los tweets en un fichero de texto para su almacenamiento:"
   ]
  },
  {
   "cell_type": "code",
   "execution_count": 3,
   "metadata": {},
   "outputs": [],
   "source": [
    "# Fichero donde guardaremos los tweets obtenidos\n",
    "file = \"./data/resultados/ejemplo_tweets_por_hashtag.csv\"\n",
    "\n",
    "# Escribimos los datos en fichero\n",
    "fichero = open(file, 'w')\n",
    "for i, tweet in enumerate(tweets):\n",
    "    fichero.write('{num},{tweet}\\n'.format(num=i+1, tweet=tweet.decode(\"utf-8\")))\n",
    "fichero.close()"
   ]
  },
  {
   "cell_type": "markdown",
   "metadata": {},
   "source": [
    "<hr>\n",
    "\n",
    "\n",
    "## Ejemplo 2 - Obtención de tweets por cuenta\n",
    "\n",
    "\n",
    "* Obtenemos los tweets de las cuentas de partidos políticos."
   ]
  },
  {
   "cell_type": "code",
   "execution_count": 4,
   "metadata": {},
   "outputs": [
    {
     "name": "stdout",
     "output_type": "stream",
     "text": [
      "-> PPopular||pp||Recordamos que ahora estamos en @populares.\n",
      "\n",
      "-> PSOE||psoe||🗞️ Tenemos una gran oportunidad para mirar al futuro y fortalecer la #cultura 🎨 y el #deporte 🤸‍♀️\n",
      "\n",
      "📰 Ya disponible la entrevista de @RuizMaritcha a @jmrdezuribes en 'El Socialista'.\n",
      "\n",
      "👉 https://t.co/3z6572kJ76\n",
      "\n",
      "🎥 Hablamos con él ▶️ https://t.co/kx6LC56Y2W\n",
      "\n",
      "-> CiudadanosCs||ciudadanos||⚠️ La izquierda radical y el separatismo se creen los abanderados de las causas benéficas.\n",
      "\n",
      "‼️ Pero su superioridad moral es mentira.\n",
      "\n",
      "📺 @Carrizosacarlos \"ERC no solo quiere separarnos del resto de España, sino que encima nos roba en plena pandemia\" en @elprogramadear https://t.co/krXSAvTME2\n",
      "\n",
      "-> CiudadanosCs||ciudadanos||👎 Es vergonzoso lo que el Gobierno quiere hacer con la educación especial. \n",
      "\n",
      "📺 @Carrizosacarlos \"Los padres son los únicos que tienen derecho a decidir sobre las necesidades educativas de sus hijos\" en @elprogramadear\n",
      "\n",
      "🍊 Desde Cs seguirán teniendo todo nuestro apoyo. https://t.co/f9y56OCeRn\n",
      "\n",
      "-> PODEMOS||podemos||🏳️‍⚧️ Hoy mandamos todo nuestro apoyo a las personas trans.\n",
      "\n",
      "Por las asesinadas y víctimas de la transfobia.\n",
      "\n",
      "Por las que lucharon y luchan por su derecho a ser.\n",
      "\n",
      "Pongamos fin a su histórica discriminación, venga de donde venga.\n",
      "\n",
      "#MemoriaTrans para seguir avanzando en derechos.\n",
      "\n",
      "-> vox_es||vox||📻 @jcamposasensi sobre el español en los colegios:\n",
      "\n",
      "\"En Baleares la ley Celaá no se va a notar, la situación es la misma desde hace 25 años\".\n",
      "\n",
      "📢 #StopLeyCelaá\n",
      "\n",
      "https://t.co/BcJsBpGoZF\n",
      "\n"
     ]
    }
   ],
   "source": [
    "cuentas = [{'partido': 'pp', 'nombre_cuenta': 'PPopular'},\n",
    "           {'partido': 'psoe', 'nombre_cuenta': 'PSOE'},\n",
    "           {'partido': 'ciudadanos', 'nombre_cuenta': 'CiudadanosCs'},\n",
    "           {'partido': 'podemos', 'nombre_cuenta': 'PODEMOS'},\n",
    "           {'partido': 'vox', 'nombre_cuenta': 'vox_es'}]\n",
    "\n",
    "# Numero de tweets a pedir por cuenta\n",
    "n_tweets = 2\n",
    "\n",
    "# Leo los tweets disponibles\n",
    "tweets = list()\n",
    "for i in cuentas:\n",
    "    for user_status in api.user_timeline(screen_name=i['nombre_cuenta'], count = n_tweets, include_rts=False, tweet_mode=\"extended\"):\n",
    "        tweets.append('{cuenta}||{partido}||{tweet}'\n",
    "                      .format(cuenta=i['nombre_cuenta'],\n",
    "                              partido=i['partido'],\n",
    "                              tweet=str(user_status.full_text.encode('utf-8').decode('utf-8')).strip()))\n",
    "\n",
    "for i, tweet in enumerate(tweets):\n",
    "    print('-> {tweet}\\n'.format(tweet=tweet))\n"
   ]
  },
  {
   "cell_type": "markdown",
   "metadata": {},
   "source": [
    "<hr>\n",
    "\n",
    "\n",
    "# Bonus Track - Strings - Codificación y funciones básicas\n",
    " \n",
    "\n",
    "\n",
    "\n",
    "## Codificación de Caracteres\n",
    "\n",
    "\n",
    "* Uno de los quebraderos de cabeza que se tiene a la hora de trabajar con python (sobre todo con python 2.X) es el tema de la ***codificación de los textos (Strings)***.\n",
    "\n",
    "\n",
    "* En un principio los ordenadores se diseñaron para utilizar el alfabeto ingles (que entre otras cosas no tiene ni acentos ni letras como la \"ñ\" para el Español) y por ese motivo se definió la codificación ***ASCII*** (***A***merican ***S***tandard ***C***ode for ***I***nformation ***I***nterchange) definido con 128 caracteres (7 bits para representar los 2<sup>7</sup> = 128 caracteres).\n",
    "\n",
    "\n",
    "<img src=\"./imgs/01_01_ASCII.png\" style=\"width: 500px;\"/>\n",
    "\n",
    "\n",
    "* Dado que en el resto de lenguas en el mundo hay muchos más caracteres, se definió una nueva codificación de caracteres denominada como ***UNICODE*** que representa alrededor de 110.000 caracteres.\n",
    "\n",
    "\n",
    "* Por tanto para poder trabajar con Strings (codificados de diferente manera) se debería hacer lo siguiente:\n",
    "\n",
    "    1. ¿Cual es la codificación de mi fichero original?\n",
    "    2. **Decode**: Paso el string de mi fichero a Unicode (cambio de codificación)\n",
    "    3. Realizo las operaciones que sean necesarias sobre los strings codificados en **Unicode**\n",
    "    4. **Encode**: Escribo de **Unicode** a otra **codificación** el string con el que he trabajado\n",
    "\n",
    "\n",
    "<img src=\"./imgs/01_02_Codificacion.png\" style=\"width: 500px;\"/>\n",
    "\n",
    "\n",
    "<hr>\n",
    "\n",
    "\n",
    "## Operaciones con Strings\n",
    "\n",
    "\n",
    "* Muchas veces tenemos que realizar operaciones de transforación sobre palabras o textos. A continuación se muestran algunas de las funciones más útiles para trabajar con strings:\n",
    "\n",
    "|Nombre Función|Funcionalidad|\n",
    "|---|---|\n",
    "|[s.find(t)](#M1)|index of first instance of string t inside s (-1 if not found)|\n",
    "|[s.rfind(t)](#M2)|index of last instance of string t inside s (-1 if not found)|\n",
    "|[s.index(t)](#M3)|like s.find(t) except it raises ValueError if not found|\n",
    "|[s.rindex(t)](#M4)|like s.rfind(t) except it raises ValueError if not found|\n",
    "|[s.join(text)](#M5)|combine the words of the text into a string using s as the glue|\n",
    "|[s.split(t)](#M6)|split s into a list wherever a t is found (whitespace by default)|\n",
    "|[s.splitlines()](#M7)|split s into a list of strings, one per line|\n",
    "|[s.lower()](#M8)|a lowercased version of the string s|\n",
    "|[s.upper()](#M9)|an uppercased version of the string s|\n",
    "|[s.title()](#M10)|a titlecased version of the string s|\n",
    "|[s.strip()](#M11)|a copy of s without leading or trailing whitespace|\n",
    "|[s.replace(t, u)](#M12)|replace instances of t with u inside s|"
   ]
  },
  {
   "cell_type": "markdown",
   "metadata": {},
   "source": [
    "<hr>\n",
    "\n",
    "\n",
    "### <a name=\"M1\">s.find(t)</a>\n",
    "\n",
    "\n",
    "* Encuentra la posición (indice) del string que se pasa como parámetro empezando a contar desde la izquierda.\n",
    "\n",
    "\n",
    "* Si no encuentra el string, devuelve valor -1."
   ]
  },
  {
   "cell_type": "code",
   "execution_count": 5,
   "metadata": {},
   "outputs": [
    {
     "data": {
      "text/plain": [
       "8"
      ]
     },
     "execution_count": 5,
     "metadata": {},
     "output_type": "execute_result"
    }
   ],
   "source": [
    "s = 'Ricardo Moya'\n",
    "s.find('Moya')"
   ]
  },
  {
   "cell_type": "code",
   "execution_count": 6,
   "metadata": {},
   "outputs": [
    {
     "data": {
      "text/plain": [
       "3"
      ]
     },
     "execution_count": 6,
     "metadata": {},
     "output_type": "execute_result"
    }
   ],
   "source": [
    "s.find('a')"
   ]
  },
  {
   "cell_type": "code",
   "execution_count": 7,
   "metadata": {},
   "outputs": [
    {
     "data": {
      "text/plain": [
       "-1"
      ]
     },
     "execution_count": 7,
     "metadata": {},
     "output_type": "execute_result"
    }
   ],
   "source": [
    "s.find('e')"
   ]
  },
  {
   "cell_type": "markdown",
   "metadata": {},
   "source": [
    "<hr>\n",
    "\n",
    "\n",
    "### <a name=\"M2\">s.rfind(t)</a>\n",
    "\n",
    "\n",
    "* Hace lo mismo que \"s.find(t)\" pero empezando a contar desde la derecha."
   ]
  },
  {
   "cell_type": "code",
   "execution_count": 8,
   "metadata": {},
   "outputs": [
    {
     "data": {
      "text/plain": [
       "11"
      ]
     },
     "execution_count": 8,
     "metadata": {},
     "output_type": "execute_result"
    }
   ],
   "source": [
    "s.rfind('a')"
   ]
  },
  {
   "cell_type": "code",
   "execution_count": 9,
   "metadata": {},
   "outputs": [
    {
     "data": {
      "text/plain": [
       "8"
      ]
     },
     "execution_count": 9,
     "metadata": {},
     "output_type": "execute_result"
    }
   ],
   "source": [
    "s.rfind('Moya')"
   ]
  },
  {
   "cell_type": "markdown",
   "metadata": {},
   "source": [
    "<hr>\n",
    "\n",
    "\n",
    "### <a name=\"M3\">s.index(t)</a>\n",
    "\n",
    "\n",
    "* Hace lo mismo que \"s.find(t)\", con la única diferencia que devuelve un error (en vez de un -1) si no encuentra el string que se pasa como parámetro."
   ]
  },
  {
   "cell_type": "code",
   "execution_count": 10,
   "metadata": {},
   "outputs": [
    {
     "data": {
      "text/plain": [
       "8"
      ]
     },
     "execution_count": 10,
     "metadata": {},
     "output_type": "execute_result"
    }
   ],
   "source": [
    "s.index('Moya')"
   ]
  },
  {
   "cell_type": "code",
   "execution_count": 11,
   "metadata": {},
   "outputs": [
    {
     "data": {
      "text/plain": [
       "3"
      ]
     },
     "execution_count": 11,
     "metadata": {},
     "output_type": "execute_result"
    }
   ],
   "source": [
    "s.index('a')"
   ]
  },
  {
   "cell_type": "code",
   "execution_count": 12,
   "metadata": {},
   "outputs": [
    {
     "ename": "ValueError",
     "evalue": "substring not found",
     "output_type": "error",
     "traceback": [
      "\u001b[0;31m---------------------------------------------------------------------------\u001b[0m",
      "\u001b[0;31mValueError\u001b[0m                                Traceback (most recent call last)",
      "\u001b[0;32m<ipython-input-12-8ac0fc017686>\u001b[0m in \u001b[0;36m<module>\u001b[0;34m\u001b[0m\n\u001b[0;32m----> 1\u001b[0;31m \u001b[0ms\u001b[0m\u001b[0;34m.\u001b[0m\u001b[0mindex\u001b[0m\u001b[0;34m(\u001b[0m\u001b[0;34m'e'\u001b[0m\u001b[0;34m)\u001b[0m \u001b[0;31m# Devuelve un error\u001b[0m\u001b[0;34m\u001b[0m\u001b[0;34m\u001b[0m\u001b[0m\n\u001b[0m",
      "\u001b[0;31mValueError\u001b[0m: substring not found"
     ]
    }
   ],
   "source": [
    "s.index('e') # Devuelve un error"
   ]
  },
  {
   "cell_type": "markdown",
   "metadata": {},
   "source": [
    "<hr>\n",
    "\n",
    "\n",
    "### <a name=\"M4\">s.rindex(t)\n",
    "\n",
    "\n",
    "* Hace lo mismo que \"s.index(t)\" pero empezando a contar desde la derecha."
   ]
  },
  {
   "cell_type": "code",
   "execution_count": 13,
   "metadata": {},
   "outputs": [
    {
     "data": {
      "text/plain": [
       "11"
      ]
     },
     "execution_count": 13,
     "metadata": {},
     "output_type": "execute_result"
    }
   ],
   "source": [
    "s.rindex('a')"
   ]
  },
  {
   "cell_type": "code",
   "execution_count": 14,
   "metadata": {},
   "outputs": [
    {
     "data": {
      "text/plain": [
       "8"
      ]
     },
     "execution_count": 14,
     "metadata": {},
     "output_type": "execute_result"
    }
   ],
   "source": [
    "s.rfind('Moya')"
   ]
  },
  {
   "cell_type": "markdown",
   "metadata": {},
   "source": [
    "<hr>\n",
    "\n",
    "\n",
    "### <a name=\"M5\">separador.join(text)</a>\n",
    "\n",
    "\n",
    "* Une cada letra del string que se le pasa como parámetro con el separador.\n"
   ]
  },
  {
   "cell_type": "code",
   "execution_count": 15,
   "metadata": {},
   "outputs": [
    {
     "data": {
      "text/plain": [
       "'R-i-c-a-r-d-o- -M-o-y-a'"
      ]
     },
     "execution_count": 15,
     "metadata": {},
     "output_type": "execute_result"
    }
   ],
   "source": [
    "'-'.join(s)"
   ]
  },
  {
   "cell_type": "markdown",
   "metadata": {},
   "source": [
    "* Esta es una función muy utilizada para formar una cadena de texto con separador (por ejemplo un espacio en blanco) a partir de una lista o tupla:"
   ]
  },
  {
   "cell_type": "code",
   "execution_count": 16,
   "metadata": {},
   "outputs": [
    {
     "data": {
      "text/plain": [
       "'Un radar multa a Mariano Rajoy por caminar demasiado rapido'"
      ]
     },
     "execution_count": 16,
     "metadata": {},
     "output_type": "execute_result"
    }
   ],
   "source": [
    "lista = [\"Un\", \"radar\", \"multa\", \"a\", \"Mariano\", \"Rajoy\", \"por\", \"caminar\", \"demasiado\", \"rapido\"]\n",
    "' '.join(lista)"
   ]
  },
  {
   "cell_type": "markdown",
   "metadata": {},
   "source": [
    "<hr>\n",
    "\n",
    "\n",
    "### <a name=\"M6\">s.split(t)</a>\n",
    "\n",
    "\n",
    "* Divide el String \"***s***\" en una lista siempre que encuentre un separador \"***t***\".\n",
    "\n",
    "\n",
    "* Por defecto el separador es el espacio en blanco."
   ]
  },
  {
   "cell_type": "code",
   "execution_count": 17,
   "metadata": {},
   "outputs": [
    {
     "data": {
      "text/plain": [
       "['Un',\n",
       " 'radar',\n",
       " 'multa',\n",
       " 'a',\n",
       " 'Mariano',\n",
       " 'Rajoy',\n",
       " 'por',\n",
       " 'caminar',\n",
       " 'demasiado',\n",
       " 'rapido']"
      ]
     },
     "execution_count": 17,
     "metadata": {},
     "output_type": "execute_result"
    }
   ],
   "source": [
    "texto = \"Un radar multa a Mariano Rajoy por caminar demasiado rapido\"\n",
    "texto.split(' ')"
   ]
  },
  {
   "cell_type": "markdown",
   "metadata": {},
   "source": [
    "<hr>\n",
    "\n",
    "\n",
    "### <a name=\"M7\">s.splitlines()</a>\n",
    "\n",
    "\n",
    "* Divide un String \"***s***\" en una lista siempre que encuentre un salto de linea (\\n)."
   ]
  },
  {
   "cell_type": "code",
   "execution_count": 18,
   "metadata": {},
   "outputs": [
    {
     "data": {
      "text/plain": [
       "[' linea 1', 'linea 2', 'linea 3']"
      ]
     },
     "execution_count": 18,
     "metadata": {},
     "output_type": "execute_result"
    }
   ],
   "source": [
    "texto = \"\"\" linea 1\\nlinea 2\n",
    "linea 3\n",
    "\"\"\"\n",
    "\n",
    "texto.splitlines()"
   ]
  },
  {
   "cell_type": "markdown",
   "metadata": {},
   "source": [
    "<hr>\n",
    "\n",
    "\n",
    "### <a name=\"M8\">s.lower()</a>\n",
    "\n",
    "\n",
    "* Transforma un String \"***s***\" a minúsculas."
   ]
  },
  {
   "cell_type": "code",
   "execution_count": 19,
   "metadata": {},
   "outputs": [
    {
     "data": {
      "text/plain": [
       "'minusculas'"
      ]
     },
     "execution_count": 19,
     "metadata": {},
     "output_type": "execute_result"
    }
   ],
   "source": [
    "s = \"MiNuSCuLaS\"\n",
    "s.lower()"
   ]
  },
  {
   "cell_type": "markdown",
   "metadata": {},
   "source": [
    "<hr>\n",
    "\n",
    "\n",
    "### <a name=\"M9\">s.upper()</a>\n",
    "\n",
    "\n",
    "* Transforma un String \"***s***\" a mayúsculas."
   ]
  },
  {
   "cell_type": "code",
   "execution_count": 20,
   "metadata": {},
   "outputs": [
    {
     "data": {
      "text/plain": [
       "'MAYUSCULAS'"
      ]
     },
     "execution_count": 20,
     "metadata": {},
     "output_type": "execute_result"
    }
   ],
   "source": [
    "s = \"mAyUscUlAs\"\n",
    "s.upper()"
   ]
  },
  {
   "cell_type": "markdown",
   "metadata": {},
   "source": [
    "<hr>\n",
    "\n",
    "\n",
    "### <a name=\"M10\">s.title()</a>\n",
    "\n",
    "\n",
    "* Transforma el String \"***s***\" en formato título; es decir, pone la primera letra de cada palabra de String en mayúsculas y el resto en minúsculas."
   ]
  },
  {
   "cell_type": "code",
   "execution_count": 21,
   "metadata": {},
   "outputs": [
    {
     "data": {
      "text/plain": [
       "'Ricardo Moya'"
      ]
     },
     "execution_count": 21,
     "metadata": {},
     "output_type": "execute_result"
    }
   ],
   "source": [
    "s = \"rIcArdO mOyA\"\n",
    "s.title()"
   ]
  },
  {
   "cell_type": "markdown",
   "metadata": {},
   "source": [
    "<hr>\n",
    "\n",
    "\n",
    "### <a name=\"M11\">s.strip()</a>\n",
    "\n",
    "\n",
    "* Elimina los espacios en blanco y caracteres espaciales que hay tanto a la decrecha como a la izquierda del String \"***s***\".\n",
    "\n",
    "\n",
    "* Existen también las variantes de:\n",
    "    - s.rstrip(): Elimina los espacios en blanco y caracteres espaciales que hay a la derecha del string.\n",
    "    - s.lstrip(): Elimina los espacios en blanco y caracteres espaciales que hay a la izquierda del string."
   ]
  },
  {
   "cell_type": "code",
   "execution_count": 22,
   "metadata": {},
   "outputs": [
    {
     "data": {
      "text/plain": [
       "'Ricardo Moya'"
      ]
     },
     "execution_count": 22,
     "metadata": {},
     "output_type": "execute_result"
    }
   ],
   "source": [
    "s = \"   \\tRicardo Moya  \\t  \"\n",
    "s.strip()"
   ]
  },
  {
   "cell_type": "code",
   "execution_count": 23,
   "metadata": {},
   "outputs": [
    {
     "data": {
      "text/plain": [
       "'   \\tRicardo Moya'"
      ]
     },
     "execution_count": 23,
     "metadata": {},
     "output_type": "execute_result"
    }
   ],
   "source": [
    "s.rstrip()"
   ]
  },
  {
   "cell_type": "code",
   "execution_count": 24,
   "metadata": {},
   "outputs": [
    {
     "data": {
      "text/plain": [
       "'Ricardo Moya  \\t  '"
      ]
     },
     "execution_count": 24,
     "metadata": {},
     "output_type": "execute_result"
    }
   ],
   "source": [
    "s.lstrip()"
   ]
  },
  {
   "cell_type": "markdown",
   "metadata": {},
   "source": [
    "<hr>\n",
    "\n",
    "\n",
    "### <a name=\"M12\">s.replace(t, u)</a>\n",
    "\n",
    "\n",
    "* Dado un String \"***s***\" sustituye cada aparición \"***t***\" por \"***u***\", pasandose \"***t***\" y \"***u***\" como parámetro."
   ]
  },
  {
   "cell_type": "code",
   "execution_count": 25,
   "metadata": {},
   "outputs": [
    {
     "data": {
      "text/plain": [
       "'Un radar multa a un tio por caminar demasiado rapido'"
      ]
     },
     "execution_count": 25,
     "metadata": {},
     "output_type": "execute_result"
    }
   ],
   "source": [
    "s = \"Un radar multa a Mariano Rajoy por caminar demasiado rapido\"\n",
    "s.replace(\"Mariano Rajoy\", \"un tio\")"
   ]
  },
  {
   "cell_type": "markdown",
   "metadata": {},
   "source": [
    "<hr>\n",
    "\n",
    "*Este Notebook ha sido desarrollado por **Ricardo Moya García** y registrado en Safe Creative como ***Atribución-NoComercial-CompartirIgual***.*\n",
    "\n",
    "<img src=\"./imgs/CC_BY-NC-SA.png\" alt=\"CC BY-NC\">"
   ]
  }
 ],
 "metadata": {
  "kernelspec": {
   "display_name": "Python 3",
   "language": "python",
   "name": "python3"
  },
  "language_info": {
   "codemirror_mode": {
    "name": "ipython",
    "version": 3
   },
   "file_extension": ".py",
   "mimetype": "text/x-python",
   "name": "python",
   "nbconvert_exporter": "python",
   "pygments_lexer": "ipython3",
   "version": "3.6.10"
  }
 },
 "nbformat": 4,
 "nbformat_minor": 2
}

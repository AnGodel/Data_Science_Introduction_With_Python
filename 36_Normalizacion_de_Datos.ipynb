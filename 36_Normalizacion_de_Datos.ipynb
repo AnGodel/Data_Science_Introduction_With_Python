{
 "cells": [
  {
   "cell_type": "markdown",
   "metadata": {},
   "source": [
    "# 36 - Normalizacion de Datos\n",
    "\n",
    "\n",
    "* En este Notebook vamos a ver como ***Normalizar las variables*** de un Dataset.\n",
    "\n",
    "\n",
    "* ***La Normalización es un proceso que consiste en convertir el rango de valores de una variable numérica, a un rango estandar como por ejemplo entre [-1,1], [0,1], etc.***\n",
    "\n",
    "\n",
    "* Una de las maneras más comunes para normalizar los datos sería la siguiente conocida como el **\"Min Max Scaler\"**:\n",
    "<span></span><br><br>\n",
    "<span style=\"font-size:20px\">$$\\overline{X}^{(i)} = \\frac{x^{(i)} - min^{(i)}}{max^{(i)} - min^{(i)}}$$</span>\n",
    "    \n",
    "    \n",
    "* Donde $min^{(j)}$ y $max^{(j)}$ son respectivamente, el valor mínimo y máximo de la variable $j$ en el conjunto de datos.\n",
    "\n",
    "\n",
    "* ***¿Por qué es bueno normalizar?*** - No es necesario normalizar los datos, pero en la práctica la normalización de los datos permite a los Algoritmos de Aprendizaje generar un modelo más rápido. Por ejemplo cuando hacemos uso del gradiente descendente para la obtención de un modelo, este lo hacemos actualizando unos parámetros (los parámetros $\\beta_n$) y lo hacemos utilizando derivadas parciales del error cuadrático medio con respecto a los parámetros ($\\beta_n$). Si $x^{(1)}$ se encuentra en un rando de valores de [0, 10000] y $x^{(2)}$ se encuentra en un rando de [0,5], hace que la derivada con respecto a la característica más grande domine la actualización.\n",
    "\n",
    "\n",
    "<hr>\n",
    "\n",
    "\n",
    "## Carga de Datos\n",
    "\n",
    "\n",
    "* Veamos a continuación un ejemplo de normalización, utilizando el siguiente DataFrame:"
   ]
  },
  {
   "cell_type": "code",
   "execution_count": 1,
   "metadata": {},
   "outputs": [
    {
     "data": {
      "text/html": [
       "<div>\n",
       "<style scoped>\n",
       "    .dataframe tbody tr th:only-of-type {\n",
       "        vertical-align: middle;\n",
       "    }\n",
       "\n",
       "    .dataframe tbody tr th {\n",
       "        vertical-align: top;\n",
       "    }\n",
       "\n",
       "    .dataframe thead th {\n",
       "        text-align: right;\n",
       "    }\n",
       "</style>\n",
       "<table border=\"1\" class=\"dataframe\">\n",
       "  <thead>\n",
       "    <tr style=\"text-align: right;\">\n",
       "      <th></th>\n",
       "      <th>X1</th>\n",
       "      <th>X2</th>\n",
       "      <th>X3</th>\n",
       "      <th>X4</th>\n",
       "      <th>y</th>\n",
       "    </tr>\n",
       "  </thead>\n",
       "  <tbody>\n",
       "    <tr>\n",
       "      <th>0</th>\n",
       "      <td>0.0</td>\n",
       "      <td>0.0</td>\n",
       "      <td>0.0</td>\n",
       "      <td>0.0</td>\n",
       "      <td>0.0</td>\n",
       "    </tr>\n",
       "    <tr>\n",
       "      <th>1</th>\n",
       "      <td>1.0</td>\n",
       "      <td>10.0</td>\n",
       "      <td>100.0</td>\n",
       "      <td>1000.0</td>\n",
       "      <td>4.0</td>\n",
       "    </tr>\n",
       "    <tr>\n",
       "      <th>2</th>\n",
       "      <td>2.0</td>\n",
       "      <td>20.0</td>\n",
       "      <td>200.0</td>\n",
       "      <td>2000.0</td>\n",
       "      <td>8.0</td>\n",
       "    </tr>\n",
       "    <tr>\n",
       "      <th>3</th>\n",
       "      <td>3.0</td>\n",
       "      <td>30.0</td>\n",
       "      <td>300.0</td>\n",
       "      <td>3000.0</td>\n",
       "      <td>12.0</td>\n",
       "    </tr>\n",
       "    <tr>\n",
       "      <th>4</th>\n",
       "      <td>4.0</td>\n",
       "      <td>40.0</td>\n",
       "      <td>400.0</td>\n",
       "      <td>4000.0</td>\n",
       "      <td>16.0</td>\n",
       "    </tr>\n",
       "    <tr>\n",
       "      <th>5</th>\n",
       "      <td>5.0</td>\n",
       "      <td>50.0</td>\n",
       "      <td>500.0</td>\n",
       "      <td>5000.0</td>\n",
       "      <td>20.0</td>\n",
       "    </tr>\n",
       "  </tbody>\n",
       "</table>\n",
       "</div>"
      ],
      "text/plain": [
       "    X1    X2     X3      X4     y\n",
       "0  0.0   0.0    0.0     0.0   0.0\n",
       "1  1.0  10.0  100.0  1000.0   4.0\n",
       "2  2.0  20.0  200.0  2000.0   8.0\n",
       "3  3.0  30.0  300.0  3000.0  12.0\n",
       "4  4.0  40.0  400.0  4000.0  16.0\n",
       "5  5.0  50.0  500.0  5000.0  20.0"
      ]
     },
     "execution_count": 1,
     "metadata": {},
     "output_type": "execute_result"
    }
   ],
   "source": [
    "from sklearn.preprocessing import MinMaxScaler\n",
    "\n",
    "import pandas as pd\n",
    "\n",
    "df_origin = pd.DataFrame(data={'X1': [0.0, 1.0,    2.0,    3.0,    4.0,    5.0],\n",
    "                               'X2': [0.0, 10.0,   20.0,   30.0,   40.0,   50.0],\n",
    "                               'X3': [0.0, 100.0,  200.0,  300.0,  400.0,  500.0],\n",
    "                               'X4': [0.0, 1000.0, 2000.0, 3000.0, 4000.0, 5000.0],\n",
    "                               'y' : [0.0, 4.0,    8.0,    12.0,   16.0,   20.0]\n",
    "                              })\n",
    "\n",
    "df_origin"
   ]
  },
  {
   "cell_type": "markdown",
   "metadata": {},
   "source": [
    "<hr>\n",
    "\n",
    "\n",
    "# Normalización: Min Max Scaler\n",
    "\n",
    "* Para normalizar los datos, lo podemos hacer con la clase **\"MinMaxScaler()\"** de scikit-learn de la siguiente manera, obteniendo el nuevo DataFrame Normalizado"
   ]
  },
  {
   "cell_type": "code",
   "execution_count": 2,
   "metadata": {},
   "outputs": [
    {
     "data": {
      "text/html": [
       "<div>\n",
       "<style scoped>\n",
       "    .dataframe tbody tr th:only-of-type {\n",
       "        vertical-align: middle;\n",
       "    }\n",
       "\n",
       "    .dataframe tbody tr th {\n",
       "        vertical-align: top;\n",
       "    }\n",
       "\n",
       "    .dataframe thead th {\n",
       "        text-align: right;\n",
       "    }\n",
       "</style>\n",
       "<table border=\"1\" class=\"dataframe\">\n",
       "  <thead>\n",
       "    <tr style=\"text-align: right;\">\n",
       "      <th></th>\n",
       "      <th>X1</th>\n",
       "      <th>X2</th>\n",
       "      <th>X3</th>\n",
       "      <th>X4</th>\n",
       "      <th>y</th>\n",
       "    </tr>\n",
       "  </thead>\n",
       "  <tbody>\n",
       "    <tr>\n",
       "      <th>0</th>\n",
       "      <td>0.0</td>\n",
       "      <td>0.0</td>\n",
       "      <td>0.0</td>\n",
       "      <td>0.0</td>\n",
       "      <td>0.0</td>\n",
       "    </tr>\n",
       "    <tr>\n",
       "      <th>1</th>\n",
       "      <td>0.2</td>\n",
       "      <td>0.2</td>\n",
       "      <td>0.2</td>\n",
       "      <td>0.2</td>\n",
       "      <td>4.0</td>\n",
       "    </tr>\n",
       "    <tr>\n",
       "      <th>2</th>\n",
       "      <td>0.4</td>\n",
       "      <td>0.4</td>\n",
       "      <td>0.4</td>\n",
       "      <td>0.4</td>\n",
       "      <td>8.0</td>\n",
       "    </tr>\n",
       "    <tr>\n",
       "      <th>3</th>\n",
       "      <td>0.6</td>\n",
       "      <td>0.6</td>\n",
       "      <td>0.6</td>\n",
       "      <td>0.6</td>\n",
       "      <td>12.0</td>\n",
       "    </tr>\n",
       "    <tr>\n",
       "      <th>4</th>\n",
       "      <td>0.8</td>\n",
       "      <td>0.8</td>\n",
       "      <td>0.8</td>\n",
       "      <td>0.8</td>\n",
       "      <td>16.0</td>\n",
       "    </tr>\n",
       "    <tr>\n",
       "      <th>5</th>\n",
       "      <td>1.0</td>\n",
       "      <td>1.0</td>\n",
       "      <td>1.0</td>\n",
       "      <td>1.0</td>\n",
       "      <td>20.0</td>\n",
       "    </tr>\n",
       "  </tbody>\n",
       "</table>\n",
       "</div>"
      ],
      "text/plain": [
       "    X1   X2   X3   X4     y\n",
       "0  0.0  0.0  0.0  0.0   0.0\n",
       "1  0.2  0.2  0.2  0.2   4.0\n",
       "2  0.4  0.4  0.4  0.4   8.0\n",
       "3  0.6  0.6  0.6  0.6  12.0\n",
       "4  0.8  0.8  0.8  0.8  16.0\n",
       "5  1.0  1.0  1.0  1.0  20.0"
      ]
     },
     "execution_count": 2,
     "metadata": {},
     "output_type": "execute_result"
    }
   ],
   "source": [
    "from sklearn.preprocessing import MinMaxScaler\n",
    "\n",
    "df_norm = df_origin.copy()\n",
    "\n",
    "min_max_scaler = MinMaxScaler()\n",
    "\n",
    "df_norm[['X1','X2','X3','X4']] = min_max_scaler.fit_transform(df_norm[['X1','X2','X3','X4']].values)\n",
    "df_norm"
   ]
  },
  {
   "cell_type": "markdown",
   "metadata": {},
   "source": [
    "<hr>\n",
    "\n",
    "\n",
    "# Ejemplo: Regresión Lineal\n",
    "\n",
    "\n",
    "* Vamos a ver a continuación un ejemplo de como resolver un problema de Regresión lineal con los datos normalizados y sin normalizar:\n",
    "\n",
    "\n",
    "### 1. Cargamos los datos"
   ]
  },
  {
   "cell_type": "code",
   "execution_count": 3,
   "metadata": {},
   "outputs": [
    {
     "data": {
      "text/html": [
       "<div>\n",
       "<style scoped>\n",
       "    .dataframe tbody tr th:only-of-type {\n",
       "        vertical-align: middle;\n",
       "    }\n",
       "\n",
       "    .dataframe tbody tr th {\n",
       "        vertical-align: top;\n",
       "    }\n",
       "\n",
       "    .dataframe thead th {\n",
       "        text-align: right;\n",
       "    }\n",
       "</style>\n",
       "<table border=\"1\" class=\"dataframe\">\n",
       "  <thead>\n",
       "    <tr style=\"text-align: right;\">\n",
       "      <th></th>\n",
       "      <th>Calorias</th>\n",
       "      <th>Tiempo</th>\n",
       "      <th>Peso</th>\n",
       "      <th>Velocidad</th>\n",
       "    </tr>\n",
       "  </thead>\n",
       "  <tbody>\n",
       "    <tr>\n",
       "      <th>1614</th>\n",
       "      <td>720.5</td>\n",
       "      <td>54.6</td>\n",
       "      <td>78.3</td>\n",
       "      <td>9.8</td>\n",
       "    </tr>\n",
       "    <tr>\n",
       "      <th>1689</th>\n",
       "      <td>561.4</td>\n",
       "      <td>50.9</td>\n",
       "      <td>51.0</td>\n",
       "      <td>12.5</td>\n",
       "    </tr>\n",
       "    <tr>\n",
       "      <th>4246</th>\n",
       "      <td>298.3</td>\n",
       "      <td>26.7</td>\n",
       "      <td>58.1</td>\n",
       "      <td>11.2</td>\n",
       "    </tr>\n",
       "    <tr>\n",
       "      <th>4372</th>\n",
       "      <td>789.0</td>\n",
       "      <td>56.8</td>\n",
       "      <td>60.7</td>\n",
       "      <td>13.3</td>\n",
       "    </tr>\n",
       "    <tr>\n",
       "      <th>1699</th>\n",
       "      <td>1050.8</td>\n",
       "      <td>74.5</td>\n",
       "      <td>73.8</td>\n",
       "      <td>11.1</td>\n",
       "    </tr>\n",
       "  </tbody>\n",
       "</table>\n",
       "</div>"
      ],
      "text/plain": [
       "      Calorias  Tiempo  Peso  Velocidad\n",
       "1614     720.5    54.6  78.3        9.8\n",
       "1689     561.4    50.9  51.0       12.5\n",
       "4246     298.3    26.7  58.1       11.2\n",
       "4372     789.0    56.8  60.7       13.3\n",
       "1699    1050.8    74.5  73.8       11.1"
      ]
     },
     "execution_count": 3,
     "metadata": {},
     "output_type": "execute_result"
    }
   ],
   "source": [
    "import pandas as pd\n",
    "import numpy as np\n",
    "\n",
    "df = pd.read_csv(\"./data/calorias_running/calories_time_weight_speed.csv\")\n",
    "df.sample(5)"
   ]
  },
  {
   "cell_type": "markdown",
   "metadata": {},
   "source": [
    "### 2. Normalizamos los datos:"
   ]
  },
  {
   "cell_type": "code",
   "execution_count": 4,
   "metadata": {},
   "outputs": [
    {
     "data": {
      "text/html": [
       "<div>\n",
       "<style scoped>\n",
       "    .dataframe tbody tr th:only-of-type {\n",
       "        vertical-align: middle;\n",
       "    }\n",
       "\n",
       "    .dataframe tbody tr th {\n",
       "        vertical-align: top;\n",
       "    }\n",
       "\n",
       "    .dataframe thead th {\n",
       "        text-align: right;\n",
       "    }\n",
       "</style>\n",
       "<table border=\"1\" class=\"dataframe\">\n",
       "  <thead>\n",
       "    <tr style=\"text-align: right;\">\n",
       "      <th></th>\n",
       "      <th>Calorias</th>\n",
       "      <th>Tiempo</th>\n",
       "      <th>Peso</th>\n",
       "      <th>Velocidad</th>\n",
       "    </tr>\n",
       "  </thead>\n",
       "  <tbody>\n",
       "    <tr>\n",
       "      <th>1342</th>\n",
       "      <td>150.6</td>\n",
       "      <td>0.060606</td>\n",
       "      <td>0.500000</td>\n",
       "      <td>0.600000</td>\n",
       "    </tr>\n",
       "    <tr>\n",
       "      <th>126</th>\n",
       "      <td>653.3</td>\n",
       "      <td>0.272727</td>\n",
       "      <td>0.706704</td>\n",
       "      <td>0.885714</td>\n",
       "    </tr>\n",
       "    <tr>\n",
       "      <th>2905</th>\n",
       "      <td>659.1</td>\n",
       "      <td>0.635319</td>\n",
       "      <td>0.431564</td>\n",
       "      <td>0.042857</td>\n",
       "    </tr>\n",
       "    <tr>\n",
       "      <th>1150</th>\n",
       "      <td>821.1</td>\n",
       "      <td>0.602926</td>\n",
       "      <td>0.603352</td>\n",
       "      <td>0.171429</td>\n",
       "    </tr>\n",
       "    <tr>\n",
       "      <th>1979</th>\n",
       "      <td>731.8</td>\n",
       "      <td>0.425287</td>\n",
       "      <td>0.614525</td>\n",
       "      <td>0.485714</td>\n",
       "    </tr>\n",
       "  </tbody>\n",
       "</table>\n",
       "</div>"
      ],
      "text/plain": [
       "      Calorias    Tiempo      Peso  Velocidad\n",
       "1342     150.6  0.060606  0.500000   0.600000\n",
       "126      653.3  0.272727  0.706704   0.885714\n",
       "2905     659.1  0.635319  0.431564   0.042857\n",
       "1150     821.1  0.602926  0.603352   0.171429\n",
       "1979     731.8  0.425287  0.614525   0.485714"
      ]
     },
     "execution_count": 4,
     "metadata": {},
     "output_type": "execute_result"
    }
   ],
   "source": [
    "from sklearn.preprocessing import MinMaxScaler\n",
    "\n",
    "\n",
    "df_calorias_norm = df.copy()\n",
    "min_max_scaler = MinMaxScaler()\n",
    "df_calorias_norm[['Tiempo', 'Peso', 'Velocidad']] = min_max_scaler.fit_transform(df[['Tiempo', 'Peso', 'Velocidad']].values)\n",
    "df_calorias_norm.sample(5)"
   ]
  },
  {
   "cell_type": "markdown",
   "metadata": {},
   "source": [
    "### 3. Generamos los modelos\n",
    "\n",
    "* Vamos a generar dos Modelos, uno con los datos noralizados y otro con los datos sin normalizar:"
   ]
  },
  {
   "cell_type": "code",
   "execution_count": 5,
   "metadata": {},
   "outputs": [],
   "source": [
    "from sklearn import linear_model\n",
    "\n",
    "# Creamos un objeto de la clase LinearRegression\n",
    "reg_original = linear_model.LinearRegression()\n",
    "reg_normalizado = linear_model.LinearRegression()\n",
    "\n",
    "X_orginal = df[['Tiempo', 'Peso', 'Velocidad']].values\n",
    "y_orginal = df['Calorias'].values\n",
    "X_normalizado = df_calorias_norm[['Tiempo', 'Peso', 'Velocidad']].values\n",
    "y_normalizado = df_calorias_norm['Calorias'].values\n",
    "\n",
    "# Entrenamos el modelo pasandole las variables independientes y dependiente\n",
    "reg_original.fit(X_orginal, y_orginal)\n",
    "reg_normalizado.fit(X_normalizado, y_normalizado)\n",
    "\n",
    "# Obtenemos los modelos\n",
    "betas_original = reg_original.coef_\n",
    "beta_0_original = reg_original.intercept_\n",
    "betas_normalizado = reg_normalizado.coef_\n",
    "beta_0_normalizado = reg_normalizado.intercept_"
   ]
  },
  {
   "cell_type": "markdown",
   "metadata": {},
   "source": [
    "### 4. Imprimimos los modelos\n",
    "\n",
    "* Vamos a imprimir los dos modelos que como podemos observar son diferentes, pero aplicando los datos bien normalizalizados o no (dependiendo del modelo) vamos a obtener la predicción:\n"
   ]
  },
  {
   "cell_type": "code",
   "execution_count": 6,
   "metadata": {},
   "outputs": [
    {
     "name": "stdout",
     "output_type": "stream",
     "text": [
      "Modelo Sin Datos Normalizados:\n",
      "Calorias = -1164.85 + 14.26·Tiempo + 8.55·Velocidad + 46.66·Peso\n",
      "\n",
      "Modelo Con Datos Normalizados:\n",
      "Calorias = -411.26 + 1364.95·Tiempo + 612.49·Velocidad + 326.62·Peso\n"
     ]
    }
   ],
   "source": [
    "# Imprimimos los modelos\n",
    "print(\"Modelo Sin Datos Normalizados:\"\\\n",
    "      \"\\nCalorias = {b0:0.2f} + {b1:0.2f}·Tiempo + {b2:0.2f}·Velocidad + {b3:0.2f}·Peso\"\n",
    "      .format(b0=beta_0_original, b1=betas_original[0], b2=betas_original[1], b3=betas_original[2]))\n",
    "\n",
    "print(\"\\nModelo Con Datos Normalizados:\"\\\n",
    "      \"\\nCalorias = {b0:0.2f} + {b1:0.2f}·Tiempo + {b2:0.2f}·Velocidad + {b3:0.2f}·Peso\"\n",
    "      .format(b0=beta_0_normalizado, b1=betas_normalizado[0], b2=betas_normalizado[1], b3=betas_normalizado[2]))"
   ]
  },
  {
   "cell_type": "markdown",
   "metadata": {},
   "source": [
    "### 5. Transformación de Parámetros\n",
    "\n",
    "\n",
    "* Si transformamos los parámetros del modelo normalizado usando la \"desnormalización\", podemos ver como obtenemos unos parámetros del modelo parecidos a los del modelo sin normalizar:"
   ]
  },
  {
   "cell_type": "code",
   "execution_count": 7,
   "metadata": {},
   "outputs": [
    {
     "data": {
      "text/plain": [
       "array([[14.22199795,  8.10039003, 45.37477962]])"
      ]
     },
     "execution_count": 7,
     "metadata": {},
     "output_type": "execute_result"
    }
   ],
   "source": [
    "betas_transformadas = min_max_scaler.transform([betas_normalizado])\n",
    "betas_transformadas"
   ]
  },
  {
   "cell_type": "markdown",
   "metadata": {},
   "source": [
    "<hr>\n",
    "\n",
    "*Este Notebook ha sido desarrollado por **Ricardo Moya García** y registrado en Safe Creative como ***Atribución-NoComercial-CompartirIgual***.*\n",
    "\n",
    "<img src=\"./imgs/CC_BY-NC-SA.png\" alt=\"CC BY-NC\">"
   ]
  }
 ],
 "metadata": {
  "kernelspec": {
   "display_name": "Python 3",
   "language": "python",
   "name": "python3"
  },
  "language_info": {
   "codemirror_mode": {
    "name": "ipython",
    "version": 3
   },
   "file_extension": ".py",
   "mimetype": "text/x-python",
   "name": "python",
   "nbconvert_exporter": "python",
   "pygments_lexer": "ipython3",
   "version": "3.6.10"
  }
 },
 "nbformat": 4,
 "nbformat_minor": 2
}

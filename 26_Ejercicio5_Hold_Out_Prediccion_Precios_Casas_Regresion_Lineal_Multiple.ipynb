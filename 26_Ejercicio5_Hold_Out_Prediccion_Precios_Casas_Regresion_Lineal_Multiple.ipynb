{
 "cells": [
  {
   "cell_type": "markdown",
   "metadata": {},
   "source": [
    "# 26 - Ejercicio 5: Hold Out, Prediccion Precios Casas Regresion Lineal Multiple\n",
    "\n",
    "\n",
    "* El objetivo de este ejercicio es el de ***obtener un modelo de regresión y evaluarlo, dividiendo el conjunto de datos en entrenamiento y test*** con la técnica del ***Hold Out***.\n",
    "\n",
    "\n",
    "* Sobre el Dataset se tienen las siguientes características:\n",
    "    1. pies_cuadrados_casa\n",
    "    2. num_baños\n",
    "    3. num_habitaciones\n",
    "    4. num_cocinas\n",
    "    5. num_coches_garaje\n",
    "    6. pies_cuadrados_garaje\n",
    "    7. precio_dolares\n",
    "\n",
    "\n",
    "* En este ejercicio ***se realizará una regresión lineal Múltiple***, tomando como ***variables independientes todas aquellas que se quieran dentro del Dataset*** y como ***variable dependiente el precio***.\n",
    "\n",
    "\n",
    "* Se dividiran los datos en un ***80% de datos de entrenamiento*** con el que se construirá el modelo y un ***20% de datos de test*** con el que se evaluará:\n",
    "\n",
    "\n",
    "* Para realizar este ejercicio se pide:\n",
    "<span></span><br>\n",
    "    1. Carga de datos (Resuelto)\n",
    "<span></span><br>\n",
    "    2. Cambio de estructura de datos a numpy para el uso de Scikit-Learn (Resuelto)\n",
    "<span></span><br>\n",
    "    3. ***Particionado de datos en Entrenamiento y Test***\n",
    "<span></span><br>\n",
    "    4. ***Generación del modelo con los datos de Entrenamiento***\n",
    "<span></span><br>\n",
    "    5. ***Evaluación del modelo con los datos de Entrenamiento y Test con el MAE y MSE***\n",
    "\n",
    "\n",
    "<hr>\n",
    "\n",
    "\n",
    "* En primer lugar vamos a importar las librería necesarias:\n",
    "\n"
   ]
  },
  {
   "cell_type": "code",
   "execution_count": 1,
   "metadata": {},
   "outputs": [],
   "source": [
    "import numpy as np\n",
    "import pandas as pd\n",
    "from sklearn import linear_model\n",
    "from sklearn.model_selection import train_test_split\n",
    "from sklearn.metrics import mean_absolute_error, mean_squared_error"
   ]
  },
  {
   "cell_type": "markdown",
   "metadata": {},
   "source": [
    "<hr>\n",
    "\n",
    "\n",
    "### 1. Carga de Datos"
   ]
  },
  {
   "cell_type": "code",
   "execution_count": 2,
   "metadata": {},
   "outputs": [
    {
     "data": {
      "text/html": [
       "<div>\n",
       "<style scoped>\n",
       "    .dataframe tbody tr th:only-of-type {\n",
       "        vertical-align: middle;\n",
       "    }\n",
       "\n",
       "    .dataframe tbody tr th {\n",
       "        vertical-align: top;\n",
       "    }\n",
       "\n",
       "    .dataframe thead th {\n",
       "        text-align: right;\n",
       "    }\n",
       "</style>\n",
       "<table border=\"1\" class=\"dataframe\">\n",
       "  <thead>\n",
       "    <tr style=\"text-align: right;\">\n",
       "      <th></th>\n",
       "      <th>pies_cuadrados_casa</th>\n",
       "      <th>num_banios</th>\n",
       "      <th>num_habitaciones</th>\n",
       "      <th>num_cocinas</th>\n",
       "      <th>num_coches_garaje</th>\n",
       "      <th>pies_cuadrados_garaje</th>\n",
       "      <th>precio_dolares</th>\n",
       "    </tr>\n",
       "  </thead>\n",
       "  <tbody>\n",
       "    <tr>\n",
       "      <th>0</th>\n",
       "      <td>1710</td>\n",
       "      <td>2</td>\n",
       "      <td>3</td>\n",
       "      <td>1</td>\n",
       "      <td>2</td>\n",
       "      <td>548</td>\n",
       "      <td>208500</td>\n",
       "    </tr>\n",
       "    <tr>\n",
       "      <th>1</th>\n",
       "      <td>1262</td>\n",
       "      <td>2</td>\n",
       "      <td>3</td>\n",
       "      <td>1</td>\n",
       "      <td>2</td>\n",
       "      <td>460</td>\n",
       "      <td>181500</td>\n",
       "    </tr>\n",
       "    <tr>\n",
       "      <th>2</th>\n",
       "      <td>1786</td>\n",
       "      <td>2</td>\n",
       "      <td>3</td>\n",
       "      <td>1</td>\n",
       "      <td>2</td>\n",
       "      <td>608</td>\n",
       "      <td>223500</td>\n",
       "    </tr>\n",
       "    <tr>\n",
       "      <th>3</th>\n",
       "      <td>1717</td>\n",
       "      <td>1</td>\n",
       "      <td>3</td>\n",
       "      <td>1</td>\n",
       "      <td>3</td>\n",
       "      <td>642</td>\n",
       "      <td>140000</td>\n",
       "    </tr>\n",
       "    <tr>\n",
       "      <th>4</th>\n",
       "      <td>2198</td>\n",
       "      <td>2</td>\n",
       "      <td>4</td>\n",
       "      <td>1</td>\n",
       "      <td>3</td>\n",
       "      <td>836</td>\n",
       "      <td>250000</td>\n",
       "    </tr>\n",
       "  </tbody>\n",
       "</table>\n",
       "</div>"
      ],
      "text/plain": [
       "   pies_cuadrados_casa  num_banios  num_habitaciones  num_cocinas  \\\n",
       "0                 1710           2                 3            1   \n",
       "1                 1262           2                 3            1   \n",
       "2                 1786           2                 3            1   \n",
       "3                 1717           1                 3            1   \n",
       "4                 2198           2                 4            1   \n",
       "\n",
       "   num_coches_garaje  pies_cuadrados_garaje  precio_dolares  \n",
       "0                  2                    548          208500  \n",
       "1                  2                    460          181500  \n",
       "2                  2                    608          223500  \n",
       "3                  3                    642          140000  \n",
       "4                  3                    836          250000  "
      ]
     },
     "execution_count": 2,
     "metadata": {},
     "output_type": "execute_result"
    }
   ],
   "source": [
    "df = pd.read_csv('./data/precio_casas.csv', header=0, sep=';')\n",
    "df.head()"
   ]
  },
  {
   "cell_type": "markdown",
   "metadata": {},
   "source": [
    "<hr>\n",
    "\n",
    "\n",
    "### 2. Cambio de estructura de datos a numpy"
   ]
  },
  {
   "cell_type": "code",
   "execution_count": 3,
   "metadata": {},
   "outputs": [],
   "source": [
    "X = df[['pies_cuadrados_casa', 'num_banios', 'num_habitaciones', 'num_cocinas', 'num_coches_garaje', 'pies_cuadrados_garaje']].values\n",
    "y = df['precio_dolares'].values"
   ]
  },
  {
   "cell_type": "markdown",
   "metadata": {},
   "source": [
    "<hr>\n",
    "\n",
    "\n",
    "### 3. Particionado de datos en Entrenamiento y Test\n",
    "\n",
    "* 80% Datos de Entrenamiento\n",
    "* 20% Datos de Test"
   ]
  },
  {
   "cell_type": "code",
   "execution_count": 4,
   "metadata": {},
   "outputs": [],
   "source": [
    "# TODO"
   ]
  },
  {
   "cell_type": "markdown",
   "metadata": {},
   "source": [
    "<hr>\n",
    "\n",
    "\n",
    "### 4. Generación del modelo con los datos de Entrenamiento"
   ]
  },
  {
   "cell_type": "code",
   "execution_count": 5,
   "metadata": {},
   "outputs": [],
   "source": [
    "# TODO"
   ]
  },
  {
   "cell_type": "markdown",
   "metadata": {},
   "source": [
    "<hr>\n",
    "\n",
    "\n",
    "### 5. Evaluación del modelo con los datos de Entrenamiento y Test con el MAE y MSE"
   ]
  },
  {
   "cell_type": "code",
   "execution_count": 6,
   "metadata": {},
   "outputs": [],
   "source": [
    "# TODO"
   ]
  },
  {
   "cell_type": "markdown",
   "metadata": {},
   "source": [
    "<hr>\n",
    "\n",
    "*Este Notebook ha sido desarrollado por **Ricardo Moya García** y registrado en Safe Creative como ***Atribución-NoComercial-CompartirIgual***.*\n",
    "\n",
    "<img src=\"./imgs/CC_BY-NC-SA.png\" alt=\"CC BY-NC\">"
   ]
  }
 ],
 "metadata": {
  "kernelspec": {
   "display_name": "Python 3",
   "language": "python",
   "name": "python3"
  },
  "language_info": {
   "codemirror_mode": {
    "name": "ipython",
    "version": 3
   },
   "file_extension": ".py",
   "mimetype": "text/x-python",
   "name": "python",
   "nbconvert_exporter": "python",
   "pygments_lexer": "ipython3",
   "version": "3.6.10"
  }
 },
 "nbformat": 4,
 "nbformat_minor": 2
}

{
 "cells": [
  {
   "cell_type": "markdown",
   "metadata": {},
   "source": [
    "# 45 - Reducción de la Dimensionalidad: Análisis de Componentes Principales (PCA)\n",
    "\n",
    "\n",
    "* En este Notebook vamos a ver en que consiste la reducción de la dimensionalidad de los datos usando la técnica del ***PCA: Principal Component Analysis (Análisis de Componentes Principales)*** y como se realiza esta reducción con la técnica matemática del SVD: Singula Value Descomposition.\n",
    "\n",
    "\n",
    "* Vamos a tratar los siguientes puntos:\n",
    "<span></span><br>\n",
    "    1. [Reducción de la Dimensionalidad](#M1)\n",
    "<span></span><br>\n",
    "    2. [SVD: Singular Value Descomposition](#M2)\n",
    "<span></span><br>\n",
    "    3. [PCA: Analisis de Componentes Principales](#M3)\n",
    "<span></span><br>\n",
    "    4. [Bonus Track - SVD: Cálculo Analítico ](#M4)\n",
    "\n",
    "\n",
    "<hr>\n",
    "\n",
    "\n",
    "# <a name=\"M1\">1. Reducción de la Dimensionalidad</a>\n",
    "\n",
    "\n",
    "* Cuando se recoge una ***muestra de datos*** los más frecuente es ***tomar el mayor número posible de variables***.\n",
    "\n",
    "\n",
    "* Cuando se toman ***demasiadas variables, puede que haya variables que estén relacionadas entre sí*** o que midan lo mismo bajo distintos puntos de vista.\n",
    "\n",
    "\n",
    "* Por tanto se puede llegar a tener la ***necesidad de reducir el número de variables***, sin perder (o minimizando la perdida de) la información aportada por esas variables.\n",
    "\n",
    "\n",
    "* El objetivo de las ***técnicas de reducción de la dimensionalidad son la de obtener unas nuevas variables \"latentes\" que sean combinaciones lineales de las anteriores variables***, construyéndose estas nuevas variables latentes en ***orden de importancia***.\n",
    "\n",
    "\n",
    "* En resumen; el objetivo de estas técnicas, son las de ***generar un nuevo Dataset con un número inferior de varibles (variables latentes) respecto al Dataset original***, minimizando la perdida de información de los datos. \n",
    "\n",
    "\n",
    "* En la siguiente imagen podemos ver cual es el objetivo de estas técnicas de reducción de la dimensionalidad:\n",
    "\n",
    "<img src=\"./imgs/47_01_pca.png\" style=\"width: 500px;\"/>\n",
    "\n",
    "* Veamos a continuación como conseguir esa redución de la dimensionalidad con la técnica matemática del SVD:\n",
    "\n",
    "\n",
    "<hr>\n",
    "\n",
    "\n",
    "# <a name=\"M2\">2. SVD: Singular Value Descomposition</a>\n",
    "\n",
    "\n",
    "* La técnica del ***SVD descompone una matriz 'A' en 3 matrices 'U', 'V' y 'S'***:\n",
    "<span></span><br><br>\n",
    "    + ***U***: Contiene los valores de los factores latentes de las observaciones.\n",
    "<span></span><br><br>\n",
    "    + ***V***: Contiene los valores de los factores latentes de las variables.\n",
    "<span></span><br><br>\n",
    "    + ***S***: Es una matriz cuya diagonal contiene los llamados **\"valores singulares\"** que son decrecientes y no negativos. Estos ***valores singulares representan la importancia que tienen cada uno de los factores latentes***.\n",
    "\n",
    "\n",
    "* La descomposición quedaría de la siguiente forma:\n",
    "\n",
    "\n",
    "<img src=\"./imgs/47_02_pca.png\" style=\"width: 700px;\"/>\n",
    "\n",
    "\n",
    "* El SVD tiene una propiedad muy importante dada por el ***teorema de Eckart-Young que afirma que la mejor aproximación a la matriz 'A' la obtenemos al poner a ceros los ‘n’ valores singulares de menor a mayor valor***; es decir, reduciendo la matriz S\n",
    "\n",
    "\n",
    "* De esta manera podemos ***obtener una aproximación de la matriz original 'A', multiplicando las matrices U<sub>k</sub> x S<sub>k</sub> x V<sub>k</sub>***.\n",
    "\n",
    "\n",
    "<img src=\"./imgs/47_03_pca.png\" style=\"width: 700px;\"/>\n",
    "\n",
    "\n",
    "* Veamos a continuación un ejemplo del SVD, de como obtener las Matrices 'U', 'V' y 'S' a partir de una Matriz 'A' y como reduciendo el número de valores singulares obtenemos una matriz similar a la matriz original 'A':\n",
    "\n",
    "\n",
    "<img src=\"./imgs/47_06_pca.png\" style=\"width: 900px;\"/>\n",
    "\n",
    "\n",
    "* A continuación mostramos como resolverlo de manera programática:"
   ]
  },
  {
   "cell_type": "code",
   "execution_count": 1,
   "metadata": {},
   "outputs": [
    {
     "name": "stdout",
     "output_type": "stream",
     "text": [
      "Matriz U:\n",
      "[[-0.2   0.56  0.05  0.04  0.08 -0.8 ]\n",
      " [-0.81 -0.51 -0.1   0.16  0.19 -0.14]\n",
      " [-0.17  0.34  0.22  0.82 -0.17  0.32]\n",
      " [-0.3   0.5  -0.66 -0.21  0.18  0.39]\n",
      " [-0.26  0.01 -0.09 -0.22 -0.94 -0.04]\n",
      " [-0.36  0.25  0.71 -0.46  0.12  0.29]]\n",
      "\n",
      "Valores Singulares (Matriz):\n",
      "[[30.7   0.    0.    0.    0.  ]\n",
      " [ 0.   12.6   0.    0.    0.  ]\n",
      " [ 0.    0.    6.16  0.    0.  ]\n",
      " [ 0.    0.    0.    5.15  0.  ]\n",
      " [ 0.    0.    0.    0.    1.86]]\n",
      "\n",
      "Matriz V (Traspuesta):\n",
      "[[-0.41 -0.22 -0.36 -0.27 -0.76]\n",
      " [ 0.05  0.7  -0.2   0.59 -0.34]\n",
      " [ 0.69 -0.54 -0.07  0.37 -0.32]\n",
      " [-0.54 -0.32  0.53  0.57 -0.07]\n",
      " [ 0.26  0.27  0.74 -0.35 -0.44]]\n",
      "\n"
     ]
    }
   ],
   "source": [
    "import numpy as np\n",
    "np.set_printoptions(precision=2) # Por legibilidad pongo las matrices con dos decimales\n",
    "\n",
    "A = np.array([[3, 6, 1, 6, 2],\n",
    "              [9, 1, 11, 3, 21],\n",
    "              [1, 2, 3, 7, 2], \n",
    "              [2, 9, 2, 4, 6],\n",
    "              [3, 2, 1, 2, 7],\n",
    "              [9, 3, 2, 5, 6]])\n",
    "\n",
    "# Calculo el SVD\n",
    "u,s,v_t = np.linalg.svd(A)\n",
    "\n",
    "print('Matriz U:\\n{u}\\n'.format(u=u))\n",
    "print('Valores Singulares (Matriz):\\n{s}\\n'.format(s=np.diag(s)))\n",
    "print('Matriz V (Traspuesta):\\n{v}\\n'.format(v=v_t))"
   ]
  },
  {
   "cell_type": "markdown",
   "metadata": {},
   "source": [
    "## - Varianza Acumulada: Reducción de Variables\n",
    "\n",
    "\n",
    "* ***La matriz 'S' es una matriz diagonal que contiene los valores singulares (de forma decrecientes) en el que cada valor singular nos indica el \"peso\" que tiene cada variable latente.***\n",
    "\n",
    "\n",
    "* Dicho de otra manera: ***los valores singulares nos indican la cantidad de información que nos aporta cada variable latente***.\n",
    "\n",
    "\n",
    "* Si calculamos la suma acumulada de los valores singulares y calculamos el porcentaje que este supone respecto del total, podemos obtener el porcentaje de información que obtendríamos si nos quedasemos con 'k' valores singulares.\n",
    "\n",
    "\n",
    "* A esta valor de porcentaje de información se conoce como ***Varianza Acumulada***.\n",
    "\n",
    "\n",
    "* Veamos a continuación, la varianza acumulada por número de valores singulares del ejemplo anterior:"
   ]
  },
  {
   "cell_type": "code",
   "execution_count": 2,
   "metadata": {},
   "outputs": [
    {
     "name": "stdout",
     "output_type": "stream",
     "text": [
      "['0.5435', '0.7666', '0.8758', '0.9670', '1.0000']\n"
     ]
    },
    {
     "data": {
      "image/png": "[encoded data removed]",
      "text/plain": [
       "<Figure size 432x288 with 1 Axes>"
      ]
     },
     "metadata": {
      "needs_background": "light"
     },
     "output_type": "display_data"
    }
   ],
   "source": [
    "import matplotlib.pyplot as plt\n",
    "%matplotlib inline \n",
    "\n",
    "varianza_acumulada = np.cumsum(s)/np.sum(s)\n",
    "print(['{:.4f}'.format(i) for i in varianza_acumulada])\n",
    "\n",
    "# Dibujamos la varianza acumulada\n",
    "fig, ax = plt.subplots(figsize=(6, 4))\n",
    "ax.plot(np.insert(varianza_acumulada, 0, 0))\n",
    "ax.set_xlabel('Número de componentes')\n",
    "ax.set_xlabel('Varianza acumulada (%)')\n",
    "ax.set_title('Varianza Acumulada Vs Nº Componentes')\n",
    "ax.grid()\n",
    "plt.show()"
   ]
  },
  {
   "cell_type": "markdown",
   "metadata": {},
   "source": [
    "* Cada uno de estos valores nos indica el porcentaje de información que obtenemos respecto de la matriz original 'A' si cogiendo 'k' valores singulares:\n",
    "\n",
    "|Num Valores Singulares|Varianza Acumulada (%)|\n",
    "|---|---|\n",
    "|1|54,4|\n",
    "|2|76,7|\n",
    "|3|87,6|\n",
    "|4|96,7|\n",
    "|5|100|\n",
    "\n",
    "\n",
    "* Cuando aplicamos esta técnicas de ***reducción de la dimensionalidad, hay que buscar un compromiso entre la información que perdemos al seleccionar 'k' variables latentes*** (también llamadas componentes) ***y la reducción de variables con las que vamos a trabajar*** (reduciendo los tiempos de ejecución). \n",
    "\n",
    "\n",
    "* Si en el ejemplo que estamos realizando seleccionamos 3 valores singulares (o 3 componentes) nos quedaremos con el 87,6 % de la información del Dataset (Matriz A) reduciendo en 2 variables el Dataset inicial:\n",
    "\n",
    "\n",
    "<img src=\"./imgs/47_04_pca.png\" style=\"width: 800px;\"/>\n",
    "\n",
    "\n",
    "* Veamos como hacemos estos cálculos:"
   ]
  },
  {
   "cell_type": "code",
   "execution_count": 3,
   "metadata": {},
   "outputs": [
    {
     "name": "stdout",
     "output_type": "stream",
     "text": [
      "Matriz Uk:\n",
      "[[-0.2   0.56  0.05]\n",
      " [-0.81 -0.51 -0.1 ]\n",
      " [-0.17  0.34  0.22]\n",
      " [-0.3   0.5  -0.66]\n",
      " [-0.26  0.01 -0.09]\n",
      " [-0.36  0.25  0.71]]\n",
      "\n",
      "Valores Singulares (Matriz):\n",
      "[[30.7   0.    0.  ]\n",
      " [ 0.   12.6   0.  ]\n",
      " [ 0.    0.    6.16]]\n",
      "\n",
      "Matriz Vk (Traspuesta):\n",
      "[[-0.41 -0.22 -0.36 -0.27 -0.76]\n",
      " [ 0.05  0.7  -0.2   0.59 -0.34]\n",
      " [ 0.69 -0.54 -0.07  0.37 -0.32]]\n",
      "\n"
     ]
    }
   ],
   "source": [
    "u_3 = u[:,0:3]\n",
    "s_3 = np.diag(s[0:3])\n",
    "v_3 = v_t[0:3:,]\n",
    "print('Matriz Uk:\\n{u}\\n'.format(u=u_3))\n",
    "print('Valores Singulares (Matriz):\\n{s}\\n'.format(s=s_3))\n",
    "print('Matriz Vk (Traspuesta):\\n{v}\\n'.format(v=v_3))"
   ]
  },
  {
   "cell_type": "markdown",
   "metadata": {},
   "source": [
    "* Haciendo la multiplicación de las tres matrices reducidas obtenemos una nueva matriz que es muy similar a la matriz original:"
   ]
  },
  {
   "cell_type": "code",
   "execution_count": 4,
   "metadata": {},
   "outputs": [
    {
     "name": "stdout",
     "output_type": "stream",
     "text": [
      "Matriz \"Latente\":\n",
      "[[ 3.08  6.03  0.77  5.93  2.08]\n",
      " [ 9.36  1.18 10.29  2.65 21.22]\n",
      " [ 3.35  3.45  0.99  4.5   2.17]\n",
      " [ 1.32  8.55  2.33  4.75  6.07]\n",
      " [ 2.86  2.11  2.88  2.02  6.14]\n",
      " [ 7.68  2.18  3.08  6.41  5.93]]\n",
      "\n",
      "\n",
      "Matriz Original:\n",
      "[[ 3  6  1  6  2]\n",
      " [ 9  1 11  3 21]\n",
      " [ 1  2  3  7  2]\n",
      " [ 2  9  2  4  6]\n",
      " [ 3  2  1  2  7]\n",
      " [ 9  3  2  5  6]]\n"
     ]
    }
   ],
   "source": [
    "A_prima = u_3.dot(s_3).dot(v_3)\n",
    "print('Matriz \"Latente\":\\n{A_prima}'.format(A_prima=A_prima))\n",
    "print('\\n\\nMatriz Original:\\n{A}'.format(A=A))"
   ]
  },
  {
   "cell_type": "markdown",
   "metadata": {},
   "source": [
    "<hr>\n",
    "\n",
    "\n",
    "# <a name=\"M3\">3. PCA: Analisis de Componentes Principales</a>\n",
    "\n",
    "\n",
    "* ***El Análisis de Componentes Principales (PCA) es un método que nos permite obtener unas nuevas variables (latentes) que sean combinaciones lineales de las variables originales y que están correlacionadas entre sí***.\n",
    "\n",
    "\n",
    "* El objetivo de esta técnica no es otro que ***obtener un nuevo Dataset más reducido con variables latentes*** (llamadas también componentes) cuyo ***número de variables latentes sea inferior al número de variables del Dataset original***.\n",
    "\n",
    "\n",
    "* Las técnicas de reducción de la dimensionalidad y en particular el PCA tiene las siguientes ventajas e inconvenientes: \n",
    "<span></span><br><br>\n",
    "    + ***Ventajas***: Reducir la dimensionalidad de los datos; es decir, trabajar con menos datos, lo que supone reducir los tiempos de computo.\n",
    "<span></span><br><br>    \n",
    "    + ***Inconvenientes***: Al reducir la dimensionalidad perdemos información en los datos.\n",
    "    \n",
    "    \n",
    "* Utilizar este tipo de técnicas es muy conveniente cuando trabajamos con Dataset con un número relevante de variables y queremos reducir el tamaño del Dataset para utilizarlo con algún algoritmo de aprendizaje; por tanto, ***hay que buscar un compromiso entre la reducción del número de variables que nos reducirán el tiempo de computo y la perdida de información que nos supone la reducción de variables.***\n",
    "\n",
    "\n",
    "* Este ***compromiso entre la reducción de la dimensionalidad y la perdida de información*** lo podemos valorar con el estudio de la ***varianza acumulada*** vista anteriormente.\n",
    "\n",
    "\n",
    "## - PCA\n",
    "\n",
    "\n",
    "* ***El Análisis de Componentes Principales (PCA) es un método que se basa en la técnica matemática del SVD*** para obtener a partir de un Dataset con 'm' variables, un nuevo Dataset con 'k' variables latentes (siendo k<m).\n",
    "\n",
    "\n",
    "* Este ***nuevo Dataset de variables latentes*** lo conseguimos aplicando el SVD al Dataset y ***multiplicando las matrices $U_k \\cdot S_k$,*** eligiendo un valor apropiado de 'k' (o de componentes).\n",
    "\n",
    "\n",
    "* Veamos en la siguiente imagen la obtención del nuevo Dataset:\n",
    "\n",
    "\n",
    "<img src=\"./imgs/47_05_pca.png\" style=\"width: 700px;\"/>\n",
    "\n",
    "\n",
    "* La explicación de porqué el nuevo Dataset de variables latentes lo obtenemos multiplicando estas dos matrices es porque la matriz 'U' contiene el valor de las variables latentes de las observaciones y 'S' la importancia de las variables latentes; por lo que multiplicando las dos matrices, tenemos el valor de las variables latentes con su 'importancia' en terminos absolutos.\n",
    "\n",
    "\n",
    "## - PCA con Scikit\n",
    "\n",
    "\n",
    "* Para resolver un problema de reducción de la dimensionalidad con PCA vamos a utilizar la clase **\"PCA()\"**, cuya documentación esta en el siguiente enlace:<br>\n",
    "https://scikit-learn.org/stable/modules/generated/sklearn.decomposition.PCA.html\n",
    "\n",
    "\n",
    "* La clase **\"PCA(n_components)\"** recibe como parámetro el ***número de componentes (o de variables latentes)*** que queramos que tenga nuestro nuevo Dataset y llamando al método **\".fit(A)\"** (pasandole el Dataset original 'A') ajusta el modelo.\n",
    "\n",
    "\n",
    "* Para ***obtener el nuevo Dataset reducido de variables latentes*** con el resultado de multiplicar las matrices $U_k \\cdot S_k$ del SVD, siendo 'k' el número de componentes indicado, tenemos que llamar al método **\".transform(A)\"**.\n",
    "\n",
    "\n",
    "* Para ***obtener los valores singulares*** lo hacemos llamando al atributo de la clase **\".singular_values_\"**.\n",
    "\n",
    "\n",
    "* En el caso de que queramos ***obtener la matriz $V^{t}_{k}$*** lo hacemos llamando al atributo de la clase **\".components_\"**.\n",
    "\n",
    "\n",
    "* Veamos a continuación como obtener el Dataset reducido aplicando el PCA, trabajando con la siguiente matriz de ejemplo:"
   ]
  },
  {
   "cell_type": "code",
   "execution_count": 5,
   "metadata": {},
   "outputs": [],
   "source": [
    "A = np.array([[3, 6, 1, 6, 2],\n",
    "              [9, 1, 11, 3, 21],\n",
    "              [1, 2, 3, 7, 2], \n",
    "              [2, 9, 2, 4, 6],\n",
    "              [3, 2, 1, 2, 7],\n",
    "              [9, 3, 2, 5, 6]])"
   ]
  },
  {
   "cell_type": "markdown",
   "metadata": {},
   "source": [
    "* Creamos un objeto de la clase PCA pasandole el número de componentes y ajustamos el modelo con el método ***\".fit(A)\"*** pasandole el Dataset A:"
   ]
  },
  {
   "cell_type": "code",
   "execution_count": 6,
   "metadata": {},
   "outputs": [
    {
     "data": {
      "text/plain": [
       "PCA(copy=True, iterated_power='auto', n_components=3, random_state=None,\n",
       "  svd_solver='auto', tol=0.0, whiten=False)"
      ]
     },
     "execution_count": 6,
     "metadata": {},
     "output_type": "execute_result"
    }
   ],
   "source": [
    "from sklearn.decomposition import PCA\n",
    "\n",
    "pca = PCA(n_components=3)\n",
    "pca.fit(A)"
   ]
  },
  {
   "cell_type": "markdown",
   "metadata": {},
   "source": [
    "* Obtenemos el Dataset reducido de variables latentes llamando al método **\".transform(A)\"**:\n",
    "\n",
    "\n",
    "* ***NOTA:*** llamando al método **\".fit_transform(A)\"** nos ajusta el modelo y nos devuelve el Dataset reducido de variables latentes."
   ]
  },
  {
   "cell_type": "code",
   "execution_count": 7,
   "metadata": {},
   "outputs": [
    {
     "data": {
      "text/plain": [
       "array([[-6.42,  0.45,  0.68],\n",
       "       [16.58,  0.41, -0.79],\n",
       "       [-5.6 , -2.07, -3.54],\n",
       "       [-3.33,  4.99,  0.86],\n",
       "       [-1.08, -0.56, -0.99],\n",
       "       [-0.15, -3.22,  3.77]])"
      ]
     },
     "execution_count": 7,
     "metadata": {},
     "output_type": "execute_result"
    }
   ],
   "source": [
    "pca.transform(A)"
   ]
  },
  {
   "cell_type": "markdown",
   "metadata": {},
   "source": [
    "* Para obtener los valores singulares lo hacemos llamando al atributo de la clase **\".singular_values_\"**."
   ]
  },
  {
   "cell_type": "code",
   "execution_count": 8,
   "metadata": {},
   "outputs": [
    {
     "data": {
      "text/plain": [
       "array([18.96,  6.34,  5.44])"
      ]
     },
     "execution_count": 8,
     "metadata": {},
     "output_type": "execute_result"
    }
   ],
   "source": [
    "pca.singular_values_"
   ]
  },
  {
   "cell_type": "markdown",
   "metadata": {},
   "source": [
    "* En el caso de que queramos obtener la matriz $V^{t}_{k}$ lo hacemos llamando al atributo de la clase **\".components_\"**."
   ]
  },
  {
   "cell_type": "code",
   "execution_count": 9,
   "metadata": {},
   "outputs": [
    {
     "data": {
      "text/plain": [
       "array([[ 0.31, -0.18,  0.42, -0.12,  0.82],\n",
       "       [-0.44,  0.82,  0.04, -0.19,  0.3 ],\n",
       "       [ 0.82,  0.45, -0.35, -0.09, -0.05]])"
      ]
     },
     "execution_count": 9,
     "metadata": {},
     "output_type": "execute_result"
    }
   ],
   "source": [
    "pca.components_"
   ]
  },
  {
   "cell_type": "markdown",
   "metadata": {},
   "source": [
    "## - Estudio de la Varianza Acumulada\n",
    "\n",
    "\n",
    "* Una de las tareas importantes que debemos de hacer cuando realizamos un ejercicio de reducción de dimensionalidad es la de buscar el ***compromiso entre la reducción de la dimensionalidad y la perdida de información***.\n",
    "\n",
    "\n",
    "* Esto lo hacemos estudiando los valores singulare dados por la diagonal de la matriz 'S' del SVD en el que viendo la ***varianza acumulada*** podemos ver la relación entre el número de componentes que seleccionamos y la información que perdemos.\n",
    "\n",
    "\n",
    "* Para realizar este estudio, la clase **\"PCA()\"** tiene un atributo de clase llamado **\".explained_variance_ratio_\"** que nos devuelve en una lista la varianza acumulada por componente.\n",
    "\n",
    "\n",
    "* Veamos a continuación como realizar el estudio de la varianza acumulada y poder tomar la decisión de cuantas componentes tomar:\n"
   ]
  },
  {
   "cell_type": "code",
   "execution_count": 10,
   "metadata": {},
   "outputs": [
    {
     "name": "stdout",
     "output_type": "stream",
     "text": [
      "['0.80', '0.89', '0.96', '1.00', '1.00']\n"
     ]
    }
   ],
   "source": [
    "pca = PCA()\n",
    "pca.fit(A)\n",
    "\n",
    "varianza_acumulada = np.cumsum(pca.explained_variance_ratio_)\n",
    "print(['{:.2f}'.format(i) for i in varianza_acumulada])"
   ]
  },
  {
   "cell_type": "markdown",
   "metadata": {},
   "source": [
    "* Una vez que tenemos la lista con las varianzas acumuladas, las dibujamos en una gráfica de lineas para valorar el número de componentes a seleccionar:"
   ]
  },
  {
   "cell_type": "code",
   "execution_count": 11,
   "metadata": {},
   "outputs": [
    {
     "data": {
      "image/png": "[encoded data removed]",
      "text/plain": [
       "<Figure size 432x288 with 1 Axes>"
      ]
     },
     "metadata": {
      "needs_background": "light"
     },
     "output_type": "display_data"
    }
   ],
   "source": [
    "# Dibujamos la varianza acumulada\n",
    "fig, ax = plt.subplots(figsize=(6, 4))\n",
    "ax.plot(np.insert(varianza_acumulada, 0, 0))\n",
    "ax.set_xlabel('Número de componentes')\n",
    "ax.set_xlabel('Varianza acumulada (%)')\n",
    "ax.set_title('Varianza Acumulada Vs Nº Componentes')\n",
    "ax.grid()\n",
    "plt.show()"
   ]
  },
  {
   "cell_type": "markdown",
   "metadata": {},
   "source": [
    "## - IMPORTANTE: $PCA(X) = SVD(X-\\overline{X_i})$\n",
    "\n",
    "\n",
    "* La clase PCA de Scikit implementa la técnica matemática del SVD para obtener el Dataset reducido de variables latentes, pero para realizar este cálculo no usa la matriz con el Dataset original, si no que ***transforma el Dataset original, restandole a cada valor de la variable, el valor medio de esa variable***; es decir que $PCA(X) = SVD(X-\\overline{X_i})$.\n",
    "\n",
    "\n",
    "* Para obtener el resultado del SVD Scikit tiene implementada la clase **\"TruncatedSVD()\"**, cuya documentación está en el siguiente enlace:<br>\n",
    "https://scikit-learn.org/stable/modules/generated/sklearn.decomposition.TruncatedSVD.html\n",
    "\n",
    "\n",
    "* En el ejemplo anterior del PCA con Scikit, se puede observar como los resultados del modelo (por ejemplo con los valores singulares) no son iguales al obtenidos con el SVD de scipy y eso es porque le resta a cada valor de la variable su media.\n",
    "\n",
    "\n",
    "* Veamos a continuación como haciendo **\"PCA()\"** con la matriz de ejemplo 'A' para 3 componentes, obtenemos los resultados que haciendo el \"***TruncatedSVD***\" con la matriz de ejemplo 'A' restandole la media de la variable a cada valor (matriz 'B') para 3 componentes, obtenemos los mismos resultados:"
   ]
  },
  {
   "cell_type": "code",
   "execution_count": 12,
   "metadata": {},
   "outputs": [],
   "source": [
    "A = np.array([[3, 6, 1, 6, 2],\n",
    "              [9, 1, 11, 3, 21],\n",
    "              [1, 2, 3, 7, 2], \n",
    "              [2, 9, 2, 4, 6],\n",
    "              [3, 2, 1, 2, 7],\n",
    "              [9, 3, 2, 5, 6]])\n",
    "\n",
    "B = np.array([[-1.50, 2.17, -2.33, 1.50, -5.33],\n",
    "              [4.50, -2.83, 7.67, -1.50, 13.67],\n",
    "              [-3.50, -1.83, -0.33, 2.50, -5.33],\n",
    "              [-2.50, 5.17, -1.33, -0.50, -1.33],\n",
    "              [-1.50, -1.83, -2.33, -2.50, -0.33],\n",
    "              [4.50, -0.83, -1.33, 0.50, -1.33]])"
   ]
  },
  {
   "cell_type": "code",
   "execution_count": 13,
   "metadata": {},
   "outputs": [
    {
     "name": "stdout",
     "output_type": "stream",
     "text": [
      "Matriz Uk·Sk:\n",
      "[[-6.42  0.45  0.68]\n",
      " [16.58  0.41 -0.79]\n",
      " [-5.6  -2.07 -3.54]\n",
      " [-3.33  4.99  0.86]\n",
      " [-1.08 -0.56 -0.99]\n",
      " [-0.15 -3.22  3.77]]\n",
      "\n",
      "Valores Singulares:\n",
      "[18.96  6.34  5.44]\n",
      "\n",
      "Matriz Vk traspuesta:\n",
      "[[ 0.31 -0.18  0.42 -0.12  0.82]\n",
      " [-0.44  0.82  0.04 -0.19  0.3 ]\n",
      " [ 0.82  0.45 -0.35 -0.09 -0.05]]\n"
     ]
    }
   ],
   "source": [
    "from sklearn.decomposition import PCA\n",
    "\n",
    "pca = PCA(n_components=3)\n",
    "pca.fit(A)\n",
    "print(\"Matriz Uk·Sk:\\n{}\".format(pca.transform(A)))\n",
    "print(\"\\nValores Singulares:\\n{}\".format(pca.singular_values_))\n",
    "print(\"\\nMatriz Vk traspuesta:\\n{}\".format(pca.components_))"
   ]
  },
  {
   "cell_type": "code",
   "execution_count": 14,
   "metadata": {},
   "outputs": [
    {
     "name": "stdout",
     "output_type": "stream",
     "text": [
      "Matriz Uk·Sk:\n",
      "[[-6.41  0.45  0.68]\n",
      " [16.58  0.42 -0.79]\n",
      " [-5.59 -2.06 -3.54]\n",
      " [-3.32  4.99  0.86]\n",
      " [-1.08 -0.56 -0.99]\n",
      " [-0.15 -3.22  3.77]]\n",
      "\n",
      "Valores Singulares:\n",
      "[18.96  6.34  5.44]\n",
      "\n",
      "Matriz Vk traspuesta:\n",
      "[[ 0.31 -0.18  0.42 -0.12  0.82]\n",
      " [-0.44  0.82  0.04 -0.19  0.3 ]\n",
      " [ 0.82  0.45 -0.35 -0.09 -0.05]]\n"
     ]
    }
   ],
   "source": [
    "from sklearn.decomposition import TruncatedSVD\n",
    "\n",
    "truncated_svd = TruncatedSVD(n_components=3)\n",
    "truncated_svd.fit(B)\n",
    "print(\"Matriz Uk·Sk:\\n{}\".format(truncated_svd.transform(B)))\n",
    "print(\"\\nValores Singulares:\\n{}\".format(truncated_svd.singular_values_))\n",
    "print(\"\\nMatriz Vk traspuesta:\\n{}\".format(truncated_svd.components_))"
   ]
  },
  {
   "cell_type": "markdown",
   "metadata": {},
   "source": [
    "* Tambien podemos ver como haciendo el \"***TruncatedSVD***\" con la matriz de ejemplo 'A' obtenemos los resultados del SVD (como en el primer ejemplo visto con scipy):"
   ]
  },
  {
   "cell_type": "code",
   "execution_count": 15,
   "metadata": {},
   "outputs": [
    {
     "name": "stdout",
     "output_type": "stream",
     "text": [
      "Matriz Uk·Sk:\n",
      "[[ 6.03  7.03  0.32]\n",
      " [24.71 -6.41 -0.63]\n",
      " [ 5.35  4.33  1.33]\n",
      " [ 9.14  6.31 -4.04]\n",
      " [ 7.9   0.15 -0.56]\n",
      " [10.99  3.1   4.36]]\n",
      "\n",
      "Valores Singulares:\n",
      "[30.7  12.6   6.16]\n",
      "\n",
      "Matriz Vk traspuesta:\n",
      "[[ 0.41  0.22  0.36  0.27  0.76]\n",
      " [ 0.05  0.7  -0.2   0.59 -0.34]\n",
      " [ 0.69 -0.54 -0.07  0.37 -0.32]]\n"
     ]
    }
   ],
   "source": [
    "truncated_svd = TruncatedSVD(n_components=3)\n",
    "truncated_svd.fit(A)\n",
    "print(\"Matriz Uk·Sk:\\n{}\".format(truncated_svd.transform(A)))\n",
    "print(\"\\nValores Singulares:\\n{}\".format(truncated_svd.singular_values_))\n",
    "print(\"\\nMatriz Vk traspuesta:\\n{}\".format(truncated_svd.components_))"
   ]
  },
  {
   "cell_type": "markdown",
   "metadata": {},
   "source": [
    "<hr>\n",
    "\n",
    "\n",
    "# <a name=\"M4\">Bonus Track - SVD: Cálculo Analítico</a>\n",
    "\n",
    "\n",
    "* Dada una matriz donde:\n",
    "    - Las filas representan a las observaciones ('n' Observaciones o elementos)\n",
    "    - Las columnas representan a las variables ('m' variables)\n",
    "    \n",
    "    \n",
    "* Podemos descomponer esa matriz en tres matrices ***U***, ***S*** y ***V***, cuyo producto matricial es la matriz original ***A***.\n",
    "\n",
    "$$\\begin{bmatrix}\n",
    " &  &  &  &  &  & \\\\ \n",
    " &  &  &  &  &  & \\\\ \n",
    " &  &  & A &  &  & \\\\ \n",
    " &  &  & _{nxm} &  &  & \\\\ \n",
    " &  &  &  &  &  & \n",
    "\\end{bmatrix} =  \\begin{bmatrix}\n",
    " &  &  &  & \\\\ \n",
    " &  &  &  & \\\\ \n",
    " &  & U &  & \\\\ \n",
    " &  & _{nxn} &  & \\\\ \n",
    " &  &  &  & \n",
    "\\end{bmatrix} \\cdot \\begin{bmatrix}\n",
    " &  &  &  &  &  & \\\\ \n",
    " &  &  &  &  &  & \\\\ \n",
    " &  &  & S &  &  & \\\\ \n",
    " &  &  & _{nxm} &  &  & \\\\ \n",
    " &  &  &  &  &  & \n",
    "\\end{bmatrix} \\cdot \\begin{bmatrix}\n",
    " &  &  &  &  &  & \\\\ \n",
    " &  &  &  &  &  & \\\\ \n",
    " &  &  & V^{t} &  &  & \\\\ \n",
    " &  &  & _{mxm} &  &  & \\\\ \n",
    " &  &  &  &  &  & \\\\ \n",
    " &  &  &  &  &  & \\\\ \n",
    " &  &  &  &  &  & \n",
    "\\end{bmatrix} $$\n",
    "\n",
    "\n",
    "* Cada una de estas matrices va a contener la siguiente información:\n",
    "\n",
    "    * ***Matriz U***: Contiene los valores de los ***factores latentes de las observaciones***.\n",
    "    * ***Matriz V***: Contiene los valores de los ***factores latentes de las variables***.\n",
    "    * ***Matriz S***: Matriz en cuya diagonal estan los llamados ***Valores singulares*** que tienen que ser valores decrecientes y no negativos. Los valores de la diagonal representan la importancia que tienen cada uno de los factores latentes sobre las observaciones y las variables.\n",
    "\n",
    "<hr>\n",
    "\n",
    "\n",
    "# Cálculo Analítico: de las matrices U, S y V\n",
    "\n",
    "### Cálculo de la matriz U\n",
    "\n",
    "1. Se multiplica la matriz ***A*** por su traspuesta (***A·A <sup>T</sup>***) para obtener una matriz cuadrada de dimensión ***nxn***\n",
    "\n",
    "\n",
    "2. Se calculan los autovalores de la matriz cuadrada (***A<sub>1</sub> = A·A <sup>T</sup>***) a partir de su polinómio característico:\n",
    "\n",
    "$$det(A_{1}-\\lambda I) = 0$$\n",
    "\n",
    "\n",
    "3. Se calculan los autovectores asociados a cada autovalor (en orden decreciente por autovalor)\n",
    "\n",
    "\n",
    "### Cálculo de la matriz S\n",
    "\n",
    "\n",
    "1. Obtenidos los autovalores tras el cálculo de la matriz ***A***, se pone en la diagonal de la matriz ***S*** la raiz cuadrada del los autovalores en orden decreciente. El resto de elementos de la matriz ***S*** tendrán valor ***0***\n",
    "\n",
    "\n",
    "### Cálculo de la matriz V\n",
    "\n",
    "1. Se multiplica ***A <sup>T</sup>·A*** para obtener una matriz cuadrada de dimensión ***mxm***\n",
    "\n",
    "\n",
    "2. Se calculan los autovectores asociados a cada autovalor (ya calculados) en orden descendente.\n",
    "\n",
    "$$det(A_{2}-\\lambda I) = 0$$\n",
    "\n",
    "<hr>\n",
    "\n",
    "## Ejemplo:\n",
    "\n",
    "\n",
    "* Supongamos que tenemos la siguiente matriz:\n",
    "\n",
    "$$\\begin{bmatrix}\n",
    "1 & 0 & 1\\\\ \n",
    "2 & 3 & 0\n",
    "\\end{bmatrix}$$\n",
    "\n",
    "### Cálculo de la matriz U:\n",
    "\n",
    "1. Calculamos ***A<sub>1</sub> = A·A <sup>T</sup>*** para obtener una matriz cuadrada de dimensión ***nxn***\n",
    "\n",
    "$$A_{1} = A \\cdot A' = \\begin{bmatrix}\n",
    "1 & 0 &1 \\\\ \n",
    "2 & 3 & 0\n",
    "\\end{bmatrix} \\cdot \\begin{bmatrix}\n",
    "1&2 \\\\ \n",
    "0 & 3\\\\ \n",
    "1 & 0\n",
    "\\end{bmatrix} = \\begin{bmatrix}\n",
    "2 & 2\\\\ \n",
    "2 & 13\n",
    "\\end{bmatrix}$$\n",
    "\n",
    "2. Cálculo de los autovalores de la matriz cuadrada (***A<sub>1</sub> = A·A <sup>T</sup>***) a partir de su polinómio característico:\n",
    "<br><br><br>\n",
    "$$det(A_{1}-\\lambda I) = \\begin{bmatrix}\n",
    "2 - \\lambda & 2\\\\ \n",
    "2 & 13 - \\lambda\n",
    "\\end{bmatrix} = (2  - \\lambda) \\cdot (13 - \\lambda) - 4 =  \\lambda^{2} - 15 \\lambda + 22$$\n",
    "\n",
    "<br>\n",
    "\n",
    "$$ \\lambda = \\frac{15\\pm \\sqrt{15^2 - 4 \\cdot 1 \\cdot 22}}{2\\cdot1} $$\n",
    "<br>\n",
    "$$\\lambda_{1} = 13,35 $$\n",
    "<br>\n",
    "$$\\lambda_{2} = 1,65 $$\n",
    "\n",
    "\n",
    "3. Se calculan los autovectores asociados a cada autovalor (en orden decreciente por autovalor)\n",
    "\n",
    "  * Autovalor 1 = 13,35\n",
    "\n",
    "\n",
    "$$\\begin{bmatrix}\n",
    "2 & 2\\\\ \n",
    "2 & 13\n",
    "\\end{bmatrix} \\cdot \\begin{bmatrix}\n",
    "x\\\\y\n",
    "\\end{bmatrix} = 13,35 \\cdot \\begin{bmatrix}\n",
    "x\\\\y\n",
    "\\end{bmatrix}$$\n",
    "\n",
    "<br>\n",
    "\n",
    "$$ \\begin{matrix}\n",
    "2x + 2y = 13,35x\n",
    "\\\\ \n",
    "2x + 13y = 13,35y\n",
    "\\end{matrix} $$\n",
    "\n",
    "<br>\n",
    "\n",
    "$$ -11,35x + 2y = 0; \\: si \\:  x = 1; \\:  y = \\frac{11,35}{2} = 5,675$$\n",
    "\n",
    "<br>\n",
    "\n",
    "$$Normalizo \\: \\rightarrow \\sqrt{1^2  + 5,675^2} = 5,848$$\n",
    "\n",
    "<br>\n",
    "\n",
    "$$Autovector (1) \\: = \\left [ \\frac{1}{5,848} \\:\\: \\frac{5,675}{5,848} \\right ] = \\left [ 0,17 \\:\\:\\: 0,98\\right ]$$\n",
    "\n",
    "   * Para el autovalor 2 realizo los mismos pasos y obtengo el siguiente resultado:\n",
    "   \n",
    "$$\\begin{bmatrix}\n",
    "2 & 2\\\\ \n",
    "2 & 13\n",
    "\\end{bmatrix} \\cdot \\begin{bmatrix}\n",
    "x\\\\y\n",
    "\\end{bmatrix} = 1,65 \\cdot \\begin{bmatrix}\n",
    "x\\\\y\n",
    "\\end{bmatrix}$$ \n",
    "\n",
    "<br>\n",
    "\n",
    "$$Autovector (2) \\: = \\left [ 0,98 \\:\\:\\: -0,17 \\right ]$$\n",
    "\n",
    "\n",
    "<br>\n",
    "\n",
    "* Por tanto la matriz U quedaría:\n",
    "\n",
    "$$U = \\begin{bmatrix}\n",
    "0,17 & 0,98\\\\ \n",
    "0,98 & -0,17\n",
    "\\end{bmatrix}$$\n",
    "\n",
    "### Cálculo de la matriz S\n",
    "\n",
    "\n",
    "1. Como ya se tienen calculados los autovalores obtenidos tras el cálculo de la matriz ***U***, nos es facil obtener la matriz ***S*** que tendrá en la diagonal la raiz cuadrada de los autovalores colocados de manera decreciente:\n",
    "\n",
    "\n",
    "$$ S = \\begin{bmatrix}\n",
    "\\sqrt{13,35} & 0 & 0 \\\\ \n",
    "0 & \\sqrt{1,65} & 0\n",
    "\\end{bmatrix} = \\begin{bmatrix}\n",
    "3,65 & 0 & 0 \\\\ \n",
    "0 & 1,28 & 0\n",
    "\\end{bmatrix} $$\n",
    "\n",
    "\n",
    "### Cálculo de la matriz V\n",
    "\n",
    "1. Se multiplica ***A <sup>T</sup>·A*** para obtener una matriz cuadrada de dimensión ***mxm***\n",
    "\n",
    "$$A_{2} = A' \\cdot A = \\begin{bmatrix}\n",
    "1&2 \\\\ \n",
    "0 & 3\\\\ \n",
    "1 & 0\n",
    "\\end{bmatrix} \\cdot \\begin{bmatrix}\n",
    "1 & 0 &1 \\\\ \n",
    "2 & 3 & 0\n",
    "\\end{bmatrix} = \\begin{bmatrix}\n",
    "5 & 6 & 1 \\\\ \n",
    "6 & 9 & 0 \\\\ \n",
    "1 & 0 & 1\n",
    "\\end{bmatrix}$$\n",
    "\n",
    "2. Se calculan los autovectores asociados a cada autovalor (ya calculados) en orden descendente.\n",
    "\n",
    "    - Autovalores:\n",
    "<br>\n",
    "$$\\lambda_{1} = 13,35 $$\n",
    "<br>\n",
    "$$\\lambda_{2} = 1,65 $$\n",
    "\n",
    "* Calculamos los autovectores a partir de su polinomio característico (para estos cálculos no mostramos el procedimiento):\n",
    "\n",
    "$$\\begin{bmatrix}\n",
    "5 & 6 & 1 \\\\ \n",
    "6 & 9 & 0 \\\\ \n",
    "1 & 0 & 1\n",
    "\\end{bmatrix} \\cdot \\begin{bmatrix}\n",
    "x\\\\y\\\\z\n",
    "\\end{bmatrix} = 13,35 \\cdot \\begin{bmatrix}\n",
    "x\\\\y\\\\z\n",
    "\\end{bmatrix}$$\n",
    "\n",
    "<br>\n",
    "\n",
    "$$Autovector (1) \\: = \\left [ 0,58 \\:\\:\\: 0,49 \\:\\: -0,64\\right ]$$\n",
    "\n",
    "<br>\n",
    "\n",
    "$$\\begin{bmatrix}\n",
    "5 & 6 & 1 \\\\ \n",
    "6 & 9 & 0 \\\\ \n",
    "1 & 0 & 1\n",
    "\\end{bmatrix} \\cdot \\begin{bmatrix}\n",
    "x\\\\y\\\\z\n",
    "\\end{bmatrix} = 1,65 \\cdot \\begin{bmatrix}\n",
    "x\\\\y\\\\z\n",
    "\\end{bmatrix}$$\n",
    "\n",
    "<br>\n",
    "\n",
    "$$Autovector (2) \\: = \\left [ 0,81 \\:\\: -0,41 \\:\\: 0,43\\right ]$$\n",
    "\n",
    "<br>\n",
    "\n",
    "$$\\begin{bmatrix}\n",
    "5 & 6 & 1 \\\\ \n",
    "6 & 9 & 0 \\\\ \n",
    "1 & 0 & 1\n",
    "\\end{bmatrix} \\cdot \\begin{bmatrix}\n",
    "x\\\\y\\\\z\n",
    "\\end{bmatrix} = 0 \\cdot \\begin{bmatrix}\n",
    "x\\\\y\\\\z\n",
    "\\end{bmatrix}$$\n",
    "\n",
    "<br>\n",
    "\n",
    "$$Autovector (3) \\: = \\left [ 0,05 \\:\\: 0,77 \\:\\: 0,64\\right ]$$\n",
    "\n",
    "* Por tanto la matriz V quedaría:\n",
    "\n",
    "$$V = \\begin{bmatrix}\n",
    "0,58 & 0,49 & -0,64 \\\\ \n",
    "0,81 & -0,41 & 0,43 \\\\ \n",
    "0,05 & -0,77 & 0,64\n",
    "\\end{bmatrix}$$\n",
    "\n",
    "\n",
    "## La Descomposición Matricial quedaría:\n",
    "\n",
    "$$\\begin{bmatrix}\n",
    "1 & 0 &1 \\\\ \n",
    "2 & 3 & 0\n",
    "\\end{bmatrix} = \\begin{bmatrix}\n",
    "0,17 & 0,98\\\\ \n",
    "0,98 & -0,17\n",
    "\\end{bmatrix} \\cdot \\begin{bmatrix}\n",
    "3,65 & 0 & 0 \\\\ \n",
    "0 & 1,28 & 0\n",
    "\\end{bmatrix} \\cdot \\begin{bmatrix}\n",
    "0,58 & 0,81 & 0,05 \\\\ \n",
    "0,49 & -0,41 & 0,77 \\\\ \n",
    "-0,64 & 0,43 & 0,64\n",
    "\\end{bmatrix}$$"
   ]
  },
  {
   "cell_type": "markdown",
   "metadata": {},
   "source": [
    "<hr>\n",
    "\n",
    "*Este Notebook ha sido desarrollado por **Ricardo Moya García** y registrado en Safe Creative como ***Atribución-NoComercial-CompartirIgual***.*\n",
    "\n",
    "<img src=\"./imgs/CC_BY-NC-SA.png\" alt=\"CC BY-NC\">"
   ]
  }
 ],
 "metadata": {
  "kernelspec": {
   "display_name": "Python 3",
   "language": "python",
   "name": "python3"
  },
  "language_info": {
   "codemirror_mode": {
    "name": "ipython",
    "version": 3
   },
   "file_extension": ".py",
   "mimetype": "text/x-python",
   "name": "python",
   "nbconvert_exporter": "python",
   "pygments_lexer": "ipython3",
   "version": "3.6.10"
  }
 },
 "nbformat": 4,
 "nbformat_minor": 2
}

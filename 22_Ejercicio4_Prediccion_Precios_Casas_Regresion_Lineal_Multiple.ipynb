{
 "cells": [
  {
   "cell_type": "markdown",
   "metadata": {},
   "source": [
    "# 22 - Ejercicio 4: Prediccion Precios Casas Regresion Lineal Multiple\n",
    "\n",
    "\n",
    "* El objetivo de este ejercicio es el de obtener una predicción de los precios de las casas, conocidas unas características de las mismas y su precio.\n",
    "\n",
    "\n",
    "* Sobre el Dataset se tienen las siguientes características:\n",
    "    1. pies_cuadrados_casa\n",
    "    2. num_baños\n",
    "    3. num_habitaciones\n",
    "    4. num_cocinas\n",
    "    5. num_coches_garaje\n",
    "    6. pies_cuadrados_garaje\n",
    "    7. precio_dolares\n",
    "\n",
    "\n",
    "* En este ejercicio ***se realizará una regresión lineal Múltiple***, tomando como ***variables independientes todas aquellas que se quieran dentro del Dataset*** y como ***variable dependiente el precio***.\n",
    "\n",
    "\n",
    "* Para realizar este ejercicio se pide:\n",
    "<span></span><br>\n",
    "    1. ***Carga de datos***\n",
    "<span></span><br>\n",
    "    2. ***Cambio de estructura de datos a numpy*** para el uso de Scikit-Learn\n",
    "<span></span><br>\n",
    "    3. ***Visualizar de las relaciones entre variables***\n",
    "<span></span><br>\n",
    "    4. ***Creacción del modelo y ajuste del mismo***\n",
    "<span></span><br>\n",
    "    5. ***Obtención del modelo***\n",
    "<span></span><br>\n",
    "    6. ***Medición de la calidad de los resultados***: Obtención del Coeficiente de Determinación R<sup>2</sup>\n",
    "\n",
    "<hr>\n",
    "\n",
    "\n",
    "* En primer lugar vamos a importar las librería necesarias:\n",
    "\n"
   ]
  },
  {
   "cell_type": "code",
   "execution_count": 1,
   "metadata": {},
   "outputs": [],
   "source": [
    "import numpy as np\n",
    "import pandas as pd\n",
    "import matplotlib.pyplot as plt\n",
    "import seaborn as sns\n",
    "from sklearn import linear_model\n",
    "%matplotlib inline "
   ]
  },
  {
   "cell_type": "markdown",
   "metadata": {},
   "source": [
    "<hr>\n",
    "\n",
    "\n",
    "### 1. Carga de Datos\n",
    "\n",
    "\n",
    "* Los datos se encuentran en el fichero: ***\"./data/precio_casas.csv\"***"
   ]
  },
  {
   "cell_type": "code",
   "execution_count": 2,
   "metadata": {},
   "outputs": [],
   "source": [
    "# TODO"
   ]
  },
  {
   "cell_type": "markdown",
   "metadata": {},
   "source": [
    "<hr>\n",
    "\n",
    "\n",
    "### 2. Cambio de estructura de datos a numpy"
   ]
  },
  {
   "cell_type": "code",
   "execution_count": 3,
   "metadata": {},
   "outputs": [],
   "source": [
    "# TODO"
   ]
  },
  {
   "cell_type": "markdown",
   "metadata": {},
   "source": [
    "<hr>\n",
    "\n",
    "\n",
    "### 3. Visualización de las relaciones entre variables"
   ]
  },
  {
   "cell_type": "code",
   "execution_count": 4,
   "metadata": {},
   "outputs": [],
   "source": [
    "# TODO"
   ]
  },
  {
   "cell_type": "markdown",
   "metadata": {},
   "source": [
    "<hr>\n",
    "\n",
    "\n",
    "### 4. Creacción del modelo y ajuste del mismo"
   ]
  },
  {
   "cell_type": "code",
   "execution_count": 5,
   "metadata": {},
   "outputs": [],
   "source": [
    "# TODO"
   ]
  },
  {
   "cell_type": "markdown",
   "metadata": {},
   "source": [
    "<hr>\n",
    "\n",
    "\n",
    "### 5. Obtención del modelo"
   ]
  },
  {
   "cell_type": "code",
   "execution_count": 6,
   "metadata": {},
   "outputs": [],
   "source": [
    "# TODO"
   ]
  },
  {
   "cell_type": "markdown",
   "metadata": {},
   "source": [
    "<hr>\n",
    "\n",
    "\n",
    "### 6. Medición de la calidad de los resultados: Obtención del Coeficiente de Determinación R<sup>2</sup>"
   ]
  },
  {
   "cell_type": "code",
   "execution_count": 7,
   "metadata": {},
   "outputs": [],
   "source": [
    "# TODO"
   ]
  },
  {
   "cell_type": "markdown",
   "metadata": {},
   "source": [
    "<hr>\n",
    "\n",
    "*Este Notebook ha sido desarrollado por **Ricardo Moya García** y registrado en Safe Creative como ***Atribución-NoComercial-CompartirIgual***.*\n",
    "\n",
    "<img src=\"./imgs/CC_BY-NC-SA.png\" alt=\"CC BY-NC\">"
   ]
  }
 ],
 "metadata": {
  "kernelspec": {
   "display_name": "Python 3",
   "language": "python",
   "name": "python3"
  },
  "language_info": {
   "codemirror_mode": {
    "name": "ipython",
    "version": 3
   },
   "file_extension": ".py",
   "mimetype": "text/x-python",
   "name": "python",
   "nbconvert_exporter": "python",
   "pygments_lexer": "ipython3",
   "version": "3.6.10"
  }
 },
 "nbformat": 4,
 "nbformat_minor": 2
}

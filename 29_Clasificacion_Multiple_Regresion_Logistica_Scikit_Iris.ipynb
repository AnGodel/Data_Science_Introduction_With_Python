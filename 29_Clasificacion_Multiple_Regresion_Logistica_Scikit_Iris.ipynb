{
 "cells": [
  {
   "cell_type": "markdown",
   "metadata": {},
   "source": [
    "# 29 - Clasificación Múltiple:  Regresión Logística con Scikit-Learn\n",
    "\n",
    "\n",
    "* En este Notebook vamos a resolver un problema de ***Clasificación Múltiple con las Regresión Logística usando la librería de Scikit-Learn***.\n",
    "\n",
    "\n",
    "* Para resolver el problema de Clasificación vamos a utilizar la clase **\"LogisticRegression()\"**, cuya documentación esta en el siguiente enlace:<br>\n",
    "https://scikit-learn.org/stable/modules/generated/sklearn.linear_model.LogisticRegression.html\n",
    "\n",
    "\n",
    "* El ejemplo con el que vamos a trabajar, consiste en ***clasificar tres tipos de flores, conociendo el tamaños del sépalo*** de la flor.\n",
    "\n",
    "\n",
    "* A diferencia de la Clasificación Binaria en el que obtenemos un solo modelo (una sola función de decisión), ***en la Clasificación múltiple obtenemos tantos modelos como clases tengamos que clasificar***.\n",
    "\n",
    "\n",
    "* Esto es debido a que la clasificación que hace la Regresión Logística (y también otros algoritmos de aprendizaje de clasificación) es ***discernir una clase con el resto de clases***; o dicho de otra manera más gráfica, ***definir tantas \"lineas\" (Decision Boundaries) como clases haya*** para separar esa clase del resto de clases y asi con todas:\n",
    "\n",
    "\n",
    "<img src=\"./imgs/28_01_cls.png\" style=\"width: 500px;\"/>\n",
    "\n",
    "\n",
    "* Por tanto el objetivo es encontrar los parámetros $\\beta_0, \\beta_1, \\beta_2$ para tres funciones de decisión:\n",
    "<span></span><br><br>\n",
    "<span style=\"font-size:16px\">$$Flor\\;1 = \\beta^{1}_0 + \\beta^{1}_1 \\cdot SepalLenght + \\beta^{1}_2 \\cdot SepalWith$$</span>\n",
    "<span></span><br><br>\n",
    "<span style=\"font-size:16px\">$$Flor\\;2 = \\beta^{2}_0 + \\beta^{2}_1 \\cdot SepalLenght + \\beta^{2}_2 \\cdot SepalWith$$</span>\n",
    "<span></span><br><br>\n",
    "<span style=\"font-size:16px\">$$Flor\\;3 = \\beta^{3}_0 + \\beta^{3}_1 \\cdot SepalLenght + \\beta^{3}_2 \\cdot SepalWith$$</span>\n",
    "    \n",
    "    \n",
    "* Aplicando estas funciones de decisión a una logística, podremos saber la probabilidad de pertenencia de cada flor a cada una de las clases de la siguiente manera:\n",
    "<span></span><br><br>\n",
    "<span style=\"font-size:16px\">$$P(Y=Flor\\;1|SepalLenght,SepalWith) = \\frac{1}{1 + e^{-(\\beta^{1}_0 + \\beta^{1}_1 \\cdot SepalLenght + \\beta^{1}_2 \\cdot SepalWith)}}$$</span>\n",
    "<span></span><br><br>\n",
    "<span style=\"font-size:16px\">$$P(Y=Flor\\;2|SepalLenght,SepalWith) = \\frac{1}{1 + e^{-(\\beta^{2}_0 + \\beta^{2}_1 \\cdot SepalLenght + \\beta^{2}_2 \\cdot SepalWith)}}$$</span>\n",
    "<span></span><br><br>\n",
    "<span style=\"font-size:16px\">$$P(Y=Flor\\;3|SepalLenght,SepalWith) = \\frac{1}{1 + e^{-(\\beta^{3}_0 + \\beta^{3}_1 \\cdot SepalLenght + \\beta^{3}_2 \\cdot SepalWith)}}$$</span>\n",
    "    \n",
    "\n",
    "* ***Daremos como predicción para una nueva flor, aquella clase que mayor probabilidad dé***.\n",
    "\n",
    "\n",
    "* Para resolver este problema vamos a realizar los siguientes pasos:\n",
    "<span></span><br>\n",
    "    1. [Carga de datos](#M1)\n",
    "<span></span><br>\n",
    "    2. [Cambio de estructura de datos a numpy y transformación de las etiquetas a números](#M2)\n",
    "<span></span><br>\n",
    "    3. [Visualización de los datos](#M3)\n",
    "<span></span><br>\n",
    "    4. [Creacción del modelo (hipótesis) y ajuste](#M4)\n",
    "<span></span><br>\n",
    "    5. [Obtención del modelo (hipótesis)](#M5)\n",
    "<span></span><br>\n",
    "    6. [Visualización de los resultados](#M6)\n",
    "<span></span><br>\n",
    "    7. [Cálculo de predicción](#M7)\n",
    "\n",
    "\n",
    "* En primer lugar vamos a importar las librería necesarias:\n",
    "\n",
    "<hr>\n",
    "\n"
   ]
  },
  {
   "cell_type": "code",
   "execution_count": 1,
   "metadata": {},
   "outputs": [],
   "source": [
    "import warnings\n",
    "warnings.filterwarnings(\"ignore\")\n",
    "\n",
    "import math\n",
    "import numpy as np\n",
    "import pandas as pd\n",
    "import matplotlib.pyplot as plt\n",
    "import seaborn as sns\n",
    "from sklearn.linear_model import LogisticRegression\n",
    "from sklearn import preprocessing\n",
    "%matplotlib inline "
   ]
  },
  {
   "cell_type": "markdown",
   "metadata": {},
   "source": [
    "<hr>\n",
    "\n",
    "\n",
    "## <a name=\"M1\">1. Carga de datos</a>\n",
    "\n",
    "\n",
    "* El primer paso que vamos a realizar es el de cargar los datos que los tenemos en el siguiente fichero:\n",
    "    - ***DataSet***: \"./data/iris/iris.csv\"\n",
    "\n",
    "\n",
    "* Para ello ***leeremos el csv con pandas*** (pasandolo a un dataframe), teniendo las siguientes columnas que nos interesan para el problema a resolver\n",
    "    - ***class***: Clase de la flor (Iris-versicolor, Iris-setosa)\n",
    "    - ***sepal_length***: El \"largo\" del Sepalo\n",
    "    - ***sepal_width***: El \"ancho\" del Sepalo\n"
   ]
  },
  {
   "cell_type": "code",
   "execution_count": 2,
   "metadata": {},
   "outputs": [
    {
     "data": {
      "text/html": [
       "<div>\n",
       "<style scoped>\n",
       "    .dataframe tbody tr th:only-of-type {\n",
       "        vertical-align: middle;\n",
       "    }\n",
       "\n",
       "    .dataframe tbody tr th {\n",
       "        vertical-align: top;\n",
       "    }\n",
       "\n",
       "    .dataframe thead th {\n",
       "        text-align: right;\n",
       "    }\n",
       "</style>\n",
       "<table border=\"1\" class=\"dataframe\">\n",
       "  <thead>\n",
       "    <tr style=\"text-align: right;\">\n",
       "      <th></th>\n",
       "      <th>sepal_length</th>\n",
       "      <th>sepal_width</th>\n",
       "      <th>petal_length</th>\n",
       "      <th>petal_width</th>\n",
       "      <th>class</th>\n",
       "    </tr>\n",
       "  </thead>\n",
       "  <tbody>\n",
       "    <tr>\n",
       "      <th>67</th>\n",
       "      <td>5.8</td>\n",
       "      <td>2.7</td>\n",
       "      <td>4.1</td>\n",
       "      <td>1.0</td>\n",
       "      <td>Iris-versicolor</td>\n",
       "    </tr>\n",
       "    <tr>\n",
       "      <th>101</th>\n",
       "      <td>5.8</td>\n",
       "      <td>2.7</td>\n",
       "      <td>5.1</td>\n",
       "      <td>1.9</td>\n",
       "      <td>Iris-virginica</td>\n",
       "    </tr>\n",
       "    <tr>\n",
       "      <th>85</th>\n",
       "      <td>6.0</td>\n",
       "      <td>3.4</td>\n",
       "      <td>4.5</td>\n",
       "      <td>1.6</td>\n",
       "      <td>Iris-versicolor</td>\n",
       "    </tr>\n",
       "    <tr>\n",
       "      <th>17</th>\n",
       "      <td>5.1</td>\n",
       "      <td>3.5</td>\n",
       "      <td>1.4</td>\n",
       "      <td>0.3</td>\n",
       "      <td>Iris-setosa</td>\n",
       "    </tr>\n",
       "    <tr>\n",
       "      <th>144</th>\n",
       "      <td>6.7</td>\n",
       "      <td>3.3</td>\n",
       "      <td>5.7</td>\n",
       "      <td>2.5</td>\n",
       "      <td>Iris-virginica</td>\n",
       "    </tr>\n",
       "  </tbody>\n",
       "</table>\n",
       "</div>"
      ],
      "text/plain": [
       "     sepal_length  sepal_width  petal_length  petal_width            class\n",
       "67            5.8          2.7           4.1          1.0  Iris-versicolor\n",
       "101           5.8          2.7           5.1          1.9   Iris-virginica\n",
       "85            6.0          3.4           4.5          1.6  Iris-versicolor\n",
       "17            5.1          3.5           1.4          0.3      Iris-setosa\n",
       "144           6.7          3.3           5.7          2.5   Iris-virginica"
      ]
     },
     "execution_count": 2,
     "metadata": {},
     "output_type": "execute_result"
    }
   ],
   "source": [
    "df = pd.read_csv(\"./data/iris/iris.csv\")\n",
    "df.sample(5)"
   ]
  },
  {
   "cell_type": "markdown",
   "metadata": {},
   "source": [
    "<hr>\n",
    "\n",
    "\n",
    "## <a name=\"M2\">2. Cambio de estructura de datos a numpy y transformación de las etiquetas a números</a>\n",
    "\n",
    "\n",
    "* Scikit necesita como entrada para el ajuste (o entrenamiento) del modelo los datos del Dataset de la siguiente forma:\n",
    "<span></span><br><br>\n",
    "    - ***Variables de entrada X***: ***Array de Arrays de numpy*** en el que cada array tiene las variables de entrada de un elemento.\n",
    "<span></span><br><br>\n",
    "    - ***Variable de salida y*** (solo para aprendizaje supervisado): ***Array de numpy*** en el que cada posición del array contiene la salida o el valor esperado del elemento del Dataset.\n",
    "\n",
    "\n",
    "* Por tanto, vamos a pasar los datos las flores a una nueva estructura de datos para que scikit-learn puedan trabajar con los datos:\n",
    "<span></span><br><br>\n",
    "    - Las ***columnas sepal_length y sepal_width*** representan las variables de entrada y las vamos a pasar a un array de array (***numpy array***)\n",
    "<span></span><br><br>\n",
    "    - La ***columna class*** que representa la clase (o variable de salida) y la vamos a pasar a un ***numpy array***\n",
    "    \n",
    "    \n",
    "* Por otro lado tenemos que transformar la clase de la flor a números, por lo que utilizaremos la clase ***LabelEncoder()*** para transformar las etiquetas de las clases a números, siendo esta transformación:\n",
    "\n",
    "    - ***0***: ***Iris-Setosa***\n",
    "    - ***1***: ***Iris-Versicolor***\n",
    "    - ***2***: ***Iris-Virginica***"
   ]
  },
  {
   "cell_type": "code",
   "execution_count": 3,
   "metadata": {},
   "outputs": [],
   "source": [
    "from sklearn import preprocessing\n",
    "\n",
    "X = df[['sepal_length', 'sepal_width']].values   # Obtengo el alto y ancho del sepalo\n",
    "y_labels = df['class'].values                    # Obtengo las etiquetas\n",
    "\n",
    "\n",
    "le = preprocessing.LabelEncoder()     # Instancio un objeto de la clase LabelEncoder()\n",
    "y = le.fit_transform(y_labels)        # Transformo las etiquetas a números"
   ]
  },
  {
   "cell_type": "markdown",
   "metadata": {},
   "source": [
    "<hr>\n",
    "\n",
    "\n",
    "## <a name=\"M3\">3. Visualización de los datos</a>\n",
    "\n",
    "\n",
    "* A continuación vamos a ver la relación que hay entre las dos variables de los tres tipos de flores.\n",
    "\n",
    "\n",
    "* Se puede observar como la clase Iris-Setosa se diferencia bien sobre las otras dos clases, pero es complicado diferenciar las clases Iris-Versicolor e Iris-Virginica entre ellas.\n"
   ]
  },
  {
   "cell_type": "code",
   "execution_count": 4,
   "metadata": {},
   "outputs": [
    {
     "data": {
      "text/plain": [
       "<matplotlib.axes._subplots.AxesSubplot at 0x1a1cfc0048>"
      ]
     },
     "execution_count": 4,
     "metadata": {},
     "output_type": "execute_result"
    },
    {
     "data": {
      "image/png": "[encoded data removed]",
      "text/plain": [
       "<Figure size 432x288 with 1 Axes>"
      ]
     },
     "metadata": {
      "needs_background": "light"
     },
     "output_type": "display_data"
    }
   ],
   "source": [
    "sns.swarmplot(x=\"sepal_length\", y=\"sepal_width\", hue=\"class\", data = df, palette=\"husl\")"
   ]
  },
  {
   "cell_type": "markdown",
   "metadata": {},
   "source": [
    "<hr>\n",
    "\n",
    "\n",
    "## <a name=\"M4\">4. Creacción del modelo (hipótesis) y ajuste</a>\n",
    "\n",
    "\n",
    "* A continuación pasamos a crear un objeto de la clase \"***LogisticRegression()***\" para la resolución del problema de clasificación.\n",
    "\n",
    "\n",
    "* Una vez instanciado, procedemos a ajustar (entrenar) el modelo (o hipótesis) llamando al método ***fit(X,y)*** que recibe como parámetros el conjunto de datos de las variables de entrada 'X' y la variable de salida 'Y'."
   ]
  },
  {
   "cell_type": "code",
   "execution_count": 5,
   "metadata": {},
   "outputs": [
    {
     "data": {
      "text/plain": [
       "LogisticRegression(C=1.0, class_weight=None, dual=False, fit_intercept=True,\n",
       "          intercept_scaling=1, max_iter=50, multi_class='ovr', n_jobs=None,\n",
       "          penalty='l2', random_state=None, solver='liblinear', tol=0.0001,\n",
       "          verbose=0, warm_start=False)"
      ]
     },
     "execution_count": 5,
     "metadata": {},
     "output_type": "execute_result"
    }
   ],
   "source": [
    "# Creamos un objeto de la clase LogisticRegression pasandole una serie de parámetros\n",
    "logreg = LogisticRegression(solver='liblinear', multi_class='ovr', max_iter=50)\n",
    "\n",
    "# Entrenamos el modelo siendo la 'X' el tamaño del sepalo e 'y' el tipo de flor\n",
    "logreg.fit(X, y)"
   ]
  },
  {
   "cell_type": "markdown",
   "metadata": {},
   "source": [
    "<hr>\n",
    "\n",
    "\n",
    "## <a name=\"M5\">5. Obtención del modelo (hipótesis)</a>\n",
    "\n",
    "\n",
    "* El objeto de la clase ***LogisticRegression*** nos proporciona los resultados de los parámetros $\\beta_n$ por medio de los atributos de la clase:\n",
    "<span></span><br><br>\n",
    "    - ***coef_***: Nos devuelve en una matriz los parámetros del $\\beta_1$ al $\\beta_n$ para cada una de las funciones de decisión.\n",
    "<span></span><br><br>\n",
    "    - ***intercept_***: Nos devuelve una lista con los parámetros ***$\\beta_0$*** para cada una de las funciones de decisión.\n",
    "    \n",
    "\n",
    "* Obteniendo estos valores podemos obtener el modelo generado:"
   ]
  },
  {
   "cell_type": "code",
   "execution_count": 6,
   "metadata": {},
   "outputs": [
    {
     "name": "stdout",
     "output_type": "stream",
     "text": [
      "\n",
      "Iris-setosa: Z = 0.82 + -2.50 · sepal_length + 4.01 · sepal_width\n",
      "\n",
      "Iris-versicolor: Z = 1.23 + 0.50 · sepal_length + -1.63 · sepal_width\n",
      "\n",
      "Iris-virginica: Z = -2.23 + 1.16 · sepal_length + -1.78 · sepal_width\n"
     ]
    }
   ],
   "source": [
    "b0 = logreg.intercept_\n",
    "b = logreg.coef_\n",
    "\n",
    "\n",
    "print(\"\\nIris-setosa: Z = {b0:0.2f} + {b1:0.2f} · sepal_length + {b2:0.2f} · sepal_width\"\n",
    "      .format(b0=b0[0], b1=b[0,0], b2=b[0,1]))\n",
    "\n",
    "print(\"\\nIris-versicolor: Z = {b0:0.2f} + {b1:0.2f} · sepal_length + {b2:0.2f} · sepal_width\"\n",
    "      .format(b0=b0[1], b1=b[1,0], b2=b[1,1]))\n",
    "\n",
    "print(\"\\nIris-virginica: Z = {b0:0.2f} + {b1:0.2f} · sepal_length + {b2:0.2f} · sepal_width\"\n",
    "      .format(b0=b0[2], b1=b[2,0], b2=b[2,1]))"
   ]
  },
  {
   "cell_type": "markdown",
   "metadata": {},
   "source": [
    "<hr>\n",
    "\n",
    "\n",
    "## <a name=\"M6\">6. Visualización de los resultados</a>\n",
    "\n",
    "\n",
    "* A continuación pasamos a representar en un espacio de dos dimensiones como clasificaría nuestro modelo en ese espacio 2D y como clasifica los puntos del Dataset con el que ha entrenado:\n",
    "\n",
    "\n",
    "* En primer lugar vamos a definir una malla de puntos (\"meshgrid\") que se utilizará para pintar las regiones de cada clase. El objetivo de construir esta malla es la de predecir cada punto de la malla como si fuesen los datos de entrada de una flor con esos valores de alto y ancho.\n",
    "\n",
    "\n",
    "* Para ello miramos los valores máximos y mínimos de los tamaños de la flor para acotar la región a pintar y posteriormente generamos el conjunto de puntos a predecir, llamando a la función **\"predict(X)\"**\n"
   ]
  },
  {
   "cell_type": "code",
   "execution_count": 7,
   "metadata": {},
   "outputs": [],
   "source": [
    "x_min, x_max = X[:, 0].min() - .5, X[:, 0].max() + .5\n",
    "y_min, y_max = X[:, 1].min() - .5, X[:, 1].max() + .5\n",
    "h = .01\n",
    "xx, yy = np.meshgrid(np.arange(x_min, x_max, h), np.arange(y_min, y_max, h))\n",
    "\n",
    "# Predicción de cada uno de los puntos de la malla\n",
    "Z = logreg.predict(np.c_[xx.ravel(), yy.ravel()])"
   ]
  },
  {
   "cell_type": "markdown",
   "metadata": {},
   "source": [
    "* Pasamos a pintar las regiones de cada clase así como los datos del dataset.\n",
    "\n",
    "\n",
    "* De manera visual, podemos ver como el modelo generado es capaz de clasificar bastante bien las flores de la clase verde (Iris-Setosa), pero no es capaz de clasificar bien las flores de las clases Iris-Versicolor(color verde claro) e Iris-Virginica (color gris)."
   ]
  },
  {
   "cell_type": "code",
   "execution_count": 8,
   "metadata": {},
   "outputs": [
    {
     "data": {
      "image/png": "[encoded data removed]",
      "text/plain": [
       "<Figure size 576x432 with 1 Axes>"
      ]
     },
     "metadata": {
      "needs_background": "light"
     },
     "output_type": "display_data"
    }
   ],
   "source": [
    "Z = Z.reshape(xx.shape)\n",
    "plt.figure(1, figsize=(8, 6))\n",
    "\n",
    "# Dibujamos la malla con los diferentes colores\n",
    "plt.pcolormesh(xx, yy, Z, cmap=plt.cm.Pastel2)\n",
    "\n",
    "\n",
    "# Dibujamos los puntos (flores) del dataset\n",
    "plt.scatter(X[:, 0], X[:, 1], c=y, edgecolors='k', cmap=plt.cm.Pastel2)\n",
    "\n",
    "plt.title('Clasificación de las Flores')\n",
    "plt.xlabel('Sepal length')\n",
    "plt.ylabel('Sepal width')\n",
    "plt.show()"
   ]
  },
  {
   "cell_type": "markdown",
   "metadata": {},
   "source": [
    "<hr>\n",
    "\n",
    "\n",
    "## <a name=\"M7\">7. Cálculo de Predicción</a>\n",
    "\n",
    "\n",
    "* A continuación vamos a ver como predecir la clase de una Flor usando la librería de Scikit con el método \".predict(flor)\" y como obtener esa misma predicción aplicando del modelo obtenido.\n",
    "\n",
    "\n",
    "* Para ello seleccionemos una flor del Dataset, que para este ejemplo vamos a seleccionar la flor:\n",
    "    - Class: Iris-Setosa\n",
    "    - Sepal_lenght: 4.9\n",
    "    - Sepal_With: 3.0\n"
   ]
  },
  {
   "cell_type": "code",
   "execution_count": 9,
   "metadata": {},
   "outputs": [
    {
     "name": "stdout",
     "output_type": "stream",
     "text": [
      "Flor: X=[4.9 3. ] - y=0 - Clase = ['Iris-setosa']\n"
     ]
    }
   ],
   "source": [
    "X_flor = X[1]\n",
    "y_flor = y[1]\n",
    "\n",
    "print('Flor: X={} - y={} - Clase = {}'.format(X_flor, y_flor, le.inverse_transform([y_flor])))"
   ]
  },
  {
   "cell_type": "markdown",
   "metadata": {},
   "source": [
    "* A continuación vamos a ver cual es la predicción que nos devuelve Scikit-Learn.\n",
    "\n",
    "\n",
    "* Vamos también cuales son los parámetros de la función de decisión y cual es el resultado de esa función de decisión para cada clase:"
   ]
  },
  {
   "cell_type": "code",
   "execution_count": 10,
   "metadata": {},
   "outputs": [
    {
     "name": "stdout",
     "output_type": "stream",
     "text": [
      "Predicción -> Pertenece a la clase [0]\n",
      "Predicción Etiquetada -> Pertenece a la clase ['Iris-setosa']\n",
      "Probabilidad de pertenencia a cada clase: \n",
      "\tIris-Setosa: 0.62\n",
      "\tIris-Versicolor: -1.24\n",
      "\tIris-Virginica: -1.88\n"
     ]
    }
   ],
   "source": [
    "prediccion = logreg.predict([X_flor])\n",
    "probabilidades = logreg.decision_function([X_flor])\n",
    "\n",
    "print('Predicción -> Pertenece a la clase {}'.format(prediccion))\n",
    "print('Predicción Etiquetada -> Pertenece a la clase {}'.format(le.inverse_transform(prediccion)))\n",
    "print('Probabilidad de pertenencia a cada clase: ' + \\\n",
    "      '\\n\\tIris-Setosa: {:0.2f}\\n\\tIris-Versicolor: {:0.2f}\\n\\tIris-Virginica: {:0.2f}' \\\n",
    "     .format(probabilidades[0,0], probabilidades[0,1], probabilidades[0,2]))"
   ]
  },
  {
   "cell_type": "markdown",
   "metadata": {},
   "source": [
    "* A continuación vamos a calcular la probabilidad de esa flor para cada clase aplicando la función de decisión a una función sigmoidal:"
   ]
  },
  {
   "cell_type": "code",
   "execution_count": 11,
   "metadata": {},
   "outputs": [
    {
     "name": "stdout",
     "output_type": "stream",
     "text": [
      "Probabilidad de pertenencia a cada clase: \n",
      "\tIris-Setosa: 0.65\n",
      "\tIris-Versicolor: 0.22\n",
      "\tIris-Virginica: 0.13\n"
     ]
    }
   ],
   "source": [
    "# Obtenemos los parámetros\n",
    "b0 = logreg.intercept_\n",
    "b = logreg.coef_\n",
    "\n",
    "# Calculamos las probabilidades\n",
    "prob_setosa = 1 / (1 + math.exp(-1 * (b0[0] + (b[0,0] * X_flor[0]) + (b[0,1] * X_flor[1]))))\n",
    "prob_versicolor = 1 / (1 + math.exp(-1 * (b0[1] + (b[1,0] * X_flor[0]) + (b[1,1] * X_flor[1]))))\n",
    "prob_virginica = 1 / (1 + math.exp(-1 * (b0[2] + (b[2,0] * X_flor[0]) + (b[2,1] * X_flor[1]))))\n",
    "\n",
    "# Imprimimos las probabilidades\n",
    "print('Probabilidad de pertenencia a cada clase: ' + \\\n",
    "      '\\n\\tIris-Setosa: {:0.2f}\\n\\tIris-Versicolor: {:0.2f}\\n\\tIris-Virginica: {:0.2f}' \\\n",
    "     .format(prob_setosa, prob_versicolor, prob_virginica))"
   ]
  },
  {
   "cell_type": "markdown",
   "metadata": {},
   "source": [
    "* Veamos como realizamos esos cálculos con detalle:"
   ]
  },
  {
   "cell_type": "code",
   "execution_count": 12,
   "metadata": {},
   "outputs": [
    {
     "name": "stdout",
     "output_type": "stream",
     "text": [
      "\n",
      "Iris-Setosa \n",
      "  Z =  0.82 + -2.50·4.90 + 4.01·3.00 = 0.62\n",
      "  g(Z) =  1 / 1 + e^-(0.62) = 0.65\n",
      "\n",
      "Iris-Versicolor \n",
      "  Z =  1.23 + 0.50·4.90 + -1.63·3.00 = -1.24\n",
      "  g(Z) =  1 / 1 + e^-(-1.24) = 0.22\n",
      "\n",
      "Iris-Virginica \n",
      "  Z =  -2.23 + 1.16·4.90 + -1.78·4.90 = -1.88\n",
      "  g(Z) =  1 / 1 + e^-(-1.88) = 0.13\n"
     ]
    }
   ],
   "source": [
    "z_setosa = b0[0] + (b[0,0] * X_flor[0]) + (b[0,1] * X_flor[1])\n",
    "z_versicolor = b0[1] + (b[1,0] * X_flor[0]) + (b[1,1] * X_flor[1])\n",
    "z_virginica = b0[2] + (b[2,0] * X_flor[0]) + (b[2,1] * X_flor[1])\n",
    "\n",
    "prob_setosa = 1 / (1 + math.exp(-1 * (z_setosa)))\n",
    "prob_versicolor = 1 / (1 + math.exp(-1 * (z_versicolor)))\n",
    "prob_virginica = 1 / (1 + math.exp(-1 * (z_virginica)))\n",
    "\n",
    "\n",
    "# Imprimimos por pantalla la información de cada cálculo\n",
    "print('\\nIris-Setosa ')\n",
    "print('  Z =  {:0.2f} + {:0.2f}·{:0.2f} + {:0.2f}·{:0.2f} = {:0.2f}'.\n",
    "      format(b0[0], b[0,0], X_flor[0], b[0,1], X_flor[1], z_setosa))\n",
    "print('  g(Z) =  1 / 1 + e^-({:0.2f}) = {:0.2f}'.format(z_setosa, 1 / (1 + math.exp(-1 * z_setosa))))\n",
    "\n",
    "\n",
    "print('\\nIris-Versicolor ')\n",
    "print('  Z =  {:0.2f} + {:0.2f}·{:0.2f} + {:0.2f}·{:0.2f} = {:0.2f}'.\n",
    "      format(b0[1], b[1,0], X_flor[0], b[1,1], X_flor[1], z_versicolor))\n",
    "print('  g(Z) =  1 / 1 + e^-({:0.2f}) = {:0.2f}'.format(z_versicolor, 1 / (1 + math.exp(-1 * z_versicolor))))\n",
    "\n",
    "\n",
    "print('\\nIris-Virginica ')\n",
    "print('  Z =  {:0.2f} + {:0.2f}·{:0.2f} + {:0.2f}·{:0.2f} = {:0.2f}'.\n",
    "      format(b0[2], b[2,0], X_flor[0], b[2,1], X_flor[0], z_virginica))\n",
    "print('  g(Z) =  1 / 1 + e^-({:0.2f}) = {:0.2f}'.format(z_virginica, 1 / (1 + math.exp(-1 * z_virginica))))"
   ]
  },
  {
   "cell_type": "markdown",
   "metadata": {},
   "source": [
    "<hr>\n",
    "\n",
    "*Este Notebook ha sido desarrollado por **Ricardo Moya García** y registrado en Safe Creative como ***Atribución-NoComercial-CompartirIgual***.*\n",
    "\n",
    "<img src=\"./imgs/CC_BY-NC-SA.png\" alt=\"CC BY-NC\">"
   ]
  }
 ],
 "metadata": {
  "kernelspec": {
   "display_name": "Python 3",
   "language": "python",
   "name": "python3"
  },
  "language_info": {
   "codemirror_mode": {
    "name": "ipython",
    "version": 3
   },
   "file_extension": ".py",
   "mimetype": "text/x-python",
   "name": "python",
   "nbconvert_exporter": "python",
   "pygments_lexer": "ipython3",
   "version": "3.6.10"
  }
 },
 "nbformat": 4,
 "nbformat_minor": 2
}

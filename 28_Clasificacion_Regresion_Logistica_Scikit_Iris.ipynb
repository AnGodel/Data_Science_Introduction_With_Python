{
 "cells": [
  {
   "cell_type": "markdown",
   "metadata": {},
   "source": [
    "# 28 - Clasificación:  Regresión Logística con Scikit-Learn\n",
    "\n",
    "\n",
    "* En este Notebook vamos a resolver un problema de ***Clasificación Binaria con las Regresión Logística usando la librería de Scikit-Learn***.\n",
    "\n",
    "\n",
    "* Para resolver el problema de Clasificación vamos a utilizar la clase **\"LogisticRegression()\"**, cuya documentación esta en el siguiente enlace:<br>\n",
    "https://scikit-learn.org/stable/modules/generated/sklearn.linear_model.LogisticRegression.html\n",
    "\n",
    "\n",
    "* El ejemplo con el que vamos a trabajar, consiste en ***clasificar dos tipos de flores, conociendo el tamaños del sépalo*** de la flor.\n",
    "\n",
    "\n",
    "* El objetivo es encontrar los parámetros $\\beta_0, \\beta_1, \\beta_2$ que mejor se ajustan a esos datos, para que podamos discernir una clase u otra a partir de la siguiente función de decisión:\n",
    "\n",
    "<span style=\"font-size:16px\">$$Z = \\beta_0 + \\beta_1 \\cdot SepalLenght + \\beta_2 \\cdot SepalWith$$</span>\n",
    "    \n",
    "    \n",
    "* Aplicando el resultado de la función de decisión a una logística podremos saber la probabilidad de pertenencia de cada flor a una clase u otra de la siguiente manera:\n",
    "<span></span><br><br>\n",
    "<span style=\"font-size:16px\">$$P(Y=1|X_1,X_2) = \\frac{1}{1 + e^{-(\\beta_0 + \\beta_1 \\cdot X_1 + \\beta_2 \\cdot X_2)}}$$</span>\n",
    "<span></span><br><br>\n",
    "<span style=\"font-size:16px\">$$P(Y=0|X_1,X_2) = 1 - \\frac{1}{1 + e^{-(\\beta_0 + \\beta_1 \\cdot X_1 + \\beta_2 \\cdot X_2)}}$$</span>\n",
    "\n",
    "\n",
    "* Para resolver este problema vamos a realizar los siguientes pasos:\n",
    "<span></span><br>\n",
    "    1. [Carga de datos](#M1)\n",
    "<span></span><br>\n",
    "    2. [Cambio de estructura de datos a numpy y transformación de las etiquetas a números](#M2)\n",
    "<span></span><br>\n",
    "    3. [Visualización de los datos](#M3)\n",
    "<span></span><br>\n",
    "    4. [Creacción del modelo (hipótesis) y ajuste](#M4)\n",
    "<span></span><br>\n",
    "    5. [Obtención del modelo (hipótesis)](#M5)\n",
    "<span></span><br>\n",
    "    6. [Visualización de los resultados](#M6)\n",
    "\n",
    "\n",
    "* En primer lugar vamos a importar las librería necesarias:\n",
    "\n",
    "<hr>\n",
    "\n"
   ]
  },
  {
   "cell_type": "code",
   "execution_count": 1,
   "metadata": {},
   "outputs": [],
   "source": [
    "import warnings\n",
    "warnings.filterwarnings(\"ignore\")\n",
    "\n",
    "import numpy as np\n",
    "import pandas as pd\n",
    "import matplotlib.pyplot as plt\n",
    "import seaborn as sns\n",
    "from sklearn.linear_model import LogisticRegression\n",
    "from sklearn import preprocessing\n",
    "%matplotlib inline "
   ]
  },
  {
   "cell_type": "markdown",
   "metadata": {},
   "source": [
    "<hr>\n",
    "\n",
    "\n",
    "## <a name=\"M1\">1. Carga de datos</a>\n",
    "\n",
    "\n",
    "* El primer paso que vamos a realizar es el de cargar los datos que los tenemos en el siguiente fichero:\n",
    "    - ***DataSet***: \"./data/iris/iris_2_categorias.csv\"\n",
    "\n",
    "\n",
    "* Para ello ***leeremos el csv con pandas*** (pasandolo a un dataframe), teniendo las siguientes columnas que nos interesan para el problema a resolver\n",
    "    - ***class***: Clase de la flor (Iris-versicolor, Iris-setosa)\n",
    "    - ***sepal_length***: El \"largo\" del Sepalo\n",
    "    - ***sepal_width***: El \"ancho\" del Sepalo\n"
   ]
  },
  {
   "cell_type": "code",
   "execution_count": 2,
   "metadata": {},
   "outputs": [
    {
     "data": {
      "text/html": [
       "<div>\n",
       "<style scoped>\n",
       "    .dataframe tbody tr th:only-of-type {\n",
       "        vertical-align: middle;\n",
       "    }\n",
       "\n",
       "    .dataframe tbody tr th {\n",
       "        vertical-align: top;\n",
       "    }\n",
       "\n",
       "    .dataframe thead th {\n",
       "        text-align: right;\n",
       "    }\n",
       "</style>\n",
       "<table border=\"1\" class=\"dataframe\">\n",
       "  <thead>\n",
       "    <tr style=\"text-align: right;\">\n",
       "      <th></th>\n",
       "      <th>sepal_length</th>\n",
       "      <th>sepal_width</th>\n",
       "      <th>petal_length</th>\n",
       "      <th>petal_width</th>\n",
       "      <th>class</th>\n",
       "    </tr>\n",
       "  </thead>\n",
       "  <tbody>\n",
       "    <tr>\n",
       "      <th>54</th>\n",
       "      <td>6.5</td>\n",
       "      <td>2.8</td>\n",
       "      <td>4.6</td>\n",
       "      <td>1.5</td>\n",
       "      <td>Iris-versicolor</td>\n",
       "    </tr>\n",
       "    <tr>\n",
       "      <th>38</th>\n",
       "      <td>4.4</td>\n",
       "      <td>3.0</td>\n",
       "      <td>1.3</td>\n",
       "      <td>0.2</td>\n",
       "      <td>Iris-setosa</td>\n",
       "    </tr>\n",
       "    <tr>\n",
       "      <th>20</th>\n",
       "      <td>5.4</td>\n",
       "      <td>3.4</td>\n",
       "      <td>1.7</td>\n",
       "      <td>0.2</td>\n",
       "      <td>Iris-setosa</td>\n",
       "    </tr>\n",
       "    <tr>\n",
       "      <th>30</th>\n",
       "      <td>4.8</td>\n",
       "      <td>3.1</td>\n",
       "      <td>1.6</td>\n",
       "      <td>0.2</td>\n",
       "      <td>Iris-setosa</td>\n",
       "    </tr>\n",
       "    <tr>\n",
       "      <th>67</th>\n",
       "      <td>5.8</td>\n",
       "      <td>2.7</td>\n",
       "      <td>4.1</td>\n",
       "      <td>1.0</td>\n",
       "      <td>Iris-versicolor</td>\n",
       "    </tr>\n",
       "  </tbody>\n",
       "</table>\n",
       "</div>"
      ],
      "text/plain": [
       "    sepal_length  sepal_width  petal_length  petal_width            class\n",
       "54           6.5          2.8           4.6          1.5  Iris-versicolor\n",
       "38           4.4          3.0           1.3          0.2      Iris-setosa\n",
       "20           5.4          3.4           1.7          0.2      Iris-setosa\n",
       "30           4.8          3.1           1.6          0.2      Iris-setosa\n",
       "67           5.8          2.7           4.1          1.0  Iris-versicolor"
      ]
     },
     "execution_count": 2,
     "metadata": {},
     "output_type": "execute_result"
    }
   ],
   "source": [
    "df = pd.read_csv(\"./data/iris/iris_2_categorias.csv\")\n",
    "df.sample(5)"
   ]
  },
  {
   "cell_type": "markdown",
   "metadata": {},
   "source": [
    "<hr>\n",
    "\n",
    "\n",
    "## <a name=\"M2\">2. Cambio de estructura de datos a numpy y transformación de las etiquetas a números</a>\n",
    "\n",
    "\n",
    "* Scikit necesita como entrada para el ajuste (o entrenamiento) del modelo los datos del Dataset de la siguiente forma:\n",
    "<span></span><br><br>\n",
    "    - ***Variables de entrada X***: ***Array de Arrays de numpy*** en el que cada array tiene las variables de entrada de un elemento.\n",
    "<span></span><br><br>\n",
    "    - ***Variable de salida y*** (solo para aprendizaje supervisado): ***Array de numpy*** en el que cada posición del array contiene la salida o el valor esperado del elemento del Dataset.\n",
    "\n",
    "\n",
    "* Por tanto, vamos a pasar los datos las flores a una nueva estructura de datos para que scikit-learn puedan trabajar con los datos:\n",
    "<span></span><br><br>\n",
    "    - Las ***columnas sepal_length y sepal_width*** representan las variables de entrada y las vamos a pasar a un array de array (***numpy array***)\n",
    "<span></span><br><br>\n",
    "    - La ***columna class*** que representa la clase (o variable de salida) y la vamos a pasar a un ***numpy array***\n",
    "    \n",
    "    \n",
    "* Por otro lado tenemos que transformar la clase de la flor a números, por lo que utilizaremos la clase ***LabelEncoder()*** para transformar las etiquetas de las clases a números:"
   ]
  },
  {
   "cell_type": "code",
   "execution_count": 3,
   "metadata": {},
   "outputs": [],
   "source": [
    "from sklearn import preprocessing\n",
    "\n",
    "X = df[['sepal_length', 'sepal_width']].values   # Obtengo el alto y ancho del sepalo\n",
    "y_labels = df['class'].values                    # Obtengo las etiquetas\n",
    "\n",
    "\n",
    "le = preprocessing.LabelEncoder()     # Instancio un objeto de la clase LabelEncoder()\n",
    "y = le.fit_transform(y_labels)        # Transformo las etiquetas a números"
   ]
  },
  {
   "cell_type": "markdown",
   "metadata": {},
   "source": [
    "<hr>\n",
    "\n",
    "\n",
    "## <a name=\"M3\">3. Visualización de los datos</a>\n",
    "\n",
    "\n",
    "* A continuación vamos a ver la relación que hay entre las dos variables de los dos tipos de flores, en la que podemos observar como podemos trazar una linea (Decision Boundary) entre las dos clases para separarlas:\n"
   ]
  },
  {
   "cell_type": "code",
   "execution_count": 4,
   "metadata": {},
   "outputs": [
    {
     "data": {
      "text/plain": [
       "<matplotlib.axes._subplots.AxesSubplot at 0x1a23632d68>"
      ]
     },
     "execution_count": 4,
     "metadata": {},
     "output_type": "execute_result"
    },
    {
     "data": {
      "image/png": "[encoded data removed]",
      "text/plain": [
       "<Figure size 432x288 with 1 Axes>"
      ]
     },
     "metadata": {
      "needs_background": "light"
     },
     "output_type": "display_data"
    }
   ],
   "source": [
    "sns.swarmplot(x=\"sepal_length\", y=\"sepal_width\", hue=\"class\", data = df, palette=\"husl\")"
   ]
  },
  {
   "cell_type": "markdown",
   "metadata": {},
   "source": [
    "<hr>\n",
    "\n",
    "\n",
    "## <a name=\"M4\">4. Creacción del modelo (hipótesis) y ajuste</a>\n",
    "\n",
    "\n",
    "* A continuación pasamos a crear un objeto de la clase \"***LogisticRegression()***\" para la resolución del problema de clasificación.\n",
    "\n",
    "\n",
    "* Una vez instanciado, procedemos a ajustar (entrenar) el modelo (o hipótesis) llamando al método ***fit(X,y)*** que recibe como parámetros el conjunto de datos de las variables de entrada 'X' y la variable de salida 'Y'.\n",
    "\n",
    "\n",
    "* Una vez ajustado (o entrenado) el modelo (o hipótesis), tendremos ajustados los parámetros ***$\\beta_n$*** de la siguiente manera:\n",
    "\n",
    "<span style=\"font-size:16px\">$$Z = \\beta_0 + \\beta_1 \\cdot SepalLenght + \\beta_2 \\cdot SepalWith$$</span>\n"
   ]
  },
  {
   "cell_type": "code",
   "execution_count": 5,
   "metadata": {},
   "outputs": [
    {
     "data": {
      "text/plain": [
       "LogisticRegression(C=1.0, class_weight=None, dual=False, fit_intercept=True,\n",
       "          intercept_scaling=1, max_iter=50, multi_class='ovr', n_jobs=None,\n",
       "          penalty='l2', random_state=None, solver='liblinear', tol=0.0001,\n",
       "          verbose=0, warm_start=False)"
      ]
     },
     "execution_count": 5,
     "metadata": {},
     "output_type": "execute_result"
    }
   ],
   "source": [
    "# Creamos un objeto de la clase LogisticRegression pasandole una serie de parámetros\n",
    "logreg = LogisticRegression(solver='liblinear', multi_class='ovr', max_iter=50)\n",
    "\n",
    "# Entrenamos el modelo siendo la 'X' el tamaño del sepalo e 'y' el tipo de flor (0 = Iris-setosa, 1 = Iris-versicolor)\n",
    "logreg.fit(X, y)"
   ]
  },
  {
   "cell_type": "markdown",
   "metadata": {},
   "source": [
    "<hr>\n",
    "\n",
    "\n",
    "## <a name=\"M5\">5. Obtención del modelo (hipótesis)</a>\n",
    "\n",
    "\n",
    "* El objeto de la clase ***LogisticRegression*** nos proporciona los resultados de los parámetros $\\beta_n$ por medio de los atributos de la clase:\n",
    "<span></span><br><br>\n",
    "    - ***coef_***: Nos devuelve en una lista los parámetros del $\\beta_1$ al $\\beta_n$.\n",
    "<span></span><br><br>\n",
    "    - ***intercept_***: Nos devuelve el parámetro ***$\\beta_0$***\n",
    "    \n",
    "\n",
    "* Obteniendo estos valores podemos obtener el modelo generado:"
   ]
  },
  {
   "cell_type": "code",
   "execution_count": 6,
   "metadata": {},
   "outputs": [
    {
     "name": "stdout",
     "output_type": "stream",
     "text": [
      "Z = -0.60 + 2.22 · sepal_length + -3.69 · sepal_width\n"
     ]
    }
   ],
   "source": [
    "b0 = logreg.intercept_[0]\n",
    "b1 = logreg.coef_[0,0]\n",
    "b2 = logreg.coef_[0,1]\n",
    "\n",
    "print(\"Z = {b0:0.2f} + {b1:0.2f} · sepal_length + {b2:0.2f} · sepal_width\".format(b0=b0, b1=b1, b2=b2))"
   ]
  },
  {
   "cell_type": "markdown",
   "metadata": {},
   "source": [
    "<hr>\n",
    "\n",
    "\n",
    "## <a name=\"M6\">6. Visualización de los resultados</a>\n",
    "\n",
    "\n",
    "* A continuación pasamos a representar en un espacio de dos dimensiones cómo clasificaría nuestro modelo en ese espacio 2D y cómo clasifica los puntos del Dataset con el que ha entrenado:\n",
    "\n",
    "\n",
    "* En primer lugar vamos a definir una malla de puntos (\"meshgrid\") que se utilizará para pintar las regiones de cada clase. El objetivo de construir esta malla es la de predecir cada punto de la malla como si fuesen los datos de entrada de una flor con esos valores de alto y ancho.\n",
    "\n",
    "\n",
    "* Para ello miramos los valores máximos y mínimos de los tamaños de la flor para acotar la región a pintar y posteriormente generamos el conjunto de puntos a predecir, llamando a la función ***\"predict(X)\"***\n"
   ]
  },
  {
   "cell_type": "code",
   "execution_count": 7,
   "metadata": {},
   "outputs": [],
   "source": [
    "x_min, x_max = X[:, 0].min() - .5, X[:, 0].max() + .5\n",
    "y_min, y_max = X[:, 1].min() - .5, X[:, 1].max() + .5\n",
    "h = .01\n",
    "xx, yy = np.meshgrid(np.arange(x_min, x_max, h), np.arange(y_min, y_max, h))\n",
    "\n",
    "# Predicción de cada uno de los puntos de la malla\n",
    "Z = logreg.predict(np.c_[xx.ravel(), yy.ravel()])"
   ]
  },
  {
   "cell_type": "markdown",
   "metadata": {},
   "source": [
    "* Pasamos a pintar las regiones de cada clase así como los datos del dataset.\n",
    "\n",
    "\n",
    "* De manera visual, podemos ver como el modelo generado es capaz de clasificar correctamente todas las flores del Dataset excepto 1."
   ]
  },
  {
   "cell_type": "code",
   "execution_count": 8,
   "metadata": {},
   "outputs": [
    {
     "data": {
      "image/png": "[encoded data removed]",
      "text/plain": [
       "<Figure size 576x432 with 1 Axes>"
      ]
     },
     "metadata": {
      "needs_background": "light"
     },
     "output_type": "display_data"
    }
   ],
   "source": [
    "Z = Z.reshape(xx.shape)\n",
    "plt.figure(1, figsize=(8, 6))\n",
    "\n",
    "# Dibujamos la malla con los diferentes colores\n",
    "plt.pcolormesh(xx, yy, Z, cmap=plt.cm.Pastel1)\n",
    "\n",
    "\n",
    "# Dibujamos los puntos (flores) del dataset\n",
    "plt.scatter(X[:, 0], X[:, 1], c=y, edgecolors='k', cmap=plt.cm.Pastel1)\n",
    "\n",
    "plt.title('Clasificación de las Flores')\n",
    "plt.xlabel('Sepal length')\n",
    "plt.ylabel('Sepal width')\n",
    "plt.show()"
   ]
  },
  {
   "cell_type": "markdown",
   "metadata": {},
   "source": [
    "<hr>\n",
    "\n",
    "*Este Notebook ha sido desarrollado por **Ricardo Moya García** y registrado en Safe Creative como ***Atribución-NoComercial-CompartirIgual***.*\n",
    "\n",
    "<img src=\"./imgs/CC_BY-NC-SA.png\" alt=\"CC BY-NC\">"
   ]
  }
 ],
 "metadata": {
  "kernelspec": {
   "display_name": "Python 3",
   "language": "python",
   "name": "python3"
  },
  "language_info": {
   "codemirror_mode": {
    "name": "ipython",
    "version": 3
   },
   "file_extension": ".py",
   "mimetype": "text/x-python",
   "name": "python",
   "nbconvert_exporter": "python",
   "pygments_lexer": "ipython3",
   "version": "3.6.10"
  }
 },
 "nbformat": 4,
 "nbformat_minor": 2
}

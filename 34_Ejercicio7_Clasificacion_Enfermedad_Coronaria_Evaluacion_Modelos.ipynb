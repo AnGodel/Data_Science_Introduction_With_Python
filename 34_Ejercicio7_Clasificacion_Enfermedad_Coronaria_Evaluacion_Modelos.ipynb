{
 "cells": [
  {
   "cell_type": "markdown",
   "metadata": {},
   "source": [
    "# 34 - Ejercicio 7: Evaluación del Modelo de Clasificación de pacientes con enfermedades coronarias\n",
    "\n",
    "\n",
    "* El objetivo de este ejercicio es el de obtener un modelo capaz de predecir si un paciente tiene o no una enfermedad coronaria.\n",
    "\n",
    "\n",
    "* Sobre el Dataset se tienen las siguientes características:\n",
    "\n",
    "    - age: Edad en años\n",
    "    - sex: (1 = hombre; 0 = mujer)\n",
    "    - cp: Tipo de dolor en el pecho\n",
    "    - trestbps: Presión arterial\n",
    "    - chol: Colesterol\n",
    "    - fbs: (azúcar en sangre en ayunas> 120 mg / dl) (1 = verdadero; 0 = falso)\n",
    "    - restecg: Resultados electrocardiográficos en reposo\n",
    "    - thalach: Frecuencia cardíaca máxima alcanzada\n",
    "    - exang: Angina inducida por ejercicio (1 = sí; 0 = no)\n",
    "    - oldpeak: Depresión del ST inducida por el ejercicio relativo al descanso\n",
    "    - slope: Pendiente del segmento pico del ejercicio ST\n",
    "    - ca: Número de vasos principales (0-3) coloreados por flourosopía\n",
    "    - thal: 3 = normal; 6 = defecto fijo; 7 = defecto reversible\n",
    "    - target: 1 = Enfermo, 0 = Sano\n",
    "\n",
    "\n",
    "* En este ejercicio ***se realizará una regresión logística*** para que genere un modelo que sea capaz de clasificar a un paciente indicando si sufre o no una enfermendad coronaria.\n",
    "\n",
    "\n",
    "* Para ello hay que tomar las variables de entrada que se consideren y como variable de salida el target.\n",
    "\n",
    "\n",
    "* Para resolver este problema vamos a realizar los siguientes pasos:\n",
    "<span></span><br>\n",
    "    1. Carga de datos (Resuelto)\n",
    "<span></span><br>\n",
    "    2. Visualización de los datos  (Resuelto)\n",
    "<span></span><br>\n",
    "    3. ***Cambio de estructura de datos a numpy***.\n",
    "<span></span><br>\n",
    "    4. ***Particionado de datos en Entrenamiento y Test***.\n",
    "<span></span><br>\n",
    "    5. ***Creacción del modelo (hipótesis) y ajuste con los datos de Entrenamiento***.\n",
    "<span></span><br>\n",
    "    6. ***Evaluación del modelos con los datos de Entrenamiento y Test***. Se pide obtener las siguientes métricas:\n",
    "        + ***Accuracy***\n",
    "        + ***Precision***\n",
    "        + ***Recall***\n",
    "        + ***F1***\n",
    "        + ***Dibujar Matriz de confusión***\n",
    "\n",
    "\n",
    "<hr>\n",
    "\n",
    "\n",
    "* En primer lugar vamos a importar las librerías necesarias:"
   ]
  },
  {
   "cell_type": "code",
   "execution_count": null,
   "metadata": {},
   "outputs": [],
   "source": [
    "import warnings\n",
    "warnings.filterwarnings(\"ignore\")\n",
    "\n",
    "import math\n",
    "import numpy as np\n",
    "import pandas as pd\n",
    "import matplotlib.pyplot as plt\n",
    "import seaborn as sns\n",
    "import itertools\n",
    "from sklearn.linear_model import LogisticRegression\n",
    "from sklearn.model_selection import train_test_split\n",
    "from sklearn.metrics import confusion_matrix, accuracy_score, precision_score, recall_score, f1_score\n",
    "%matplotlib inline "
   ]
  },
  {
   "cell_type": "markdown",
   "metadata": {},
   "source": [
    "### 1. Carga de datos\n",
    "\n",
    "\n",
    "* Los datos se encuentran en el fichero: ***\"./data/heart_disease.csv\"***"
   ]
  },
  {
   "cell_type": "code",
   "execution_count": null,
   "metadata": {},
   "outputs": [],
   "source": [
    "df = pd.read_csv(\"./data/heart_disease.csv\")\n",
    "df.sample(5)"
   ]
  },
  {
   "cell_type": "markdown",
   "metadata": {},
   "source": [
    "<hr>\n",
    "\n",
    "\n",
    "### 2. Visualización de los datos\n"
   ]
  },
  {
   "cell_type": "code",
   "execution_count": null,
   "metadata": {},
   "outputs": [],
   "source": [
    "sns.pairplot(df, hue=\"target\", palette=\"husl\")"
   ]
  },
  {
   "cell_type": "markdown",
   "metadata": {},
   "source": [
    "<hr>\n",
    "\n",
    "\n",
    "### 3. Cambio de estructura de datos a numpy\n",
    "\n",
    "\n",
    "* En este ejemplo no será necesario transformar las etiquetas del target a números ya que de por si tienen valores 0 y 1.\n"
   ]
  },
  {
   "cell_type": "code",
   "execution_count": null,
   "metadata": {},
   "outputs": [],
   "source": [
    "# TODO                 "
   ]
  },
  {
   "cell_type": "markdown",
   "metadata": {},
   "source": [
    "<hr>\n",
    "\n",
    "\n",
    "### 4. Particionado de datos en Entrenamiento y Test.\n",
    "\n",
    "\n",
    "* 80% Datos de Entrenamiento\n",
    "* 20% Datos de Test\n"
   ]
  },
  {
   "cell_type": "code",
   "execution_count": null,
   "metadata": {},
   "outputs": [],
   "source": [
    "# TODO"
   ]
  },
  {
   "cell_type": "markdown",
   "metadata": {},
   "source": [
    "<hr>\n",
    "\n",
    "\n",
    "### 5. Creacción del modelo (hipótesis) y ajuste con los datos de Entrenamiento.\n"
   ]
  },
  {
   "cell_type": "code",
   "execution_count": null,
   "metadata": {},
   "outputs": [],
   "source": [
    "# TODO"
   ]
  },
  {
   "cell_type": "markdown",
   "metadata": {},
   "source": [
    "<hr>\n",
    "\n",
    "\n",
    "### 6. Evaluación del modelos con los datos de Entrenamiento y Test\n",
    "\n",
    "\n",
    "* Se pide obtener las siguientes métricas:\n",
    "    + ***Accuracy***\n",
    "    + ***Precision***\n",
    "    + ***Recall***\n",
    "    + ***F1***\n",
    "    + ***Dibujar Matriz de confusión***\n",
    "    "
   ]
  },
  {
   "cell_type": "code",
   "execution_count": null,
   "metadata": {},
   "outputs": [],
   "source": [
    "# TODO"
   ]
  },
  {
   "cell_type": "markdown",
   "metadata": {},
   "source": [
    "<hr>\n",
    "\n",
    "*Este Notebook ha sido desarrollado por **Ricardo Moya García** y registrado en Safe Creative como ***Atribución-NoComercial-CompartirIgual***.*\n",
    "\n",
    "<img src=\"./imgs/CC_BY-NC-SA.png\" alt=\"CC BY-NC\">"
   ]
  }
 ],
 "metadata": {
  "kernelspec": {
   "display_name": "Python 3",
   "language": "python",
   "name": "python3"
  },
  "language_info": {
   "codemirror_mode": {
    "name": "ipython",
    "version": 3
   },
   "file_extension": ".py",
   "mimetype": "text/x-python",
   "name": "python",
   "nbconvert_exporter": "python",
   "pygments_lexer": "ipython3",
   "version": "3.6.10"
  }
 },
 "nbformat": 4,
 "nbformat_minor": 2
}
